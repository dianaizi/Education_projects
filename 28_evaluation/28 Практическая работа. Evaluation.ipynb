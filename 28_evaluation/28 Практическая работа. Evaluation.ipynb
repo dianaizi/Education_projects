{
 "cells": [
  {
   "cell_type": "code",
   "execution_count": 1,
   "id": "af8b4dba-7f68-4f3e-a1d2-32b59fdf7fa0",
   "metadata": {
    "tags": []
   },
   "outputs": [],
   "source": [
    "import pandas as pd\n",
    "import matplotlib.pyplot as plt\n",
    "from matplotlib.ticker import FormatStrFormatter\n",
    "from sklearn.preprocessing import OneHotEncoder\n",
    "from sklearn.preprocessing import StandardScaler\n",
    "from sklearn.model_selection import train_test_split\n",
    "from sklearn.ensemble import RandomForestClassifier\n",
    "from sklearn.metrics import accuracy_score\n",
    "from sklearn.linear_model import LogisticRegression\n",
    "from sklearn.neural_network import MLPClassifier\n",
    "import pickle"
   ]
  },
  {
   "cell_type": "code",
   "execution_count": 2,
   "id": "f121e9a1-bf21-4a56-a282-7dd950d42101",
   "metadata": {
    "tags": []
   },
   "outputs": [
    {
     "data": {
      "text/plain": [
       "(10000, 20)"
      ]
     },
     "execution_count": 2,
     "metadata": {},
     "output_type": "execute_result"
    }
   ],
   "source": [
    "df = pd.read_csv('data/df_out.csv')\n",
    "df.shape"
   ]
  },
  {
   "cell_type": "code",
   "execution_count": 3,
   "id": "cf697f54-e3c8-4a64-be0a-52d490da2f55",
   "metadata": {
    "tags": []
   },
   "outputs": [
    {
     "data": {
      "text/html": [
       "<div>\n",
       "<style scoped>\n",
       "    .dataframe tbody tr th:only-of-type {\n",
       "        vertical-align: middle;\n",
       "    }\n",
       "\n",
       "    .dataframe tbody tr th {\n",
       "        vertical-align: top;\n",
       "    }\n",
       "\n",
       "    .dataframe thead th {\n",
       "        text-align: right;\n",
       "    }\n",
       "</style>\n",
       "<table border=\"1\" class=\"dataframe\">\n",
       "  <thead>\n",
       "    <tr style=\"text-align: right;\">\n",
       "      <th></th>\n",
       "      <th>id</th>\n",
       "      <th>url</th>\n",
       "      <th>region</th>\n",
       "      <th>region_url</th>\n",
       "      <th>price</th>\n",
       "      <th>year</th>\n",
       "      <th>manufacturer</th>\n",
       "      <th>model</th>\n",
       "      <th>fuel</th>\n",
       "      <th>odometer</th>\n",
       "      <th>title_status</th>\n",
       "      <th>transmission</th>\n",
       "      <th>image_url</th>\n",
       "      <th>description</th>\n",
       "      <th>state</th>\n",
       "      <th>lat</th>\n",
       "      <th>long</th>\n",
       "      <th>posting_date</th>\n",
       "      <th>price_category</th>\n",
       "      <th>date</th>\n",
       "    </tr>\n",
       "  </thead>\n",
       "  <tbody>\n",
       "    <tr>\n",
       "      <th>0</th>\n",
       "      <td>7308295377</td>\n",
       "      <td>https://chattanooga.craigslist.org/ctd/d/chatt...</td>\n",
       "      <td>chattanooga</td>\n",
       "      <td>https://chattanooga.craigslist.org</td>\n",
       "      <td>54990</td>\n",
       "      <td>2020.0</td>\n",
       "      <td>ram</td>\n",
       "      <td>2500 crew cab big horn</td>\n",
       "      <td>diesel</td>\n",
       "      <td>27442</td>\n",
       "      <td>clean</td>\n",
       "      <td>other</td>\n",
       "      <td>https://images.craigslist.org/00N0N_1xMPvfxRAI...</td>\n",
       "      <td>Carvana is the safer way to buy a car During t...</td>\n",
       "      <td>tn</td>\n",
       "      <td>35.060000</td>\n",
       "      <td>-85.250000</td>\n",
       "      <td>2021-04-17T12:30:50-0400</td>\n",
       "      <td>high</td>\n",
       "      <td>2021-04-17 16:30:50+00:00</td>\n",
       "    </tr>\n",
       "    <tr>\n",
       "      <th>1</th>\n",
       "      <td>7316380095</td>\n",
       "      <td>https://newjersey.craigslist.org/ctd/d/carlsta...</td>\n",
       "      <td>north jersey</td>\n",
       "      <td>https://newjersey.craigslist.org</td>\n",
       "      <td>16942</td>\n",
       "      <td>2016.0</td>\n",
       "      <td>ford</td>\n",
       "      <td>explorer 4wd 4dr xlt</td>\n",
       "      <td>NaN</td>\n",
       "      <td>60023</td>\n",
       "      <td>clean</td>\n",
       "      <td>automatic</td>\n",
       "      <td>https://images.craigslist.org/00x0x_26jl9F0cnL...</td>\n",
       "      <td>***Call Us for more information at: 201-635-14...</td>\n",
       "      <td>nj</td>\n",
       "      <td>40.821805</td>\n",
       "      <td>-74.061962</td>\n",
       "      <td>2021-05-03T15:40:21-0400</td>\n",
       "      <td>medium</td>\n",
       "      <td>2021-05-03 19:40:21+00:00</td>\n",
       "    </tr>\n",
       "    <tr>\n",
       "      <th>2</th>\n",
       "      <td>7313733749</td>\n",
       "      <td>https://reno.craigslist.org/ctd/d/atlanta-2017...</td>\n",
       "      <td>reno / tahoe</td>\n",
       "      <td>https://reno.craigslist.org</td>\n",
       "      <td>35590</td>\n",
       "      <td>2017.0</td>\n",
       "      <td>volkswagen</td>\n",
       "      <td>golf r hatchback</td>\n",
       "      <td>gas</td>\n",
       "      <td>14048</td>\n",
       "      <td>clean</td>\n",
       "      <td>other</td>\n",
       "      <td>https://images.craigslist.org/00y0y_eeZjWeiSfb...</td>\n",
       "      <td>Carvana is the safer way to buy a car During t...</td>\n",
       "      <td>ca</td>\n",
       "      <td>33.779214</td>\n",
       "      <td>-84.411811</td>\n",
       "      <td>2021-04-28T03:52:20-0700</td>\n",
       "      <td>high</td>\n",
       "      <td>2021-04-28 10:52:20+00:00</td>\n",
       "    </tr>\n",
       "    <tr>\n",
       "      <th>3</th>\n",
       "      <td>7308210929</td>\n",
       "      <td>https://fayetteville.craigslist.org/ctd/d/rale...</td>\n",
       "      <td>fayetteville</td>\n",
       "      <td>https://fayetteville.craigslist.org</td>\n",
       "      <td>14500</td>\n",
       "      <td>2013.0</td>\n",
       "      <td>toyota</td>\n",
       "      <td>rav4</td>\n",
       "      <td>gas</td>\n",
       "      <td>117291</td>\n",
       "      <td>clean</td>\n",
       "      <td>automatic</td>\n",
       "      <td>https://images.craigslist.org/00606_iGe5iXidib...</td>\n",
       "      <td>2013 Toyota RAV4 XLE 4dr SUV     Offered by: R...</td>\n",
       "      <td>nc</td>\n",
       "      <td>35.715954</td>\n",
       "      <td>-78.655304</td>\n",
       "      <td>2021-04-17T10:08:57-0400</td>\n",
       "      <td>medium</td>\n",
       "      <td>2021-04-17 14:08:57+00:00</td>\n",
       "    </tr>\n",
       "    <tr>\n",
       "      <th>4</th>\n",
       "      <td>7316474668</td>\n",
       "      <td>https://newyork.craigslist.org/lgi/cto/d/baldw...</td>\n",
       "      <td>new york city</td>\n",
       "      <td>https://newyork.craigslist.org</td>\n",
       "      <td>21800</td>\n",
       "      <td>2021.0</td>\n",
       "      <td>nissan</td>\n",
       "      <td>altima</td>\n",
       "      <td>gas</td>\n",
       "      <td>8000</td>\n",
       "      <td>clean</td>\n",
       "      <td>automatic</td>\n",
       "      <td>https://images.craigslist.org/00V0V_3pSOiPZ3Sd...</td>\n",
       "      <td>2021 Nissan Altima Sv with Only 8 K Miles Titl...</td>\n",
       "      <td>ny</td>\n",
       "      <td>40.654800</td>\n",
       "      <td>-73.609700</td>\n",
       "      <td>2021-05-03T18:32:06-0400</td>\n",
       "      <td>medium</td>\n",
       "      <td>2021-05-03 22:32:06+00:00</td>\n",
       "    </tr>\n",
       "  </tbody>\n",
       "</table>\n",
       "</div>"
      ],
      "text/plain": [
       "           id                                                url  \\\n",
       "0  7308295377  https://chattanooga.craigslist.org/ctd/d/chatt...   \n",
       "1  7316380095  https://newjersey.craigslist.org/ctd/d/carlsta...   \n",
       "2  7313733749  https://reno.craigslist.org/ctd/d/atlanta-2017...   \n",
       "3  7308210929  https://fayetteville.craigslist.org/ctd/d/rale...   \n",
       "4  7316474668  https://newyork.craigslist.org/lgi/cto/d/baldw...   \n",
       "\n",
       "          region                           region_url  price    year  \\\n",
       "0    chattanooga   https://chattanooga.craigslist.org  54990  2020.0   \n",
       "1   north jersey     https://newjersey.craigslist.org  16942  2016.0   \n",
       "2   reno / tahoe          https://reno.craigslist.org  35590  2017.0   \n",
       "3   fayetteville  https://fayetteville.craigslist.org  14500  2013.0   \n",
       "4  new york city       https://newyork.craigslist.org  21800  2021.0   \n",
       "\n",
       "  manufacturer                   model    fuel  odometer title_status  \\\n",
       "0          ram  2500 crew cab big horn  diesel     27442        clean   \n",
       "1         ford    explorer 4wd 4dr xlt     NaN     60023        clean   \n",
       "2   volkswagen        golf r hatchback     gas     14048        clean   \n",
       "3       toyota                    rav4     gas    117291        clean   \n",
       "4       nissan                  altima     gas      8000        clean   \n",
       "\n",
       "  transmission                                          image_url  \\\n",
       "0        other  https://images.craigslist.org/00N0N_1xMPvfxRAI...   \n",
       "1    automatic  https://images.craigslist.org/00x0x_26jl9F0cnL...   \n",
       "2        other  https://images.craigslist.org/00y0y_eeZjWeiSfb...   \n",
       "3    automatic  https://images.craigslist.org/00606_iGe5iXidib...   \n",
       "4    automatic  https://images.craigslist.org/00V0V_3pSOiPZ3Sd...   \n",
       "\n",
       "                                         description state        lat  \\\n",
       "0  Carvana is the safer way to buy a car During t...    tn  35.060000   \n",
       "1  ***Call Us for more information at: 201-635-14...    nj  40.821805   \n",
       "2  Carvana is the safer way to buy a car During t...    ca  33.779214   \n",
       "3  2013 Toyota RAV4 XLE 4dr SUV     Offered by: R...    nc  35.715954   \n",
       "4  2021 Nissan Altima Sv with Only 8 K Miles Titl...    ny  40.654800   \n",
       "\n",
       "        long              posting_date price_category  \\\n",
       "0 -85.250000  2021-04-17T12:30:50-0400           high   \n",
       "1 -74.061962  2021-05-03T15:40:21-0400         medium   \n",
       "2 -84.411811  2021-04-28T03:52:20-0700           high   \n",
       "3 -78.655304  2021-04-17T10:08:57-0400         medium   \n",
       "4 -73.609700  2021-05-03T18:32:06-0400         medium   \n",
       "\n",
       "                        date  \n",
       "0  2021-04-17 16:30:50+00:00  \n",
       "1  2021-05-03 19:40:21+00:00  \n",
       "2  2021-04-28 10:52:20+00:00  \n",
       "3  2021-04-17 14:08:57+00:00  \n",
       "4  2021-05-03 22:32:06+00:00  "
      ]
     },
     "execution_count": 3,
     "metadata": {},
     "output_type": "execute_result"
    }
   ],
   "source": [
    "df.head()"
   ]
  },
  {
   "cell_type": "markdown",
   "id": "16b90a63-412a-464d-8cb6-4787701d42c1",
   "metadata": {
    "jp-MarkdownHeadingCollapsed": true,
    "tags": []
   },
   "source": [
    "### Описание датасета"
   ]
  },
  {
   "cell_type": "markdown",
   "id": "718a26d9-a4ba-4ae0-8e34-bfef56b72480",
   "metadata": {},
   "source": [
    "- `id`: идентификатор записи;\n",
    "- `url`: URL записи о продаже;\n",
    "- `region`: регион;\n",
    "- `region_url`: URL региона;\n",
    "- `price`: стоимость;\n",
    "- `year`: год выпуска;\n",
    "- `manufacturer`: производитель;\n",
    "- `model`: модель;\n",
    "- `fuel`: тип топлива;\n",
    "- `odometer`: количество пройденных миль;\n",
    "- `title_status`: статус;\n",
    "- `transmission`: коробка передач;\n",
    "- `image_url`: URL изображения;\n",
    "- `description`: указанное описание;\n",
    "- `state`: штат;\n",
    "- `lat`: широта;\n",
    "- `long`: долгота;\n",
    "- `posting_date`: дата размещения объявления о продаже;\n",
    "- `price_category`: категория цены;\n",
    "- `date`: дата публикации."
   ]
  },
  {
   "cell_type": "markdown",
   "id": "5f652dad-7afe-4979-bf45-15d8bec2bafe",
   "metadata": {
    "tags": []
   },
   "source": [
    "# Data Preparation"
   ]
  },
  {
   "cell_type": "markdown",
   "id": "503c614c-57a9-4bd9-842e-fa189f66cbb8",
   "metadata": {
    "tags": []
   },
   "source": [
    "## Data cleaning"
   ]
  },
  {
   "cell_type": "markdown",
   "id": "b7d59d70-d944-494d-b7cb-527a1bbee2e3",
   "metadata": {
    "jp-MarkdownHeadingCollapsed": true,
    "tags": []
   },
   "source": [
    "### Поиск дубликатов"
   ]
  },
  {
   "cell_type": "code",
   "execution_count": 4,
   "id": "b77616aa-9272-4d08-8c6b-22374dc3c367",
   "metadata": {
    "tags": []
   },
   "outputs": [
    {
     "data": {
      "text/plain": [
       "0"
      ]
     },
     "execution_count": 4,
     "metadata": {},
     "output_type": "execute_result"
    }
   ],
   "source": [
    "len(df[df.duplicated()])"
   ]
  },
  {
   "cell_type": "markdown",
   "id": "5c5722cc-2c74-4580-a23f-577ddc60053c",
   "metadata": {},
   "source": [
    "***Дубликатов не выявлено.***"
   ]
  },
  {
   "cell_type": "markdown",
   "id": "582e3e4a-f8ae-41aa-825e-cce1c5b2cb94",
   "metadata": {
    "jp-MarkdownHeadingCollapsed": true,
    "tags": []
   },
   "source": [
    "### Выявление выбросов и аномальных значений"
   ]
  },
  {
   "cell_type": "markdown",
   "id": "532f79db-a9fe-4cf7-b7e2-9000b80abda0",
   "metadata": {
    "jp-MarkdownHeadingCollapsed": true,
    "tags": []
   },
   "source": [
    "##### Выявление выбросов в стоимости автомобиля"
   ]
  },
  {
   "cell_type": "code",
   "execution_count": 5,
   "id": "9fd328dd-4d56-48c8-9c37-213c3008821a",
   "metadata": {
    "tags": []
   },
   "outputs": [
    {
     "data": {
      "image/png": "[encoded data removed]",
      "text/plain": [
       "<Figure size 800x800 with 1 Axes>"
      ]
     },
     "metadata": {},
     "output_type": "display_data"
    }
   ],
   "source": [
    "fig, ax = plt.subplots(figsize=(8, 8))\n",
    "ax.boxplot(df.price)\n",
    "ax.set_ylabel('Стоимость')\n",
    "ax.set_title('Ящик с усами для стоимости автомобиля')\n",
    "\n",
    "ax.yaxis.set_major_formatter(FormatStrFormatter('%.0f'))"
   ]
  },
  {
   "cell_type": "code",
   "execution_count": 6,
   "id": "0d5fd65a-ef7e-46cb-946b-a01fd3a63b51",
   "metadata": {
    "tags": []
   },
   "outputs": [
    {
     "data": {
      "text/plain": [
       "count       10000.000\n",
       "mean        20678.415\n",
       "std        124623.020\n",
       "min           500.000\n",
       "25%          7900.000\n",
       "50%         15749.500\n",
       "75%         27990.000\n",
       "max      12345678.000\n",
       "Name: price, dtype: object"
      ]
     },
     "execution_count": 6,
     "metadata": {},
     "output_type": "execute_result"
    }
   ],
   "source": [
    "df.price.describe().apply(lambda x: f'{x:0.3f}')"
   ]
  },
  {
   "cell_type": "code",
   "execution_count": 7,
   "id": "d12458b6-ce00-430f-91cb-81b546007595",
   "metadata": {
    "tags": []
   },
   "outputs": [],
   "source": [
    "def calculate_outliers(data):\n",
    "    q25 = data.quantile(0.25)\n",
    "    q75 = data.quantile(0.75)\n",
    "    iqr = q75 - q25\n",
    "    boundaries = (q25 - 1.5 * iqr, q75 + 1.5 * iqr)\n",
    "\n",
    "    return boundaries"
   ]
  },
  {
   "cell_type": "code",
   "execution_count": 8,
   "id": "61de5ad6-bab3-4822-8796-184250820bed",
   "metadata": {},
   "outputs": [
    {
     "data": {
      "text/plain": [
       "(-22235.0, 58125.0)"
      ]
     },
     "execution_count": 8,
     "metadata": {},
     "output_type": "execute_result"
    }
   ],
   "source": [
    "boundaries_price = calculate_outliers(df.price)\n",
    "boundaries_price"
   ]
  },
  {
   "cell_type": "code",
   "execution_count": 9,
   "id": "3ef1404a-24d6-40e4-9c63-b5cb317cbb98",
   "metadata": {
    "tags": []
   },
   "outputs": [
    {
     "data": {
      "text/plain": [
       "215"
      ]
     },
     "execution_count": 9,
     "metadata": {},
     "output_type": "execute_result"
    }
   ],
   "source": [
    "is_outlier_price = (df.price < boundaries_price[0]) | (df.price > boundaries_price[1])\n",
    "is_outlier_price.sum()"
   ]
  },
  {
   "cell_type": "code",
   "execution_count": 10,
   "id": "dbc51a00-ec57-47de-8dca-4adef619e1d0",
   "metadata": {
    "tags": []
   },
   "outputs": [
    {
     "data": {
      "text/plain": [
       "0"
      ]
     },
     "execution_count": 10,
     "metadata": {},
     "output_type": "execute_result"
    }
   ],
   "source": [
    "len(df[df.price < boundaries_price[0]])"
   ]
  },
  {
   "cell_type": "markdown",
   "id": "6932cc1c-4fa8-4867-9bba-ec9c11081dfa",
   "metadata": {},
   "source": [
    "***Аномально низких значений не выявлено.***"
   ]
  },
  {
   "cell_type": "code",
   "execution_count": 11,
   "id": "5e7f2751-ad76-4922-a602-4f5e7bcf7db8",
   "metadata": {
    "tags": []
   },
   "outputs": [
    {
     "data": {
      "text/plain": [
       "0.0215"
      ]
     },
     "execution_count": 11,
     "metadata": {},
     "output_type": "execute_result"
    }
   ],
   "source": [
    "is_outlier_price.sum() / len(df)"
   ]
  },
  {
   "cell_type": "code",
   "execution_count": 12,
   "id": "e3220c6f-cc5d-44cd-966b-27301fa02ac6",
   "metadata": {
    "tags": []
   },
   "outputs": [],
   "source": [
    "df.loc[is_outlier_price, 'price'] = int(boundaries_price[1])"
   ]
  },
  {
   "cell_type": "code",
   "execution_count": 13,
   "id": "5ec103e1-5e8b-4838-9728-a72d560c1f1b",
   "metadata": {
    "tags": []
   },
   "outputs": [
    {
     "data": {
      "image/png": "[encoded data removed]",
      "text/plain": [
       "<Figure size 800x800 with 1 Axes>"
      ]
     },
     "metadata": {},
     "output_type": "display_data"
    }
   ],
   "source": [
    "fig, ax = plt.subplots(figsize=(8, 8))\n",
    "ax.boxplot(df.price)\n",
    "ax.set_ylabel('Стоимость')\n",
    "ax.set_title('Ящик с усами для стоимости автомобиля')\n",
    "\n",
    "ax.yaxis.set_major_formatter(FormatStrFormatter('%.0f'))"
   ]
  },
  {
   "cell_type": "markdown",
   "id": "0aa8fe9b-7ebd-42ee-adfa-896948407924",
   "metadata": {
    "jp-MarkdownHeadingCollapsed": true,
    "tags": []
   },
   "source": [
    "##### Выявление выбросов в годе выпуска автомобиля"
   ]
  },
  {
   "cell_type": "code",
   "execution_count": 14,
   "id": "8c750d9c-209e-4bf0-ac79-d383d24f2d0c",
   "metadata": {
    "tags": []
   },
   "outputs": [
    {
     "data": {
      "text/plain": [
       "Text(0.5, 1.0, 'Распределение года выпуска автомобиля')"
      ]
     },
     "execution_count": 14,
     "metadata": {},
     "output_type": "execute_result"
    },
    {
     "data": {
      "image/png": "[encoded data removed]",
      "text/plain": [
       "<Figure size 1000x1000 with 1 Axes>"
      ]
     },
     "metadata": {},
     "output_type": "display_data"
    }
   ],
   "source": [
    "fig, ax = plt.subplots(figsize=(10, 10))\n",
    "\n",
    "ax.hist(df.year, bins=100, color='b')\n",
    "ax.set_xlabel('Год выпуска')\n",
    "ax.set_ylabel('Частота')\n",
    "ax.set_title('Распределение года выпуска автомобиля')"
   ]
  },
  {
   "cell_type": "code",
   "execution_count": 15,
   "id": "ab7d9306-0284-4675-88ea-c315255f2a4a",
   "metadata": {
    "tags": []
   },
   "outputs": [
    {
     "data": {
      "text/plain": [
       "count    9964.000000\n",
       "mean     2010.927941\n",
       "std         9.672040\n",
       "min      1915.000000\n",
       "25%      2008.000000\n",
       "50%      2013.000000\n",
       "75%      2017.000000\n",
       "max      2022.000000\n",
       "Name: year, dtype: float64"
      ]
     },
     "execution_count": 15,
     "metadata": {},
     "output_type": "execute_result"
    }
   ],
   "source": [
    "df.year.describe()"
   ]
  },
  {
   "cell_type": "code",
   "execution_count": 16,
   "id": "1e87fe5e-e620-471b-83f0-c881d325af8f",
   "metadata": {
    "tags": []
   },
   "outputs": [
    {
     "data": {
      "text/plain": [
       "(1994.5, 2030.5)"
      ]
     },
     "execution_count": 16,
     "metadata": {},
     "output_type": "execute_result"
    }
   ],
   "source": [
    "boundaries_year = calculate_outliers(df.year)\n",
    "boundaries_year"
   ]
  },
  {
   "cell_type": "code",
   "execution_count": 17,
   "id": "ee6b90be-3dd2-4d0a-922c-016499b65508",
   "metadata": {
    "tags": []
   },
   "outputs": [
    {
     "data": {
      "text/plain": [
       "394"
      ]
     },
     "execution_count": 17,
     "metadata": {},
     "output_type": "execute_result"
    }
   ],
   "source": [
    "is_outlier_year = (df.year < boundaries_year[0]) | (df.year > boundaries_year[1])\n",
    "is_outlier_year.sum()"
   ]
  },
  {
   "cell_type": "markdown",
   "id": "d4cb87e4-aeca-487c-9b54-906b48d225ac",
   "metadata": {},
   "source": [
    "***Так как максимальное значение 2022, а верхняя граница нормальных значений 2030, то аномально высоких значений не выявлено.***"
   ]
  },
  {
   "cell_type": "code",
   "execution_count": 18,
   "id": "3d8e1bb4-3a0c-4d61-89bd-ad290aae39e0",
   "metadata": {
    "tags": []
   },
   "outputs": [
    {
     "data": {
      "text/plain": [
       "0.0394"
      ]
     },
     "execution_count": 18,
     "metadata": {},
     "output_type": "execute_result"
    }
   ],
   "source": [
    "is_outlier_year.sum() / len(df)"
   ]
  },
  {
   "cell_type": "code",
   "execution_count": 19,
   "id": "3b3ad28a-3d8c-40c1-92f9-4177645f97f0",
   "metadata": {
    "tags": []
   },
   "outputs": [
    {
     "data": {
      "text/plain": [
       "price_category\n",
       "low       181\n",
       "medium    135\n",
       "high       78\n",
       "Name: count, dtype: int64"
      ]
     },
     "execution_count": 19,
     "metadata": {},
     "output_type": "execute_result"
    }
   ],
   "source": [
    "df[is_outlier_year]['price_category'].value_counts()"
   ]
  },
  {
   "cell_type": "markdown",
   "id": "789a09ca-3fc1-493c-ab8c-565ff73899e3",
   "metadata": {
    "tags": []
   },
   "source": [
    "***Большинство выбросов находится среди низкой категории цены.***"
   ]
  },
  {
   "cell_type": "code",
   "execution_count": 20,
   "id": "54741045-b4c5-4dfe-84af-e035b342e2d1",
   "metadata": {
    "tags": []
   },
   "outputs": [],
   "source": [
    "df.loc[is_outlier_year, 'year'] = int(boundaries_year[0])"
   ]
  },
  {
   "cell_type": "code",
   "execution_count": 21,
   "id": "ed446939-fb0a-4f94-a705-967de626611c",
   "metadata": {
    "tags": []
   },
   "outputs": [
    {
     "data": {
      "text/plain": [
       "Text(0.5, 1.0, 'Распределение года выпуска автомобиля')"
      ]
     },
     "execution_count": 21,
     "metadata": {},
     "output_type": "execute_result"
    },
    {
     "data": {
      "image/png": "[encoded data removed]",
      "text/plain": [
       "<Figure size 1000x1000 with 1 Axes>"
      ]
     },
     "metadata": {},
     "output_type": "display_data"
    }
   ],
   "source": [
    "fig, ax = plt.subplots(figsize=(10, 10))\n",
    "\n",
    "ax.hist(df.year, bins=100, color='b')\n",
    "ax.set_xlabel('Год выпуска')\n",
    "ax.set_ylabel('Частота')\n",
    "ax.set_title('Распределение года выпуска автомобиля')"
   ]
  },
  {
   "cell_type": "markdown",
   "id": "b125cb67-53b8-427e-a1de-102c024e831e",
   "metadata": {
    "jp-MarkdownHeadingCollapsed": true,
    "tags": []
   },
   "source": [
    "##### Выявление выбросов в количестве пройденных миль"
   ]
  },
  {
   "cell_type": "code",
   "execution_count": 22,
   "id": "e16829af-6d7b-42db-bd48-4c46de394455",
   "metadata": {
    "tags": []
   },
   "outputs": [
    {
     "data": {
      "image/png": "[encoded data removed]",
      "text/plain": [
       "<Figure size 800x800 with 1 Axes>"
      ]
     },
     "metadata": {},
     "output_type": "display_data"
    }
   ],
   "source": [
    "fig, ax = plt.subplots(figsize=(8, 8))\n",
    "ax.boxplot(df.odometer)\n",
    "ax.set_ylabel('Количество пройденных миль')\n",
    "ax.set_title('Ящик с усами для количества пройденных миль')\n",
    "\n",
    "ax.yaxis.set_major_formatter(FormatStrFormatter('%.0f'))"
   ]
  },
  {
   "cell_type": "code",
   "execution_count": 23,
   "id": "13b07907-e6b8-4517-83fe-944a351e2d2c",
   "metadata": {
    "tags": []
   },
   "outputs": [
    {
     "data": {
      "text/plain": [
       "Text(0.5, 1.0, 'Распределение количества пройденных миль')"
      ]
     },
     "execution_count": 23,
     "metadata": {},
     "output_type": "execute_result"
    },
    {
     "data": {
      "image/png": "[encoded data removed]",
      "text/plain": [
       "<Figure size 800x800 with 1 Axes>"
      ]
     },
     "metadata": {},
     "output_type": "display_data"
    }
   ],
   "source": [
    "fig, ax = plt.subplots(figsize=(8, 8))\n",
    "\n",
    "ax.hist(df.odometer, bins=100, color='b')\n",
    "ax.set_xlabel('Количество пройденных миль')\n",
    "ax.set_ylabel('Частота')\n",
    "ax.set_title('Распределение количества пройденных миль')"
   ]
  },
  {
   "cell_type": "markdown",
   "id": "8e379528-18ec-4772-90ae-cf47fb5d1cfb",
   "metadata": {
    "tags": []
   },
   "source": [
    "***Аномальных значений не выявлено***"
   ]
  },
  {
   "cell_type": "markdown",
   "id": "aecc8207-7940-4b16-aa40-ef083eae56ea",
   "metadata": {
    "jp-MarkdownHeadingCollapsed": true,
    "tags": []
   },
   "source": [
    "##### Выявление выбросов в широте"
   ]
  },
  {
   "cell_type": "code",
   "execution_count": 24,
   "id": "e42d08c4-9e4a-4935-b935-93bf1f306893",
   "metadata": {
    "tags": []
   },
   "outputs": [
    {
     "data": {
      "text/plain": [
       "Text(0.5, 1.0, 'Распределение широты')"
      ]
     },
     "execution_count": 24,
     "metadata": {},
     "output_type": "execute_result"
    },
    {
     "data": {
      "image/png": "[encoded data removed]",
      "text/plain": [
       "<Figure size 1200x1200 with 1 Axes>"
      ]
     },
     "metadata": {},
     "output_type": "display_data"
    }
   ],
   "source": [
    "fig, ax = plt.subplots(figsize=(12, 12))\n",
    "\n",
    "ax.hist(df.lat, bins=100, color='b')\n",
    "ax.set_xlabel('Широта')\n",
    "ax.set_ylabel('Частота')\n",
    "ax.set_title('Распределение широты')\n"
   ]
  },
  {
   "cell_type": "code",
   "execution_count": 25,
   "id": "90b4cfc1-47d9-485e-9aa3-21ebbe30586d",
   "metadata": {
    "tags": []
   },
   "outputs": [
    {
     "data": {
      "text/plain": [
       "count    9902.000000\n",
       "mean       38.594142\n",
       "std         5.844895\n",
       "min       -67.144243\n",
       "25%        34.830368\n",
       "50%        39.298522\n",
       "75%        42.428070\n",
       "max        64.947500\n",
       "Name: lat, dtype: float64"
      ]
     },
     "execution_count": 25,
     "metadata": {},
     "output_type": "execute_result"
    }
   ],
   "source": [
    "df.lat.describe()"
   ]
  },
  {
   "cell_type": "code",
   "execution_count": 26,
   "id": "a2b4c42f-7ba6-4d37-b7e6-4701a541d081",
   "metadata": {
    "tags": []
   },
   "outputs": [
    {
     "data": {
      "text/plain": [
       "(23.433815625, 53.824622624999996)"
      ]
     },
     "execution_count": 26,
     "metadata": {},
     "output_type": "execute_result"
    }
   ],
   "source": [
    "boundaries_lat = calculate_outliers(df.lat)\n",
    "boundaries_lat"
   ]
  },
  {
   "cell_type": "code",
   "execution_count": 27,
   "id": "7739f640-9c06-47e8-a28c-54664b97928c",
   "metadata": {
    "tags": []
   },
   "outputs": [
    {
     "data": {
      "text/plain": [
       "143"
      ]
     },
     "execution_count": 27,
     "metadata": {},
     "output_type": "execute_result"
    }
   ],
   "source": [
    "is_outlier_lat = (df.lat < boundaries_lat[0]) | (df.lat > boundaries_lat[1])\n",
    "is_outlier_lat.sum()"
   ]
  },
  {
   "cell_type": "code",
   "execution_count": 28,
   "id": "63080aed-7434-4cc6-a666-ef61e2ba6c34",
   "metadata": {
    "tags": []
   },
   "outputs": [
    {
     "data": {
      "text/plain": [
       "0.0143"
      ]
     },
     "execution_count": 28,
     "metadata": {},
     "output_type": "execute_result"
    }
   ],
   "source": [
    "is_outlier_lat.sum() / len(df)"
   ]
  },
  {
   "cell_type": "code",
   "execution_count": 29,
   "id": "071e101e-9147-4557-99bf-2f9da4b447fe",
   "metadata": {
    "tags": []
   },
   "outputs": [
    {
     "data": {
      "text/plain": [
       "price_category\n",
       "high      59\n",
       "medium    54\n",
       "low       30\n",
       "Name: count, dtype: int64"
      ]
     },
     "execution_count": 29,
     "metadata": {},
     "output_type": "execute_result"
    }
   ],
   "source": [
    "df[is_outlier_lat]['price_category'].value_counts()"
   ]
  },
  {
   "cell_type": "code",
   "execution_count": 30,
   "id": "bfbfb854-3846-4d42-a3e1-677444899308",
   "metadata": {
    "tags": []
   },
   "outputs": [
    {
     "data": {
      "text/plain": [
       "price_category\n",
       "high      23\n",
       "medium    17\n",
       "low       16\n",
       "Name: count, dtype: int64"
      ]
     },
     "execution_count": 30,
     "metadata": {},
     "output_type": "execute_result"
    }
   ],
   "source": [
    "df[df.lat < boundaries_lat[0]]['price_category'].value_counts()"
   ]
  },
  {
   "cell_type": "code",
   "execution_count": 31,
   "id": "d5e6487e-1ba3-4bf7-91f0-b09b04a7a252",
   "metadata": {
    "tags": []
   },
   "outputs": [
    {
     "data": {
      "text/plain": [
       "price_category\n",
       "medium    37\n",
       "high      36\n",
       "low       14\n",
       "Name: count, dtype: int64"
      ]
     },
     "execution_count": 31,
     "metadata": {},
     "output_type": "execute_result"
    }
   ],
   "source": [
    "df[df.lat > boundaries_lat[1]]['price_category'].value_counts()"
   ]
  },
  {
   "cell_type": "code",
   "execution_count": 32,
   "id": "a1ed1598-72e7-4848-9698-b43651445dc2",
   "metadata": {},
   "outputs": [],
   "source": [
    "df.loc[is_outlier_lat, 'lat'] = df.lat.mode()[0]"
   ]
  },
  {
   "cell_type": "code",
   "execution_count": 33,
   "id": "f679011a-089a-4357-90d2-278d66f0187a",
   "metadata": {
    "tags": []
   },
   "outputs": [
    {
     "data": {
      "text/plain": [
       "Text(0.5, 1.0, 'Распределение широты')"
      ]
     },
     "execution_count": 33,
     "metadata": {},
     "output_type": "execute_result"
    },
    {
     "data": {
      "image/png": "[encoded data removed]",
      "text/plain": [
       "<Figure size 1200x1200 with 1 Axes>"
      ]
     },
     "metadata": {},
     "output_type": "display_data"
    }
   ],
   "source": [
    "fig, ax = plt.subplots(figsize=(12, 12))\n",
    "\n",
    "ax.hist(df.lat, bins=100, color='b')\n",
    "ax.set_xlabel('Широта')\n",
    "ax.set_ylabel('Частота')\n",
    "ax.set_title('Распределение широты')"
   ]
  },
  {
   "cell_type": "markdown",
   "id": "f0e0ffe5-d06b-4e50-81a2-e240d784df5b",
   "metadata": {
    "jp-MarkdownHeadingCollapsed": true,
    "tags": []
   },
   "source": [
    "##### Выявление выбросов в долготе"
   ]
  },
  {
   "cell_type": "code",
   "execution_count": 34,
   "id": "0acd8e30-7bed-4016-85e6-93a4afbd78c2",
   "metadata": {
    "tags": []
   },
   "outputs": [
    {
     "data": {
      "text/plain": [
       "Text(0.5, 1.0, 'Распределение долготы')"
      ]
     },
     "execution_count": 34,
     "metadata": {},
     "output_type": "execute_result"
    },
    {
     "data": {
      "image/png": "[encoded data removed]",
      "text/plain": [
       "<Figure size 1200x1200 with 1 Axes>"
      ]
     },
     "metadata": {},
     "output_type": "display_data"
    }
   ],
   "source": [
    "fig, ax = plt.subplots(figsize=(12, 12))\n",
    "\n",
    "ax.hist(df.long, bins=100, color='b')\n",
    "ax.set_xlabel('Долгота')\n",
    "ax.set_ylabel('Частота')\n",
    "ax.set_title('Распределение долготы')\n"
   ]
  },
  {
   "cell_type": "code",
   "execution_count": 35,
   "id": "0d48d716-4dc5-4218-858e-742bdf21b6a2",
   "metadata": {
    "tags": []
   },
   "outputs": [
    {
     "data": {
      "text/plain": [
       "count    9902.000000\n",
       "mean      -94.165877\n",
       "std        18.128504\n",
       "min      -158.069300\n",
       "25%      -110.322086\n",
       "50%       -88.000050\n",
       "75%       -80.830000\n",
       "max       173.885502\n",
       "Name: long, dtype: float64"
      ]
     },
     "execution_count": 35,
     "metadata": {},
     "output_type": "execute_result"
    }
   ],
   "source": [
    "df.long.describe()"
   ]
  },
  {
   "cell_type": "code",
   "execution_count": 36,
   "id": "84c5bd4c-bacb-48d8-901b-ec3574bfad3b",
   "metadata": {
    "tags": []
   },
   "outputs": [
    {
     "data": {
      "text/plain": [
       "(-154.560214375, -36.591871375)"
      ]
     },
     "execution_count": 36,
     "metadata": {},
     "output_type": "execute_result"
    }
   ],
   "source": [
    "boundaries_long = calculate_outliers(df.long)\n",
    "boundaries_long"
   ]
  },
  {
   "cell_type": "code",
   "execution_count": 37,
   "id": "1c0618f1-03ec-4031-beb2-e216e4290cae",
   "metadata": {
    "tags": []
   },
   "outputs": [
    {
     "data": {
      "text/plain": [
       "57"
      ]
     },
     "execution_count": 37,
     "metadata": {},
     "output_type": "execute_result"
    }
   ],
   "source": [
    "is_outlier_long = (df.long < boundaries_long[0]) | (df.long > boundaries_long[1])\n",
    "is_outlier_long.sum()"
   ]
  },
  {
   "cell_type": "code",
   "execution_count": 38,
   "id": "79f3d9ab-77b9-40f2-ae76-ae6a49a151bb",
   "metadata": {
    "tags": []
   },
   "outputs": [
    {
     "data": {
      "text/plain": [
       "0.0057"
      ]
     },
     "execution_count": 38,
     "metadata": {},
     "output_type": "execute_result"
    }
   ],
   "source": [
    "is_outlier_long.sum() / len(df)"
   ]
  },
  {
   "cell_type": "code",
   "execution_count": 39,
   "id": "c461fea6-1f60-4f8c-b3e6-4e1903e0c7f5",
   "metadata": {
    "tags": []
   },
   "outputs": [
    {
     "data": {
      "text/plain": [
       "price_category\n",
       "high      23\n",
       "low       17\n",
       "medium    17\n",
       "Name: count, dtype: int64"
      ]
     },
     "execution_count": 39,
     "metadata": {},
     "output_type": "execute_result"
    }
   ],
   "source": [
    "df[is_outlier_long]['price_category'].value_counts()"
   ]
  },
  {
   "cell_type": "code",
   "execution_count": 40,
   "id": "7ce0d967-9454-456a-bb04-35b6d94086e1",
   "metadata": {
    "tags": []
   },
   "outputs": [
    {
     "data": {
      "text/plain": [
       "price_category\n",
       "high      22\n",
       "medium    17\n",
       "low       16\n",
       "Name: count, dtype: int64"
      ]
     },
     "execution_count": 40,
     "metadata": {},
     "output_type": "execute_result"
    }
   ],
   "source": [
    "df[df.long < boundaries_long[0]]['price_category'].value_counts()"
   ]
  },
  {
   "cell_type": "code",
   "execution_count": 41,
   "id": "de02da9a-cb71-40b5-b9e3-e6ef5e14d3f7",
   "metadata": {
    "tags": []
   },
   "outputs": [
    {
     "data": {
      "text/plain": [
       "price_category\n",
       "high    1\n",
       "low     1\n",
       "Name: count, dtype: int64"
      ]
     },
     "execution_count": 41,
     "metadata": {},
     "output_type": "execute_result"
    }
   ],
   "source": [
    "df[df.long > boundaries_long[1]]['price_category'].value_counts()"
   ]
  },
  {
   "cell_type": "code",
   "execution_count": 42,
   "id": "41c94834-c5a6-4f00-be18-089e088ce7cd",
   "metadata": {
    "tags": []
   },
   "outputs": [],
   "source": [
    "df.loc[df.long < boundaries_long[0], 'long'] = int(boundaries_long[0])"
   ]
  },
  {
   "cell_type": "code",
   "execution_count": 43,
   "id": "0214f643-2285-40f9-a799-e7cffd7cfea7",
   "metadata": {
    "tags": []
   },
   "outputs": [],
   "source": [
    "df.loc[df.long > boundaries_long[1], 'long'] = int(boundaries_long[1])"
   ]
  },
  {
   "cell_type": "code",
   "execution_count": 44,
   "id": "4f564eed-816d-4e88-ab61-ed1e3d4f2360",
   "metadata": {
    "tags": []
   },
   "outputs": [
    {
     "data": {
      "text/plain": [
       "Text(0.5, 1.0, 'Распределение долготы')"
      ]
     },
     "execution_count": 44,
     "metadata": {},
     "output_type": "execute_result"
    },
    {
     "data": {
      "image/png": "[encoded data removed]",
      "text/plain": [
       "<Figure size 1000x1000 with 1 Axes>"
      ]
     },
     "metadata": {},
     "output_type": "display_data"
    }
   ],
   "source": [
    "fig, ax = plt.subplots(figsize=(10, 10))\n",
    "\n",
    "ax.hist(df.long, bins=100, color='b')\n",
    "ax.set_xlabel('Долгота')\n",
    "ax.set_ylabel('Частота')\n",
    "ax.set_title('Распределение долготы')"
   ]
  },
  {
   "cell_type": "code",
   "execution_count": null,
   "id": "76253f05-2752-430f-bab8-57be08d55ebb",
   "metadata": {},
   "outputs": [],
   "source": []
  },
  {
   "cell_type": "markdown",
   "id": "6042e7db-7f6b-4b95-b20f-5c049d8252ef",
   "metadata": {
    "jp-MarkdownHeadingCollapsed": true,
    "tags": []
   },
   "source": [
    "### Выявление пропущенных значений"
   ]
  },
  {
   "cell_type": "code",
   "execution_count": 45,
   "id": "beb279b5-9d6e-4824-9f4a-76960b28296f",
   "metadata": {
    "tags": []
   },
   "outputs": [
    {
     "name": "stdout",
     "output_type": "stream",
     "text": [
      "<class 'pandas.core.frame.DataFrame'>\n",
      "RangeIndex: 10000 entries, 0 to 9999\n",
      "Data columns (total 20 columns):\n",
      " #   Column          Non-Null Count  Dtype  \n",
      "---  ------          --------------  -----  \n",
      " 0   id              10000 non-null  int64  \n",
      " 1   url             10000 non-null  object \n",
      " 2   region          10000 non-null  object \n",
      " 3   region_url      10000 non-null  object \n",
      " 4   price           10000 non-null  int64  \n",
      " 5   year            9964 non-null   float64\n",
      " 6   manufacturer    10000 non-null  object \n",
      " 7   model           9872 non-null   object \n",
      " 8   fuel            9937 non-null   object \n",
      " 9   odometer        10000 non-null  int64  \n",
      " 10  title_status    9834 non-null   object \n",
      " 11  transmission    9955 non-null   object \n",
      " 12  image_url       9998 non-null   object \n",
      " 13  description     9998 non-null   object \n",
      " 14  state           10000 non-null  object \n",
      " 15  lat             9902 non-null   float64\n",
      " 16  long            9902 non-null   float64\n",
      " 17  posting_date    9998 non-null   object \n",
      " 18  price_category  10000 non-null  object \n",
      " 19  date            9998 non-null   object \n",
      "dtypes: float64(3), int64(3), object(14)\n",
      "memory usage: 1.5+ MB\n"
     ]
    }
   ],
   "source": [
    "df.info()"
   ]
  },
  {
   "cell_type": "code",
   "execution_count": 46,
   "id": "f40d7032-3bd6-4357-a6b9-552a259f0e44",
   "metadata": {
    "tags": []
   },
   "outputs": [
    {
     "name": "stdout",
     "output_type": "stream",
     "text": [
      "Количество полностью заполненных объектов из всей выборки: 9507\n",
      "Процент полностью заполненных объектов из всей выборки: 95.07\n"
     ]
    }
   ],
   "source": [
    "def useful_rows_info(df):\n",
    "    print('Количество полностью заполненных объектов из всей выборки:', \n",
    "          len(df.dropna()))\n",
    "    print('Процент полностью заполненных объектов из всей выборки:', \n",
    "          round(len(df.dropna()) / len(df) * 100, 2))\n",
    "useful_rows_info(df)"
   ]
  },
  {
   "cell_type": "code",
   "execution_count": 47,
   "id": "1e343a43-b7c8-4162-8d61-ea9ddd898288",
   "metadata": {
    "tags": []
   },
   "outputs": [],
   "source": [
    "def missing_values(data):\n",
    "    values = ((data.isna().sum() / len(df)) * 100).sort_values(ascending=False)\n",
    "    return values"
   ]
  },
  {
   "cell_type": "code",
   "execution_count": 48,
   "id": "29105a09-28f5-4f1b-ba69-e1480cdcec8d",
   "metadata": {
    "tags": []
   },
   "outputs": [
    {
     "name": "stdout",
     "output_type": "stream",
     "text": [
      "Пропущенные значения есть в столбцах: \n",
      " ['title_status', 'model', 'long', 'lat', 'fuel', 'transmission', 'year', 'posting_date', 'description', 'image_url', 'date']\n"
     ]
    }
   ],
   "source": [
    "missing_list = missing_values(df)\n",
    "print('Пропущенные значения есть в столбцах: \\n',\n",
    "      missing_list[missing_list.values > 0].index.tolist())"
   ]
  },
  {
   "cell_type": "markdown",
   "id": "8fc4eccc-dcbf-4f7b-b475-cdd748847f2b",
   "metadata": {
    "tags": []
   },
   "source": [
    "#### Обработка пропусков в статусе автомобиля"
   ]
  },
  {
   "cell_type": "code",
   "execution_count": 49,
   "id": "dd679e26-6562-4dc5-a4ef-ce4c121045e1",
   "metadata": {
    "tags": []
   },
   "outputs": [
    {
     "data": {
      "text/plain": [
       "title_status\n",
       "clean         9518\n",
       "rebuilt        171\n",
       "NaN            166\n",
       "salvage         92\n",
       "lien            35\n",
       "missing         16\n",
       "parts only       2\n",
       "Name: count, dtype: int64"
      ]
     },
     "execution_count": 49,
     "metadata": {},
     "output_type": "execute_result"
    }
   ],
   "source": [
    "df.title_status.value_counts(dropna=False)"
   ]
  },
  {
   "cell_type": "code",
   "execution_count": 50,
   "id": "6b5af341-1e80-4a3d-9e51-634c49dbd681",
   "metadata": {
    "tags": []
   },
   "outputs": [
    {
     "data": {
      "text/plain": [
       "count      9834\n",
       "unique        6\n",
       "top       clean\n",
       "freq       9518\n",
       "Name: title_status, dtype: object"
      ]
     },
     "execution_count": 50,
     "metadata": {},
     "output_type": "execute_result"
    }
   ],
   "source": [
    "df.title_status.describe()"
   ]
  },
  {
   "cell_type": "code",
   "execution_count": 51,
   "id": "454d9c42-f9dc-47a5-93ea-3d3a15ef6b48",
   "metadata": {
    "tags": []
   },
   "outputs": [],
   "source": [
    "df.title_status= df.title_status.fillna(df.title_status.mode()[0])"
   ]
  },
  {
   "cell_type": "code",
   "execution_count": 52,
   "id": "68f36b2f-0027-4593-8156-27dad086fc40",
   "metadata": {
    "tags": []
   },
   "outputs": [
    {
     "name": "stdout",
     "output_type": "stream",
     "text": [
      "Количество пропущенных значений в title_status: 0\n"
     ]
    }
   ],
   "source": [
    "print(\"Количество пропущенных значений в title_status:\", df.title_status.isna().sum())"
   ]
  },
  {
   "cell_type": "markdown",
   "id": "28ecb527-914b-4006-adaf-b1e920cff730",
   "metadata": {
    "tags": []
   },
   "source": [
    "#### Обработка пропусков в модели автомобиля"
   ]
  },
  {
   "cell_type": "code",
   "execution_count": 53,
   "id": "6b45bb43-11ba-4d90-8888-04404e6e2c0f",
   "metadata": {
    "tags": []
   },
   "outputs": [
    {
     "data": {
      "text/plain": [
       "model\n",
       "f-150                        151\n",
       "NaN                          128\n",
       "silverado 1500               110\n",
       "1500                         100\n",
       "camry                         77\n",
       "                            ... \n",
       "grand caravan sport            1\n",
       "Nascar                         1\n",
       "titan le                       1\n",
       "sorrento lx v6                 1\n",
       "a3 2.0t premium plus pzev      1\n",
       "Name: count, Length: 3467, dtype: int64"
      ]
     },
     "execution_count": 53,
     "metadata": {},
     "output_type": "execute_result"
    }
   ],
   "source": [
    "df.model.value_counts(dropna=False)"
   ]
  },
  {
   "cell_type": "code",
   "execution_count": 54,
   "id": "8f36bdb7-b477-4704-9f3f-146b10a83416",
   "metadata": {
    "tags": []
   },
   "outputs": [
    {
     "data": {
      "text/plain": [
       "count      9872\n",
       "unique     3466\n",
       "top       f-150\n",
       "freq        151\n",
       "Name: model, dtype: object"
      ]
     },
     "execution_count": 54,
     "metadata": {},
     "output_type": "execute_result"
    }
   ],
   "source": [
    "df.model.describe()"
   ]
  },
  {
   "cell_type": "code",
   "execution_count": 55,
   "id": "55970f9c-b322-4f94-9d4c-9a4f27bcbc4a",
   "metadata": {
    "tags": []
   },
   "outputs": [],
   "source": [
    "df.model = df.model.fillna('other')"
   ]
  },
  {
   "cell_type": "code",
   "execution_count": 56,
   "id": "0bf8e144-d30e-4682-ac0e-41e56f812286",
   "metadata": {
    "tags": []
   },
   "outputs": [
    {
     "name": "stdout",
     "output_type": "stream",
     "text": [
      "Количество пропущенных значений в model: 0\n"
     ]
    }
   ],
   "source": [
    "print(\"Количество пропущенных значений в model:\", df.model.isna().sum()) "
   ]
  },
  {
   "cell_type": "markdown",
   "id": "9718784f-3cba-439a-96cc-91b82dada6ea",
   "metadata": {
    "jp-MarkdownHeadingCollapsed": true,
    "tags": []
   },
   "source": [
    "#### Обработка пропусков долготы автомобиля"
   ]
  },
  {
   "cell_type": "code",
   "execution_count": 57,
   "id": "1af4db6e-4f3c-4d5f-a813-aecc9fcee057",
   "metadata": {
    "tags": []
   },
   "outputs": [
    {
     "data": {
      "text/plain": [
       "long\n",
       " NaN           98\n",
       "-84.112200     88\n",
       "-84.411811     79\n",
       "-74.281707     73\n",
       "-154.000000    55\n",
       "               ..\n",
       "-85.180435      1\n",
       "-88.841600      1\n",
       "-95.787429      1\n",
       "-81.451631      1\n",
       "-79.189500      1\n",
       "Name: count, Length: 5039, dtype: int64"
      ]
     },
     "execution_count": 57,
     "metadata": {},
     "output_type": "execute_result"
    }
   ],
   "source": [
    "df.long.value_counts(dropna=False)"
   ]
  },
  {
   "cell_type": "code",
   "execution_count": 58,
   "id": "d18ea2c0-89c2-47f3-801a-31f9c11c7ab9",
   "metadata": {
    "tags": []
   },
   "outputs": [
    {
     "data": {
      "text/plain": [
       "count    9902.000000\n",
       "mean      -94.181351\n",
       "std        17.780893\n",
       "min      -154.000000\n",
       "25%      -110.322086\n",
       "50%       -88.000050\n",
       "75%       -80.830000\n",
       "max       -36.000000\n",
       "Name: long, dtype: float64"
      ]
     },
     "execution_count": 58,
     "metadata": {},
     "output_type": "execute_result"
    }
   ],
   "source": [
    "df.long.describe()"
   ]
  },
  {
   "cell_type": "code",
   "execution_count": 59,
   "id": "2af6edc8-6b85-4ced-9a0f-c639611aa01d",
   "metadata": {
    "tags": []
   },
   "outputs": [],
   "source": [
    "df['long'] = df['long'].fillna(int(df['long'].mean()))"
   ]
  },
  {
   "cell_type": "code",
   "execution_count": 60,
   "id": "c912b614-f29b-4168-b82f-34e9675db5dd",
   "metadata": {
    "tags": []
   },
   "outputs": [
    {
     "name": "stdout",
     "output_type": "stream",
     "text": [
      "Количество пропущенных значений в long: 0\n"
     ]
    }
   ],
   "source": [
    "print(\"Количество пропущенных значений в long:\", df.long.isna().sum()) "
   ]
  },
  {
   "cell_type": "markdown",
   "id": "c69008d1-814f-4dff-ad25-d5172e348fb9",
   "metadata": {
    "tags": []
   },
   "source": [
    "#### Обработка пропусков широты автомобиля"
   ]
  },
  {
   "cell_type": "code",
   "execution_count": 61,
   "id": "c00751f0-d8c2-496e-a413-b5d9a86f7428",
   "metadata": {
    "tags": []
   },
   "outputs": [
    {
     "data": {
      "text/plain": [
       "lat\n",
       "43.182400    231\n",
       "NaN           98\n",
       "33.779214     79\n",
       "40.468785     73\n",
       "33.786500     54\n",
       "            ... \n",
       "32.660500      1\n",
       "39.783470      1\n",
       "35.716918      1\n",
       "44.923961      1\n",
       "42.123900      1\n",
       "Name: count, Length: 4965, dtype: int64"
      ]
     },
     "execution_count": 61,
     "metadata": {},
     "output_type": "execute_result"
    }
   ],
   "source": [
    "df.lat.value_counts(dropna=False)"
   ]
  },
  {
   "cell_type": "code",
   "execution_count": 62,
   "id": "56fe0765-94aa-4ce3-bdeb-9b0b5cd124dc",
   "metadata": {
    "tags": []
   },
   "outputs": [
    {
     "data": {
      "text/plain": [
       "count    9902.000000\n",
       "mean       38.568172\n",
       "std         5.202314\n",
       "min        25.080000\n",
       "25%        34.952868\n",
       "50%        39.372365\n",
       "75%        42.462894\n",
       "max        48.937200\n",
       "Name: lat, dtype: float64"
      ]
     },
     "execution_count": 62,
     "metadata": {},
     "output_type": "execute_result"
    }
   ],
   "source": [
    "df.lat.describe()"
   ]
  },
  {
   "cell_type": "code",
   "execution_count": 63,
   "id": "ef73b164-e6bb-48d5-9db8-e32d4b545519",
   "metadata": {
    "tags": []
   },
   "outputs": [],
   "source": [
    "df['lat'] = df['lat'].fillna(int(df['lat'].mean()))"
   ]
  },
  {
   "cell_type": "code",
   "execution_count": 64,
   "id": "9884c697-f359-4c14-8880-450da6cefabc",
   "metadata": {
    "tags": []
   },
   "outputs": [
    {
     "name": "stdout",
     "output_type": "stream",
     "text": [
      "Количество пропущенных значений в lat: 0\n"
     ]
    }
   ],
   "source": [
    "print(\"Количество пропущенных значений в lat:\", df.lat.isna().sum()) "
   ]
  },
  {
   "cell_type": "markdown",
   "id": "762a23d9-73de-4592-9eab-f357fa889992",
   "metadata": {
    "tags": []
   },
   "source": [
    "#### Обработка пропусков в типе топлива"
   ]
  },
  {
   "cell_type": "code",
   "execution_count": 65,
   "id": "805e9f8f-2041-4367-be3f-a12496645c00",
   "metadata": {
    "tags": []
   },
   "outputs": [
    {
     "data": {
      "text/plain": [
       "fuel\n",
       "gas         8402\n",
       "other        730\n",
       "diesel       653\n",
       "hybrid       108\n",
       "NaN           63\n",
       "electric      44\n",
       "Name: count, dtype: int64"
      ]
     },
     "execution_count": 65,
     "metadata": {},
     "output_type": "execute_result"
    }
   ],
   "source": [
    "df.fuel.value_counts(dropna=False)"
   ]
  },
  {
   "cell_type": "code",
   "execution_count": 66,
   "id": "7d6d084e-b543-4fc8-abf3-f7e9f538a218",
   "metadata": {
    "tags": []
   },
   "outputs": [
    {
     "data": {
      "text/plain": [
       "count     9937\n",
       "unique       5\n",
       "top        gas\n",
       "freq      8402\n",
       "Name: fuel, dtype: object"
      ]
     },
     "execution_count": 66,
     "metadata": {},
     "output_type": "execute_result"
    }
   ],
   "source": [
    "df.fuel.describe()"
   ]
  },
  {
   "cell_type": "code",
   "execution_count": 67,
   "id": "83e43f58-6287-42ec-92fe-061dd8dc03e3",
   "metadata": {
    "tags": []
   },
   "outputs": [],
   "source": [
    "df.fuel = df.fuel.fillna('other')"
   ]
  },
  {
   "cell_type": "code",
   "execution_count": 68,
   "id": "4e0a7d14-3e42-40ba-a457-e061b6999a71",
   "metadata": {
    "tags": []
   },
   "outputs": [
    {
     "name": "stdout",
     "output_type": "stream",
     "text": [
      "Количество пропущенных значений в fuel: 0\n"
     ]
    }
   ],
   "source": [
    "print(\"Количество пропущенных значений в fuel:\", df.fuel.isna().sum())  "
   ]
  },
  {
   "cell_type": "markdown",
   "id": "bbc01b20-72d9-471e-8150-55e018f6a1bf",
   "metadata": {
    "jp-MarkdownHeadingCollapsed": true,
    "tags": []
   },
   "source": [
    "#### Обработка пропусков в коробке передач"
   ]
  },
  {
   "cell_type": "code",
   "execution_count": 69,
   "id": "37870495-8c3d-4487-84d4-57d573c2e030",
   "metadata": {},
   "outputs": [
    {
     "data": {
      "text/plain": [
       "transmission\n",
       "automatic    7700\n",
       "other        1624\n",
       "manual        631\n",
       "NaN            45\n",
       "Name: count, dtype: int64"
      ]
     },
     "execution_count": 69,
     "metadata": {},
     "output_type": "execute_result"
    }
   ],
   "source": [
    "df.transmission.value_counts(dropna=False)"
   ]
  },
  {
   "cell_type": "code",
   "execution_count": 70,
   "id": "8444212d-1776-4966-b1c5-53f7832e7915",
   "metadata": {
    "tags": []
   },
   "outputs": [
    {
     "data": {
      "text/plain": [
       "count          9955\n",
       "unique            3\n",
       "top       automatic\n",
       "freq           7700\n",
       "Name: transmission, dtype: object"
      ]
     },
     "execution_count": 70,
     "metadata": {},
     "output_type": "execute_result"
    }
   ],
   "source": [
    "df.transmission.describe()"
   ]
  },
  {
   "cell_type": "code",
   "execution_count": 71,
   "id": "505051d8-131e-485c-9aa6-484f4af5d2a8",
   "metadata": {
    "tags": []
   },
   "outputs": [],
   "source": [
    "df.transmission = df.transmission.fillna('other')"
   ]
  },
  {
   "cell_type": "code",
   "execution_count": 72,
   "id": "6af7dca5-18ce-429c-9a12-a360d6f343b5",
   "metadata": {
    "tags": []
   },
   "outputs": [
    {
     "name": "stdout",
     "output_type": "stream",
     "text": [
      "Количество пропущенных значений в transmission: 0\n"
     ]
    }
   ],
   "source": [
    "print(\"Количество пропущенных значений в transmission:\", df.transmission.isna().sum())"
   ]
  },
  {
   "cell_type": "markdown",
   "id": "76dc112d-e3e2-4396-843a-8e932be64d32",
   "metadata": {
    "jp-MarkdownHeadingCollapsed": true,
    "tags": []
   },
   "source": [
    "#### Обработка пропусков в годе выпуска"
   ]
  },
  {
   "cell_type": "code",
   "execution_count": 73,
   "id": "60f7e7ff-027d-479e-9ab4-27b7177354a6",
   "metadata": {
    "tags": []
   },
   "outputs": [
    {
     "data": {
      "text/plain": [
       "year\n",
       "2018.0    810\n",
       "2017.0    809\n",
       "2016.0    745\n",
       "2013.0    699\n",
       "2015.0    668\n",
       "2014.0    661\n",
       "2012.0    599\n",
       "2019.0    587\n",
       "2011.0    473\n",
       "2008.0    462\n",
       "2020.0    424\n",
       "1994.0    394\n",
       "2007.0    394\n",
       "2010.0    355\n",
       "2006.0    292\n",
       "2009.0    286\n",
       "2005.0    262\n",
       "2004.0    215\n",
       "2003.0    185\n",
       "2002.0    149\n",
       "2001.0    123\n",
       "1999.0     82\n",
       "2000.0     79\n",
       "1998.0     55\n",
       "2021.0     50\n",
       "1997.0     45\n",
       "NaN        36\n",
       "1995.0     33\n",
       "1996.0     25\n",
       "2022.0      3\n",
       "Name: count, dtype: int64"
      ]
     },
     "execution_count": 73,
     "metadata": {},
     "output_type": "execute_result"
    }
   ],
   "source": [
    "df.year.value_counts(dropna=False)"
   ]
  },
  {
   "cell_type": "code",
   "execution_count": 74,
   "id": "ba5dd37a-1669-4e81-9e56-c145a2c6b962",
   "metadata": {
    "tags": []
   },
   "outputs": [
    {
     "data": {
      "text/plain": [
       "36"
      ]
     },
     "execution_count": 74,
     "metadata": {},
     "output_type": "execute_result"
    }
   ],
   "source": [
    "df['year'].isna().sum()"
   ]
  },
  {
   "cell_type": "code",
   "execution_count": 75,
   "id": "b267fb02-4a05-4665-9f22-16a1dd3494ad",
   "metadata": {
    "tags": []
   },
   "outputs": [
    {
     "data": {
      "text/plain": [
       "count    9964.000000\n",
       "mean     2011.669410\n",
       "std         6.516981\n",
       "min      1994.000000\n",
       "25%      2008.000000\n",
       "50%      2013.000000\n",
       "75%      2017.000000\n",
       "max      2022.000000\n",
       "Name: year, dtype: float64"
      ]
     },
     "execution_count": 75,
     "metadata": {},
     "output_type": "execute_result"
    }
   ],
   "source": [
    "df.year.describe()"
   ]
  },
  {
   "cell_type": "code",
   "execution_count": 76,
   "id": "5e324a37-98bb-4240-9a30-97818f702e77",
   "metadata": {
    "tags": []
   },
   "outputs": [],
   "source": [
    "df['year'] = df['year'].fillna(int(df['year'].mean()))"
   ]
  },
  {
   "cell_type": "code",
   "execution_count": 77,
   "id": "a89b3d95-abbb-42b2-afe5-5d5f8cf45677",
   "metadata": {
    "tags": []
   },
   "outputs": [
    {
     "name": "stdout",
     "output_type": "stream",
     "text": [
      "Количество пропущенных значений в year: 0\n"
     ]
    }
   ],
   "source": [
    "print(\"Количество пропущенных значений в year:\", df['year'].isna().sum())"
   ]
  },
  {
   "cell_type": "markdown",
   "id": "b0aba25f-b112-453e-8f54-260760b48367",
   "metadata": {},
   "source": [
    "**Изменение типа данных года выпуска**"
   ]
  },
  {
   "cell_type": "code",
   "execution_count": 78,
   "id": "d41aa963-30e0-4e51-9fc0-1ef5a09f050a",
   "metadata": {
    "tags": []
   },
   "outputs": [
    {
     "data": {
      "text/plain": [
       "dtype('int64')"
      ]
     },
     "execution_count": 78,
     "metadata": {},
     "output_type": "execute_result"
    }
   ],
   "source": [
    "df['year'] = df['year'].astype('int64')\n",
    "df['year'].dtype"
   ]
  },
  {
   "cell_type": "markdown",
   "id": "76e5ec49-f968-464a-9c67-84a9f44c3531",
   "metadata": {
    "tags": []
   },
   "source": [
    "#### Обработка пропусков в столбцах: 'posting_date', 'date'"
   ]
  },
  {
   "cell_type": "code",
   "execution_count": 79,
   "id": "a0e1ea15-4df7-4401-85be-4c6679e438f6",
   "metadata": {
    "tags": []
   },
   "outputs": [
    {
     "data": {
      "text/plain": [
       "2"
      ]
     },
     "execution_count": 79,
     "metadata": {},
     "output_type": "execute_result"
    }
   ],
   "source": [
    "df['posting_date'].isna().sum()"
   ]
  },
  {
   "cell_type": "code",
   "execution_count": 80,
   "id": "2a5ee5e4-07f6-45ec-bc3a-8f042974491a",
   "metadata": {
    "tags": []
   },
   "outputs": [],
   "source": [
    "df['posting_date'] = df['posting_date'].fillna(df['posting_date'].mode()[0])"
   ]
  },
  {
   "cell_type": "code",
   "execution_count": 81,
   "id": "2daf522d-65f6-4632-aa3e-51a1560cef39",
   "metadata": {
    "tags": []
   },
   "outputs": [
    {
     "name": "stdout",
     "output_type": "stream",
     "text": [
      "Количество пропущенных значений в posting_date: 0\n"
     ]
    }
   ],
   "source": [
    "print(\"Количество пропущенных значений в posting_date:\", df['posting_date'].isna().sum())"
   ]
  },
  {
   "cell_type": "code",
   "execution_count": 82,
   "id": "d4e888e2-73e7-4509-a5df-ff6ed94e5fbd",
   "metadata": {
    "tags": []
   },
   "outputs": [
    {
     "data": {
      "text/plain": [
       "2"
      ]
     },
     "execution_count": 82,
     "metadata": {},
     "output_type": "execute_result"
    }
   ],
   "source": [
    "df['date'].isna().sum()"
   ]
  },
  {
   "cell_type": "code",
   "execution_count": 83,
   "id": "a1eb8710-d4b1-4e9f-9c8c-3cc5e63e1a8e",
   "metadata": {
    "tags": []
   },
   "outputs": [],
   "source": [
    "df['date'] = df['date'].fillna(df['date'].mode()[0])"
   ]
  },
  {
   "cell_type": "code",
   "execution_count": 84,
   "id": "f9ff5808-30a4-4f7c-a6be-1625cd4a2c67",
   "metadata": {
    "tags": []
   },
   "outputs": [
    {
     "name": "stdout",
     "output_type": "stream",
     "text": [
      "Количество пропущенных значений в date: 0\n"
     ]
    }
   ],
   "source": [
    "print(\"Количество пропущенных значений в date:\", df['date'].isna().sum())"
   ]
  },
  {
   "cell_type": "markdown",
   "id": "59c8d8f0-d9ce-427c-827d-50d9abc56375",
   "metadata": {
    "tags": []
   },
   "source": [
    "#### Обработка пропусков в столбцах: 'description', 'image_url'"
   ]
  },
  {
   "cell_type": "code",
   "execution_count": 85,
   "id": "fa8d07b3-de7b-454b-852c-365a5f8daf1d",
   "metadata": {
    "tags": []
   },
   "outputs": [
    {
     "data": {
      "text/plain": [
       "2"
      ]
     },
     "execution_count": 85,
     "metadata": {},
     "output_type": "execute_result"
    }
   ],
   "source": [
    "df['description'].isna().sum()"
   ]
  },
  {
   "cell_type": "code",
   "execution_count": 86,
   "id": "b02556a3-694a-4ae6-8be5-00f5ad334907",
   "metadata": {
    "tags": []
   },
   "outputs": [
    {
     "data": {
      "text/plain": [
       "2"
      ]
     },
     "execution_count": 86,
     "metadata": {},
     "output_type": "execute_result"
    }
   ],
   "source": [
    "df['image_url'].isna().sum()"
   ]
  },
  {
   "cell_type": "code",
   "execution_count": 87,
   "id": "5607b47c-8f60-479d-a422-7e2532a404cd",
   "metadata": {
    "tags": []
   },
   "outputs": [],
   "source": [
    "df['description'] = df['description'].fillna('NaN')"
   ]
  },
  {
   "cell_type": "code",
   "execution_count": 88,
   "id": "be15657f-0abc-4f70-9411-392639142162",
   "metadata": {
    "tags": []
   },
   "outputs": [],
   "source": [
    "df['image_url'] = df['image_url'].fillna('NaN')"
   ]
  },
  {
   "cell_type": "code",
   "execution_count": 89,
   "id": "591dbc92-3d1f-455b-89a1-4ada51e6499a",
   "metadata": {
    "tags": []
   },
   "outputs": [
    {
     "name": "stdout",
     "output_type": "stream",
     "text": [
      "Количество пропущенных значений в description: 0\n"
     ]
    }
   ],
   "source": [
    "print(\"Количество пропущенных значений в description:\", df['description'].isna().sum())"
   ]
  },
  {
   "cell_type": "code",
   "execution_count": 90,
   "id": "cfa0e8ca-2772-43b7-bbc7-9f7b81e4a7fa",
   "metadata": {
    "tags": []
   },
   "outputs": [
    {
     "name": "stdout",
     "output_type": "stream",
     "text": [
      "Количество пропущенных значений в image_url: 0\n"
     ]
    }
   ],
   "source": [
    "print(\"Количество пропущенных значений в image_url:\", df['image_url'].isna().sum())"
   ]
  },
  {
   "cell_type": "markdown",
   "id": "9a4eceb7-4b4e-4fdd-80b0-9d245734bed7",
   "metadata": {
    "tags": []
   },
   "source": [
    "# Feature Engineering"
   ]
  },
  {
   "cell_type": "markdown",
   "id": "d34dec6d-893d-4574-a4d5-4007cdc7f649",
   "metadata": {
    "tags": []
   },
   "source": [
    "## Генерация дополнительных фичей"
   ]
  },
  {
   "cell_type": "code",
   "execution_count": 91,
   "id": "48911fc0-6e27-4992-8b68-20cefb9e7ebc",
   "metadata": {
    "tags": []
   },
   "outputs": [
    {
     "data": {
      "text/plain": [
       "count    10000.000000\n",
       "mean      2011.667000\n",
       "std          6.505363\n",
       "min       1994.000000\n",
       "25%       2008.000000\n",
       "50%       2013.000000\n",
       "75%       2017.000000\n",
       "max       2022.000000\n",
       "Name: year, dtype: float64"
      ]
     },
     "execution_count": 91,
     "metadata": {},
     "output_type": "execute_result"
    }
   ],
   "source": [
    "df['year'].describe()"
   ]
  },
  {
   "cell_type": "code",
   "execution_count": 92,
   "id": "d2ab4c9b-7378-4103-b9bd-f178108daf9e",
   "metadata": {
    "tags": []
   },
   "outputs": [],
   "source": [
    "df['age_category'] =  df.apply(lambda x: \"new\" if x.year > 2015 else (\"old\" if x.year < 2008 else \"average\"), axis=1)"
   ]
  },
  {
   "cell_type": "code",
   "execution_count": 93,
   "id": "7cff41fb-209e-415b-977e-5c3c80cf9c5e",
   "metadata": {
    "tags": []
   },
   "outputs": [
    {
     "data": {
      "text/html": [
       "<div>\n",
       "<style scoped>\n",
       "    .dataframe tbody tr th:only-of-type {\n",
       "        vertical-align: middle;\n",
       "    }\n",
       "\n",
       "    .dataframe tbody tr th {\n",
       "        vertical-align: top;\n",
       "    }\n",
       "\n",
       "    .dataframe thead th {\n",
       "        text-align: right;\n",
       "    }\n",
       "</style>\n",
       "<table border=\"1\" class=\"dataframe\">\n",
       "  <thead>\n",
       "    <tr style=\"text-align: right;\">\n",
       "      <th></th>\n",
       "      <th>year</th>\n",
       "      <th>age_category</th>\n",
       "    </tr>\n",
       "  </thead>\n",
       "  <tbody>\n",
       "    <tr>\n",
       "      <th>0</th>\n",
       "      <td>2020</td>\n",
       "      <td>new</td>\n",
       "    </tr>\n",
       "    <tr>\n",
       "      <th>1</th>\n",
       "      <td>2016</td>\n",
       "      <td>new</td>\n",
       "    </tr>\n",
       "    <tr>\n",
       "      <th>2</th>\n",
       "      <td>2017</td>\n",
       "      <td>new</td>\n",
       "    </tr>\n",
       "    <tr>\n",
       "      <th>3</th>\n",
       "      <td>2013</td>\n",
       "      <td>average</td>\n",
       "    </tr>\n",
       "    <tr>\n",
       "      <th>4</th>\n",
       "      <td>2021</td>\n",
       "      <td>new</td>\n",
       "    </tr>\n",
       "    <tr>\n",
       "      <th>...</th>\n",
       "      <td>...</td>\n",
       "      <td>...</td>\n",
       "    </tr>\n",
       "    <tr>\n",
       "      <th>9995</th>\n",
       "      <td>2002</td>\n",
       "      <td>old</td>\n",
       "    </tr>\n",
       "    <tr>\n",
       "      <th>9996</th>\n",
       "      <td>2008</td>\n",
       "      <td>average</td>\n",
       "    </tr>\n",
       "    <tr>\n",
       "      <th>9997</th>\n",
       "      <td>2011</td>\n",
       "      <td>average</td>\n",
       "    </tr>\n",
       "    <tr>\n",
       "      <th>9998</th>\n",
       "      <td>2015</td>\n",
       "      <td>average</td>\n",
       "    </tr>\n",
       "    <tr>\n",
       "      <th>9999</th>\n",
       "      <td>2017</td>\n",
       "      <td>new</td>\n",
       "    </tr>\n",
       "  </tbody>\n",
       "</table>\n",
       "<p>10000 rows × 2 columns</p>\n",
       "</div>"
      ],
      "text/plain": [
       "      year age_category\n",
       "0     2020          new\n",
       "1     2016          new\n",
       "2     2017          new\n",
       "3     2013      average\n",
       "4     2021          new\n",
       "...    ...          ...\n",
       "9995  2002          old\n",
       "9996  2008      average\n",
       "9997  2011      average\n",
       "9998  2015      average\n",
       "9999  2017          new\n",
       "\n",
       "[10000 rows x 2 columns]"
      ]
     },
     "execution_count": 93,
     "metadata": {},
     "output_type": "execute_result"
    }
   ],
   "source": [
    "df[['year', 'age_category']]"
   ]
  },
  {
   "cell_type": "code",
   "execution_count": 94,
   "id": "efb0e370-5513-4fed-9164-775ee2ed7468",
   "metadata": {
    "tags": []
   },
   "outputs": [
    {
     "data": {
      "text/plain": [
       "0       22\n",
       "1       20\n",
       "2       16\n",
       "3        4\n",
       "4        6\n",
       "        ..\n",
       "9995     4\n",
       "9996     8\n",
       "9997    25\n",
       "9998     7\n",
       "9999    22\n",
       "Name: model_len, Length: 10000, dtype: int64"
      ]
     },
     "execution_count": 94,
     "metadata": {},
     "output_type": "execute_result"
    }
   ],
   "source": [
    "df['model_len'] = df.apply(lambda x: len(x.model) , axis=1)\n",
    "df['model_len']"
   ]
  },
  {
   "cell_type": "code",
   "execution_count": 95,
   "id": "035cc187-bb43-4415-8140-bb7af5908716",
   "metadata": {
    "tags": []
   },
   "outputs": [
    {
     "data": {
      "text/plain": [
       "0       5\n",
       "1       4\n",
       "2       3\n",
       "3       1\n",
       "4       1\n",
       "       ..\n",
       "9995    1\n",
       "9996    1\n",
       "9997    5\n",
       "9998    1\n",
       "9999    5\n",
       "Name: model_word_count, Length: 10000, dtype: int64"
      ]
     },
     "execution_count": 95,
     "metadata": {},
     "output_type": "execute_result"
    }
   ],
   "source": [
    "df['model_word_count'] = df.apply(lambda x: len(x.model.split(' ')) , axis=1)\n",
    "df['model_word_count']"
   ]
  },
  {
   "cell_type": "code",
   "execution_count": 96,
   "id": "9a0eb8db-f2d5-40fa-87b2-2e35d51de40f",
   "metadata": {
    "tags": []
   },
   "outputs": [],
   "source": [
    "manufacturer_names = ['audi', 'ford', 'chevrolet', 'toyota', 'jeep', 'honda', 'nissan']\n",
    "\n",
    "for manufacturer in manufacturer_names:\n",
    "    col_name = 'is_' + manufacturer\n",
    "    \n",
    "    df[col_name] = df.apply(lambda x: 1 if x.manufacturer == manufacturer else 0, axis=1)"
   ]
  },
  {
   "cell_type": "code",
   "execution_count": 97,
   "id": "0f173122-4551-49b4-80ec-662324499d7e",
   "metadata": {
    "tags": []
   },
   "outputs": [
    {
     "data": {
      "text/html": [
       "<div>\n",
       "<style scoped>\n",
       "    .dataframe tbody tr th:only-of-type {\n",
       "        vertical-align: middle;\n",
       "    }\n",
       "\n",
       "    .dataframe tbody tr th {\n",
       "        vertical-align: top;\n",
       "    }\n",
       "\n",
       "    .dataframe thead th {\n",
       "        text-align: right;\n",
       "    }\n",
       "</style>\n",
       "<table border=\"1\" class=\"dataframe\">\n",
       "  <thead>\n",
       "    <tr style=\"text-align: right;\">\n",
       "      <th></th>\n",
       "      <th>is_audi</th>\n",
       "      <th>is_ford</th>\n",
       "      <th>is_chevrolet</th>\n",
       "      <th>is_toyota</th>\n",
       "      <th>is_jeep</th>\n",
       "      <th>is_honda</th>\n",
       "      <th>is_nissan</th>\n",
       "    </tr>\n",
       "  </thead>\n",
       "  <tbody>\n",
       "    <tr>\n",
       "      <th>0</th>\n",
       "      <td>0</td>\n",
       "      <td>0</td>\n",
       "      <td>0</td>\n",
       "      <td>0</td>\n",
       "      <td>0</td>\n",
       "      <td>0</td>\n",
       "      <td>0</td>\n",
       "    </tr>\n",
       "    <tr>\n",
       "      <th>1</th>\n",
       "      <td>0</td>\n",
       "      <td>1</td>\n",
       "      <td>0</td>\n",
       "      <td>0</td>\n",
       "      <td>0</td>\n",
       "      <td>0</td>\n",
       "      <td>0</td>\n",
       "    </tr>\n",
       "    <tr>\n",
       "      <th>2</th>\n",
       "      <td>0</td>\n",
       "      <td>0</td>\n",
       "      <td>0</td>\n",
       "      <td>0</td>\n",
       "      <td>0</td>\n",
       "      <td>0</td>\n",
       "      <td>0</td>\n",
       "    </tr>\n",
       "    <tr>\n",
       "      <th>3</th>\n",
       "      <td>0</td>\n",
       "      <td>0</td>\n",
       "      <td>0</td>\n",
       "      <td>1</td>\n",
       "      <td>0</td>\n",
       "      <td>0</td>\n",
       "      <td>0</td>\n",
       "    </tr>\n",
       "    <tr>\n",
       "      <th>4</th>\n",
       "      <td>0</td>\n",
       "      <td>0</td>\n",
       "      <td>0</td>\n",
       "      <td>0</td>\n",
       "      <td>0</td>\n",
       "      <td>0</td>\n",
       "      <td>1</td>\n",
       "    </tr>\n",
       "    <tr>\n",
       "      <th>...</th>\n",
       "      <td>...</td>\n",
       "      <td>...</td>\n",
       "      <td>...</td>\n",
       "      <td>...</td>\n",
       "      <td>...</td>\n",
       "      <td>...</td>\n",
       "      <td>...</td>\n",
       "    </tr>\n",
       "    <tr>\n",
       "      <th>9995</th>\n",
       "      <td>0</td>\n",
       "      <td>0</td>\n",
       "      <td>0</td>\n",
       "      <td>1</td>\n",
       "      <td>0</td>\n",
       "      <td>0</td>\n",
       "      <td>0</td>\n",
       "    </tr>\n",
       "    <tr>\n",
       "      <th>9996</th>\n",
       "      <td>0</td>\n",
       "      <td>0</td>\n",
       "      <td>0</td>\n",
       "      <td>0</td>\n",
       "      <td>1</td>\n",
       "      <td>0</td>\n",
       "      <td>0</td>\n",
       "    </tr>\n",
       "    <tr>\n",
       "      <th>9997</th>\n",
       "      <td>1</td>\n",
       "      <td>0</td>\n",
       "      <td>0</td>\n",
       "      <td>0</td>\n",
       "      <td>0</td>\n",
       "      <td>0</td>\n",
       "      <td>0</td>\n",
       "    </tr>\n",
       "    <tr>\n",
       "      <th>9998</th>\n",
       "      <td>0</td>\n",
       "      <td>0</td>\n",
       "      <td>0</td>\n",
       "      <td>0</td>\n",
       "      <td>0</td>\n",
       "      <td>0</td>\n",
       "      <td>0</td>\n",
       "    </tr>\n",
       "    <tr>\n",
       "      <th>9999</th>\n",
       "      <td>0</td>\n",
       "      <td>0</td>\n",
       "      <td>0</td>\n",
       "      <td>0</td>\n",
       "      <td>0</td>\n",
       "      <td>0</td>\n",
       "      <td>0</td>\n",
       "    </tr>\n",
       "  </tbody>\n",
       "</table>\n",
       "<p>10000 rows × 7 columns</p>\n",
       "</div>"
      ],
      "text/plain": [
       "      is_audi  is_ford  is_chevrolet  is_toyota  is_jeep  is_honda  is_nissan\n",
       "0           0        0             0          0        0         0          0\n",
       "1           0        1             0          0        0         0          0\n",
       "2           0        0             0          0        0         0          0\n",
       "3           0        0             0          1        0         0          0\n",
       "4           0        0             0          0        0         0          1\n",
       "...       ...      ...           ...        ...      ...       ...        ...\n",
       "9995        0        0             0          1        0         0          0\n",
       "9996        0        0             0          0        1         0          0\n",
       "9997        1        0             0          0        0         0          0\n",
       "9998        0        0             0          0        0         0          0\n",
       "9999        0        0             0          0        0         0          0\n",
       "\n",
       "[10000 rows x 7 columns]"
      ]
     },
     "execution_count": 97,
     "metadata": {},
     "output_type": "execute_result"
    }
   ],
   "source": [
    "df.iloc[:, -7:]"
   ]
  },
  {
   "cell_type": "code",
   "execution_count": 98,
   "id": "778b3f99-4be7-469e-9e3d-42de62811398",
   "metadata": {
    "tags": []
   },
   "outputs": [
    {
     "data": {
      "text/plain": [
       "0       Carvana is the safer way to buy a car During t...\n",
       "1       ***Call Us for more information at: 201-635-14...\n",
       "2       Carvana is the safer way to buy a car During t...\n",
       "3       2013 Toyota RAV4 XLE 4dr SUV     Offered by: R...\n",
       "4       2021 Nissan Altima Sv with Only 8 K Miles Titl...\n",
       "                              ...                        \n",
       "9995    Transmission:Automatic Exterior Color:WHITE In...\n",
       "9996    2008 Jeep Wrangler X  Offered by: R&L Auto -- ...\n",
       "9997    2011 Audi A3 2.0T Premium Plus PZEV Wagon2011 ...\n",
       "9998    2015 Porsche Cayenne AWD 4dr S E-Hybrid - $31,...\n",
       "9999    Carvana is the safer way to buy a car During t...\n",
       "Name: description, Length: 10000, dtype: object"
      ]
     },
     "execution_count": 98,
     "metadata": {},
     "output_type": "execute_result"
    }
   ],
   "source": [
    "df.description"
   ]
  },
  {
   "cell_type": "code",
   "execution_count": 99,
   "id": "02a7771c-aad5-46a0-9b52-e8f983060745",
   "metadata": {
    "tags": []
   },
   "outputs": [
    {
     "data": {
      "text/plain": [
       "0       4482\n",
       "1        968\n",
       "2       4286\n",
       "3       3241\n",
       "4        538\n",
       "        ... \n",
       "9995    1710\n",
       "9996     948\n",
       "9997     909\n",
       "9998    3644\n",
       "9999    4483\n",
       "Name: desc_len, Length: 10000, dtype: int64"
      ]
     },
     "execution_count": 99,
     "metadata": {},
     "output_type": "execute_result"
    }
   ],
   "source": [
    "df['desc_len'] = df.apply(lambda x: len(x.description) , axis=1)\n",
    "df['desc_len']"
   ]
  },
  {
   "cell_type": "code",
   "execution_count": 100,
   "id": "5c2821ab-65d7-4b3a-a244-88b7589c064b",
   "metadata": {
    "tags": []
   },
   "outputs": [],
   "source": [
    "df['model_in_desc'] = df.apply(lambda x: x.description.count(x.model) , axis=1)"
   ]
  },
  {
   "cell_type": "code",
   "execution_count": 101,
   "id": "86acf896-98e7-4ab7-9bd6-ef89687c73de",
   "metadata": {
    "tags": []
   },
   "outputs": [
    {
     "data": {
      "text/plain": [
       "model_in_desc\n",
       "0     8804\n",
       "1      824\n",
       "2      104\n",
       "3       57\n",
       "5       34\n",
       "4       25\n",
       "16      16\n",
       "9       14\n",
       "14      11\n",
       "7       11\n",
       "8       10\n",
       "6        9\n",
       "28       9\n",
       "15       9\n",
       "17       8\n",
       "18       7\n",
       "20       5\n",
       "11       4\n",
       "23       3\n",
       "19       3\n",
       "25       3\n",
       "31       3\n",
       "27       3\n",
       "22       3\n",
       "13       3\n",
       "29       2\n",
       "10       2\n",
       "35       2\n",
       "26       2\n",
       "56       1\n",
       "39       1\n",
       "36       1\n",
       "30       1\n",
       "32       1\n",
       "49       1\n",
       "34       1\n",
       "54       1\n",
       "63       1\n",
       "12       1\n",
       "Name: count, dtype: int64"
      ]
     },
     "execution_count": 101,
     "metadata": {},
     "output_type": "execute_result"
    }
   ],
   "source": [
    "df['model_in_desc'].value_counts()"
   ]
  },
  {
   "cell_type": "code",
   "execution_count": null,
   "id": "a45df704-4c11-4346-a9ee-0ae736036259",
   "metadata": {},
   "outputs": [],
   "source": []
  },
  {
   "cell_type": "markdown",
   "id": "d4349eff-eaf1-4ed5-a3b7-a19632e66cda",
   "metadata": {
    "tags": []
   },
   "source": [
    "## Преобразование строковых признаков"
   ]
  },
  {
   "cell_type": "code",
   "execution_count": 102,
   "id": "b1d0d4b6-9d5f-4da9-9112-9e4558f4717c",
   "metadata": {},
   "outputs": [
    {
     "data": {
      "text/plain": [
       "model\n",
       "f-150                        151\n",
       "other                        128\n",
       "silverado 1500               110\n",
       "1500                         100\n",
       "camry                         77\n",
       "                            ... \n",
       "grand caravan sport            1\n",
       "Nascar                         1\n",
       "titan le                       1\n",
       "sorrento lx v6                 1\n",
       "a3 2.0t premium plus pzev      1\n",
       "Name: count, Length: 3467, dtype: int64"
      ]
     },
     "execution_count": 102,
     "metadata": {},
     "output_type": "execute_result"
    }
   ],
   "source": [
    "df.model.value_counts()"
   ]
  },
  {
   "cell_type": "code",
   "execution_count": 103,
   "id": "7dbce4ca-693e-48f3-9161-3df77abdb167",
   "metadata": {},
   "outputs": [
    {
     "data": {
      "text/plain": [
       "3467"
      ]
     },
     "execution_count": 103,
     "metadata": {},
     "output_type": "execute_result"
    }
   ],
   "source": [
    "df.model.nunique()"
   ]
  },
  {
   "cell_type": "code",
   "execution_count": 104,
   "id": "39e0bee2-30aa-48ee-9aae-4d24eef33497",
   "metadata": {
    "tags": []
   },
   "outputs": [
    {
     "data": {
      "text/plain": [
       "0           2500\n",
       "1       explorer\n",
       "2           golf\n",
       "3           rav4\n",
       "4         altima\n",
       "          ...   \n",
       "9995        rav4\n",
       "9996    wrangler\n",
       "9997          a3\n",
       "9998     cayenne\n",
       "9999        1500\n",
       "Name: short_model, Length: 10000, dtype: object"
      ]
     },
     "execution_count": 104,
     "metadata": {},
     "output_type": "execute_result"
    }
   ],
   "source": [
    "df['short_model'] = df.model.apply(lambda x: x.lower().split(' ')[0])\n",
    "df['short_model']"
   ]
  },
  {
   "cell_type": "code",
   "execution_count": 105,
   "id": "27e4b21e-63e5-4685-904a-cd4d0eeed47e",
   "metadata": {
    "tags": []
   },
   "outputs": [
    {
     "data": {
      "text/plain": [
       "940"
      ]
     },
     "execution_count": 105,
     "metadata": {},
     "output_type": "execute_result"
    }
   ],
   "source": [
    "df['short_model'].nunique()"
   ]
  },
  {
   "cell_type": "markdown",
   "id": "bbe2cc21-8957-4a95-8c4e-29cdfbc31e96",
   "metadata": {
    "tags": []
   },
   "source": [
    "## Преобразование категориальных переменных"
   ]
  },
  {
   "cell_type": "code",
   "execution_count": 106,
   "id": "2d2b1b97-decc-452f-8e5f-e104cf05eb14",
   "metadata": {
    "tags": []
   },
   "outputs": [
    {
     "name": "stdout",
     "output_type": "stream",
     "text": [
      "short_model 940\n",
      "transmission 3\n",
      "fuel 5\n",
      "region 393\n",
      "manufacturer 40\n",
      "state 51\n",
      "title_status 6\n",
      "age_category 3\n"
     ]
    }
   ],
   "source": [
    "categories = ['short_model', 'transmission', 'fuel', 'region', 'manufacturer', 'state', 'title_status', 'age_category']\n",
    "\n",
    "for cat in categories:\n",
    "    print(cat, df[cat].nunique())"
   ]
  },
  {
   "cell_type": "code",
   "execution_count": 107,
   "id": "54b836e9-67ac-4f00-be60-6eeca8967e26",
   "metadata": {
    "tags": []
   },
   "outputs": [],
   "source": [
    "data = df[categories]\n",
    "ohe = OneHotEncoder(sparse_output=False)\n",
    "ohe.fit(df[categories])\n",
    "ohe_data = ohe.transform(df[categories])"
   ]
  },
  {
   "cell_type": "code",
   "execution_count": 108,
   "id": "e502da17-d62d-4c8c-866c-aec5bd6f4c09",
   "metadata": {
    "tags": []
   },
   "outputs": [],
   "source": [
    "feature_names = ohe.get_feature_names_out()\n",
    "ohe_df = pd.DataFrame(ohe_data, columns=feature_names)"
   ]
  },
  {
   "cell_type": "code",
   "execution_count": 109,
   "id": "a9cb2f8a-7269-4c21-9c6f-67d63eaed754",
   "metadata": {},
   "outputs": [],
   "source": [
    "df = pd.concat([df, ohe_df], axis=1)"
   ]
  },
  {
   "cell_type": "code",
   "execution_count": 110,
   "id": "2f9ba31e-b41f-4cad-aa11-b731ffe17b56",
   "metadata": {
    "tags": []
   },
   "outputs": [
    {
     "data": {
      "text/html": [
       "<div>\n",
       "<style scoped>\n",
       "    .dataframe tbody tr th:only-of-type {\n",
       "        vertical-align: middle;\n",
       "    }\n",
       "\n",
       "    .dataframe tbody tr th {\n",
       "        vertical-align: top;\n",
       "    }\n",
       "\n",
       "    .dataframe thead th {\n",
       "        text-align: right;\n",
       "    }\n",
       "</style>\n",
       "<table border=\"1\" class=\"dataframe\">\n",
       "  <thead>\n",
       "    <tr style=\"text-align: right;\">\n",
       "      <th></th>\n",
       "      <th>id</th>\n",
       "      <th>url</th>\n",
       "      <th>region</th>\n",
       "      <th>region_url</th>\n",
       "      <th>price</th>\n",
       "      <th>year</th>\n",
       "      <th>manufacturer</th>\n",
       "      <th>model</th>\n",
       "      <th>fuel</th>\n",
       "      <th>odometer</th>\n",
       "      <th>...</th>\n",
       "      <th>state_wy</th>\n",
       "      <th>title_status_clean</th>\n",
       "      <th>title_status_lien</th>\n",
       "      <th>title_status_missing</th>\n",
       "      <th>title_status_parts only</th>\n",
       "      <th>title_status_rebuilt</th>\n",
       "      <th>title_status_salvage</th>\n",
       "      <th>age_category_average</th>\n",
       "      <th>age_category_new</th>\n",
       "      <th>age_category_old</th>\n",
       "    </tr>\n",
       "  </thead>\n",
       "  <tbody>\n",
       "    <tr>\n",
       "      <th>0</th>\n",
       "      <td>7308295377</td>\n",
       "      <td>https://chattanooga.craigslist.org/ctd/d/chatt...</td>\n",
       "      <td>chattanooga</td>\n",
       "      <td>https://chattanooga.craigslist.org</td>\n",
       "      <td>54990</td>\n",
       "      <td>2020</td>\n",
       "      <td>ram</td>\n",
       "      <td>2500 crew cab big horn</td>\n",
       "      <td>diesel</td>\n",
       "      <td>27442</td>\n",
       "      <td>...</td>\n",
       "      <td>0.0</td>\n",
       "      <td>1.0</td>\n",
       "      <td>0.0</td>\n",
       "      <td>0.0</td>\n",
       "      <td>0.0</td>\n",
       "      <td>0.0</td>\n",
       "      <td>0.0</td>\n",
       "      <td>0.0</td>\n",
       "      <td>1.0</td>\n",
       "      <td>0.0</td>\n",
       "    </tr>\n",
       "    <tr>\n",
       "      <th>1</th>\n",
       "      <td>7316380095</td>\n",
       "      <td>https://newjersey.craigslist.org/ctd/d/carlsta...</td>\n",
       "      <td>north jersey</td>\n",
       "      <td>https://newjersey.craigslist.org</td>\n",
       "      <td>16942</td>\n",
       "      <td>2016</td>\n",
       "      <td>ford</td>\n",
       "      <td>explorer 4wd 4dr xlt</td>\n",
       "      <td>other</td>\n",
       "      <td>60023</td>\n",
       "      <td>...</td>\n",
       "      <td>0.0</td>\n",
       "      <td>1.0</td>\n",
       "      <td>0.0</td>\n",
       "      <td>0.0</td>\n",
       "      <td>0.0</td>\n",
       "      <td>0.0</td>\n",
       "      <td>0.0</td>\n",
       "      <td>0.0</td>\n",
       "      <td>1.0</td>\n",
       "      <td>0.0</td>\n",
       "    </tr>\n",
       "    <tr>\n",
       "      <th>2</th>\n",
       "      <td>7313733749</td>\n",
       "      <td>https://reno.craigslist.org/ctd/d/atlanta-2017...</td>\n",
       "      <td>reno / tahoe</td>\n",
       "      <td>https://reno.craigslist.org</td>\n",
       "      <td>35590</td>\n",
       "      <td>2017</td>\n",
       "      <td>volkswagen</td>\n",
       "      <td>golf r hatchback</td>\n",
       "      <td>gas</td>\n",
       "      <td>14048</td>\n",
       "      <td>...</td>\n",
       "      <td>0.0</td>\n",
       "      <td>1.0</td>\n",
       "      <td>0.0</td>\n",
       "      <td>0.0</td>\n",
       "      <td>0.0</td>\n",
       "      <td>0.0</td>\n",
       "      <td>0.0</td>\n",
       "      <td>0.0</td>\n",
       "      <td>1.0</td>\n",
       "      <td>0.0</td>\n",
       "    </tr>\n",
       "    <tr>\n",
       "      <th>3</th>\n",
       "      <td>7308210929</td>\n",
       "      <td>https://fayetteville.craigslist.org/ctd/d/rale...</td>\n",
       "      <td>fayetteville</td>\n",
       "      <td>https://fayetteville.craigslist.org</td>\n",
       "      <td>14500</td>\n",
       "      <td>2013</td>\n",
       "      <td>toyota</td>\n",
       "      <td>rav4</td>\n",
       "      <td>gas</td>\n",
       "      <td>117291</td>\n",
       "      <td>...</td>\n",
       "      <td>0.0</td>\n",
       "      <td>1.0</td>\n",
       "      <td>0.0</td>\n",
       "      <td>0.0</td>\n",
       "      <td>0.0</td>\n",
       "      <td>0.0</td>\n",
       "      <td>0.0</td>\n",
       "      <td>1.0</td>\n",
       "      <td>0.0</td>\n",
       "      <td>0.0</td>\n",
       "    </tr>\n",
       "    <tr>\n",
       "      <th>4</th>\n",
       "      <td>7316474668</td>\n",
       "      <td>https://newyork.craigslist.org/lgi/cto/d/baldw...</td>\n",
       "      <td>new york city</td>\n",
       "      <td>https://newyork.craigslist.org</td>\n",
       "      <td>21800</td>\n",
       "      <td>2021</td>\n",
       "      <td>nissan</td>\n",
       "      <td>altima</td>\n",
       "      <td>gas</td>\n",
       "      <td>8000</td>\n",
       "      <td>...</td>\n",
       "      <td>0.0</td>\n",
       "      <td>1.0</td>\n",
       "      <td>0.0</td>\n",
       "      <td>0.0</td>\n",
       "      <td>0.0</td>\n",
       "      <td>0.0</td>\n",
       "      <td>0.0</td>\n",
       "      <td>0.0</td>\n",
       "      <td>1.0</td>\n",
       "      <td>0.0</td>\n",
       "    </tr>\n",
       "  </tbody>\n",
       "</table>\n",
       "<p>5 rows × 1474 columns</p>\n",
       "</div>"
      ],
      "text/plain": [
       "           id                                                url  \\\n",
       "0  7308295377  https://chattanooga.craigslist.org/ctd/d/chatt...   \n",
       "1  7316380095  https://newjersey.craigslist.org/ctd/d/carlsta...   \n",
       "2  7313733749  https://reno.craigslist.org/ctd/d/atlanta-2017...   \n",
       "3  7308210929  https://fayetteville.craigslist.org/ctd/d/rale...   \n",
       "4  7316474668  https://newyork.craigslist.org/lgi/cto/d/baldw...   \n",
       "\n",
       "          region                           region_url  price  year  \\\n",
       "0    chattanooga   https://chattanooga.craigslist.org  54990  2020   \n",
       "1   north jersey     https://newjersey.craigslist.org  16942  2016   \n",
       "2   reno / tahoe          https://reno.craigslist.org  35590  2017   \n",
       "3   fayetteville  https://fayetteville.craigslist.org  14500  2013   \n",
       "4  new york city       https://newyork.craigslist.org  21800  2021   \n",
       "\n",
       "  manufacturer                   model    fuel  odometer  ... state_wy  \\\n",
       "0          ram  2500 crew cab big horn  diesel     27442  ...      0.0   \n",
       "1         ford    explorer 4wd 4dr xlt   other     60023  ...      0.0   \n",
       "2   volkswagen        golf r hatchback     gas     14048  ...      0.0   \n",
       "3       toyota                    rav4     gas    117291  ...      0.0   \n",
       "4       nissan                  altima     gas      8000  ...      0.0   \n",
       "\n",
       "  title_status_clean title_status_lien title_status_missing  \\\n",
       "0                1.0               0.0                  0.0   \n",
       "1                1.0               0.0                  0.0   \n",
       "2                1.0               0.0                  0.0   \n",
       "3                1.0               0.0                  0.0   \n",
       "4                1.0               0.0                  0.0   \n",
       "\n",
       "  title_status_parts only  title_status_rebuilt  title_status_salvage  \\\n",
       "0                     0.0                   0.0                   0.0   \n",
       "1                     0.0                   0.0                   0.0   \n",
       "2                     0.0                   0.0                   0.0   \n",
       "3                     0.0                   0.0                   0.0   \n",
       "4                     0.0                   0.0                   0.0   \n",
       "\n",
       "  age_category_average age_category_new age_category_old  \n",
       "0                  0.0              1.0              0.0  \n",
       "1                  0.0              1.0              0.0  \n",
       "2                  0.0              1.0              0.0  \n",
       "3                  1.0              0.0              0.0  \n",
       "4                  0.0              1.0              0.0  \n",
       "\n",
       "[5 rows x 1474 columns]"
      ]
     },
     "execution_count": 110,
     "metadata": {},
     "output_type": "execute_result"
    }
   ],
   "source": [
    "df.head()"
   ]
  },
  {
   "cell_type": "markdown",
   "id": "94a12ae2-10ca-43d8-a7f1-fc4fe22fb2b1",
   "metadata": {
    "tags": []
   },
   "source": [
    "## Преобразование признаков на основе дат"
   ]
  },
  {
   "cell_type": "code",
   "execution_count": 111,
   "id": "794d218e-b965-4f24-b5c6-937051af8a79",
   "metadata": {},
   "outputs": [],
   "source": [
    "df.date = pd.to_datetime(df['date'])"
   ]
  },
  {
   "cell_type": "code",
   "execution_count": 112,
   "id": "8239e13e-bfd3-4dac-a00d-b22f6f59527c",
   "metadata": {},
   "outputs": [],
   "source": [
    "df.posting_date = pd.to_datetime(df['posting_date'])"
   ]
  },
  {
   "cell_type": "code",
   "execution_count": 114,
   "id": "96421e2a-436d-4200-ae3c-f24e3bcae6ee",
   "metadata": {},
   "outputs": [
    {
     "data": {
      "text/plain": [
       "0       4\n",
       "1       5\n",
       "2       4\n",
       "3       4\n",
       "4       5\n",
       "       ..\n",
       "9995    4\n",
       "9996    5\n",
       "9997    4\n",
       "9998    4\n",
       "9999    4\n",
       "Length: 10000, dtype: int64"
      ]
     },
     "execution_count": 114,
     "metadata": {},
     "output_type": "execute_result"
    }
   ],
   "source": [
    "df.apply(lambda x: x.posting_date.month, axis=1)"
   ]
  },
  {
   "cell_type": "code",
   "execution_count": 115,
   "id": "c5ad15f8-72d1-4cbd-814d-3b951560f42e",
   "metadata": {},
   "outputs": [
    {
     "data": {
      "text/plain": [
       "0       4\n",
       "1       5\n",
       "2       4\n",
       "3       4\n",
       "4       5\n",
       "       ..\n",
       "9995    4\n",
       "9996    5\n",
       "9997    4\n",
       "9998    4\n",
       "9999    4\n",
       "Length: 10000, dtype: int64"
      ]
     },
     "execution_count": 115,
     "metadata": {},
     "output_type": "execute_result"
    }
   ],
   "source": [
    "df.apply(lambda x: x.date.month, axis=1)"
   ]
  },
  {
   "cell_type": "code",
   "execution_count": 116,
   "id": "08cc1d76-c7f2-444f-8309-8001ed1201b2",
   "metadata": {},
   "outputs": [
    {
     "data": {
      "text/plain": [
       "0       4\n",
       "1       5\n",
       "2       4\n",
       "3       4\n",
       "4       5\n",
       "       ..\n",
       "9995    4\n",
       "9996    5\n",
       "9997    4\n",
       "9998    4\n",
       "9999    4\n",
       "Name: month, Length: 10000, dtype: int64"
      ]
     },
     "execution_count": 116,
     "metadata": {},
     "output_type": "execute_result"
    }
   ],
   "source": [
    "df = df.assign(month = df.apply(lambda x: x.date.month, axis=1))\n",
    "df.month"
   ]
  },
  {
   "cell_type": "code",
   "execution_count": 117,
   "id": "f166d821-a501-4b71-929b-bde3778943c9",
   "metadata": {},
   "outputs": [
    {
     "data": {
      "text/plain": [
       "0       5\n",
       "1       0\n",
       "2       2\n",
       "3       5\n",
       "4       0\n",
       "       ..\n",
       "9995    5\n",
       "9996    0\n",
       "9997    3\n",
       "9998    2\n",
       "9999    5\n",
       "Name: dayofweek, Length: 10000, dtype: int32"
      ]
     },
     "execution_count": 117,
     "metadata": {},
     "output_type": "execute_result"
    }
   ],
   "source": [
    "df = df.assign(dayofweek = df.date.dt.dayofweek)\n",
    "df.dayofweek"
   ]
  },
  {
   "cell_type": "code",
   "execution_count": 118,
   "id": "a34bbcb1-9d23-4c4e-8e84-c849dc27e9d1",
   "metadata": {},
   "outputs": [
    {
     "data": {
      "text/plain": [
       "0        1\n",
       "1        5\n",
       "2        4\n",
       "3        8\n",
       "4        0\n",
       "        ..\n",
       "9995    19\n",
       "9996    13\n",
       "9997    10\n",
       "9998     6\n",
       "9999     4\n",
       "Name: diff_years, Length: 10000, dtype: int64"
      ]
     },
     "execution_count": 118,
     "metadata": {},
     "output_type": "execute_result"
    }
   ],
   "source": [
    "df = df.assign(diff_years = df.apply(lambda x: (x.date.year - x.year), axis=1))\n",
    "df.diff_years"
   ]
  },
  {
   "cell_type": "code",
   "execution_count": null,
   "id": "3c8c4f0e-ff30-42a0-9d0a-9cd6be2f243f",
   "metadata": {},
   "outputs": [],
   "source": []
  },
  {
   "cell_type": "code",
   "execution_count": null,
   "id": "6a43f91b-0699-4bce-b1a6-2b86413e6823",
   "metadata": {},
   "outputs": [],
   "source": []
  },
  {
   "cell_type": "markdown",
   "id": "2c16f26e-0a1a-4e12-acb1-4764e576b61d",
   "metadata": {
    "tags": []
   },
   "source": [
    "## Стандартизация данных"
   ]
  },
  {
   "cell_type": "code",
   "execution_count": 119,
   "id": "4c696451-ed38-4763-9d55-a366e7796826",
   "metadata": {
    "tags": []
   },
   "outputs": [],
   "source": [
    "new_data = ['odometer', 'lat', 'long', 'year', 'desc_len', 'model_in_desc', 'model_len', 'model_word_count', 'month', 'dayofweek', 'diff_years']\n",
    "data = df[new_data]"
   ]
  },
  {
   "cell_type": "code",
   "execution_count": 120,
   "id": "57a607df-220f-41c4-843f-9fbe63438537",
   "metadata": {
    "tags": []
   },
   "outputs": [
    {
     "data": {
      "text/html": [
       "<style>#sk-container-id-1 {color: black;}#sk-container-id-1 pre{padding: 0;}#sk-container-id-1 div.sk-toggleable {background-color: white;}#sk-container-id-1 label.sk-toggleable__label {cursor: pointer;display: block;width: 100%;margin-bottom: 0;padding: 0.3em;box-sizing: border-box;text-align: center;}#sk-container-id-1 label.sk-toggleable__label-arrow:before {content: \"▸\";float: left;margin-right: 0.25em;color: #696969;}#sk-container-id-1 label.sk-toggleable__label-arrow:hover:before {color: black;}#sk-container-id-1 div.sk-estimator:hover label.sk-toggleable__label-arrow:before {color: black;}#sk-container-id-1 div.sk-toggleable__content {max-height: 0;max-width: 0;overflow: hidden;text-align: left;background-color: #f0f8ff;}#sk-container-id-1 div.sk-toggleable__content pre {margin: 0.2em;color: black;border-radius: 0.25em;background-color: #f0f8ff;}#sk-container-id-1 input.sk-toggleable__control:checked~div.sk-toggleable__content {max-height: 200px;max-width: 100%;overflow: auto;}#sk-container-id-1 input.sk-toggleable__control:checked~label.sk-toggleable__label-arrow:before {content: \"▾\";}#sk-container-id-1 div.sk-estimator input.sk-toggleable__control:checked~label.sk-toggleable__label {background-color: #d4ebff;}#sk-container-id-1 div.sk-label input.sk-toggleable__control:checked~label.sk-toggleable__label {background-color: #d4ebff;}#sk-container-id-1 input.sk-hidden--visually {border: 0;clip: rect(1px 1px 1px 1px);clip: rect(1px, 1px, 1px, 1px);height: 1px;margin: -1px;overflow: hidden;padding: 0;position: absolute;width: 1px;}#sk-container-id-1 div.sk-estimator {font-family: monospace;background-color: #f0f8ff;border: 1px dotted black;border-radius: 0.25em;box-sizing: border-box;margin-bottom: 0.5em;}#sk-container-id-1 div.sk-estimator:hover {background-color: #d4ebff;}#sk-container-id-1 div.sk-parallel-item::after {content: \"\";width: 100%;border-bottom: 1px solid gray;flex-grow: 1;}#sk-container-id-1 div.sk-label:hover label.sk-toggleable__label {background-color: #d4ebff;}#sk-container-id-1 div.sk-serial::before {content: \"\";position: absolute;border-left: 1px solid gray;box-sizing: border-box;top: 0;bottom: 0;left: 50%;z-index: 0;}#sk-container-id-1 div.sk-serial {display: flex;flex-direction: column;align-items: center;background-color: white;padding-right: 0.2em;padding-left: 0.2em;position: relative;}#sk-container-id-1 div.sk-item {position: relative;z-index: 1;}#sk-container-id-1 div.sk-parallel {display: flex;align-items: stretch;justify-content: center;background-color: white;position: relative;}#sk-container-id-1 div.sk-item::before, #sk-container-id-1 div.sk-parallel-item::before {content: \"\";position: absolute;border-left: 1px solid gray;box-sizing: border-box;top: 0;bottom: 0;left: 50%;z-index: -1;}#sk-container-id-1 div.sk-parallel-item {display: flex;flex-direction: column;z-index: 1;position: relative;background-color: white;}#sk-container-id-1 div.sk-parallel-item:first-child::after {align-self: flex-end;width: 50%;}#sk-container-id-1 div.sk-parallel-item:last-child::after {align-self: flex-start;width: 50%;}#sk-container-id-1 div.sk-parallel-item:only-child::after {width: 0;}#sk-container-id-1 div.sk-dashed-wrapped {border: 1px dashed gray;margin: 0 0.4em 0.5em 0.4em;box-sizing: border-box;padding-bottom: 0.4em;background-color: white;}#sk-container-id-1 div.sk-label label {font-family: monospace;font-weight: bold;display: inline-block;line-height: 1.2em;}#sk-container-id-1 div.sk-label-container {text-align: center;}#sk-container-id-1 div.sk-container {/* jupyter's `normalize.less` sets `[hidden] { display: none; }` but bootstrap.min.css set `[hidden] { display: none !important; }` so we also need the `!important` here to be able to override the default hidden behavior on the sphinx rendered scikit-learn.org. See: https://github.com/scikit-learn/scikit-learn/issues/21755 */display: inline-block !important;position: relative;}#sk-container-id-1 div.sk-text-repr-fallback {display: none;}</style><div id=\"sk-container-id-1\" class=\"sk-top-container\"><div class=\"sk-text-repr-fallback\"><pre>StandardScaler()</pre><b>In a Jupyter environment, please rerun this cell to show the HTML representation or trust the notebook. <br />On GitHub, the HTML representation is unable to render, please try loading this page with nbviewer.org.</b></div><div class=\"sk-container\" hidden><div class=\"sk-item\"><div class=\"sk-estimator sk-toggleable\"><input class=\"sk-toggleable__control sk-hidden--visually\" id=\"sk-estimator-id-1\" type=\"checkbox\" checked><label for=\"sk-estimator-id-1\" class=\"sk-toggleable__label sk-toggleable__label-arrow\">StandardScaler</label><div class=\"sk-toggleable__content\"><pre>StandardScaler()</pre></div></div></div></div></div>"
      ],
      "text/plain": [
       "StandardScaler()"
      ]
     },
     "execution_count": 120,
     "metadata": {},
     "output_type": "execute_result"
    }
   ],
   "source": [
    "std_scaler = StandardScaler()\n",
    "std_scaler.fit(data)"
   ]
  },
  {
   "cell_type": "code",
   "execution_count": 121,
   "id": "57fe5513-0da3-4ca5-afe1-4694c5881182",
   "metadata": {
    "tags": []
   },
   "outputs": [],
   "source": [
    "std_scaled = std_scaler.transform(data)"
   ]
  },
  {
   "cell_type": "code",
   "execution_count": 122,
   "id": "68350881-1fc5-44e5-b35a-46ecc596abd1",
   "metadata": {
    "tags": []
   },
   "outputs": [],
   "source": [
    "new_data = [elem + '_std' for elem in new_data]"
   ]
  },
  {
   "cell_type": "code",
   "execution_count": 123,
   "id": "0352db1c-e7b7-4d60-8434-d022d58d6fdc",
   "metadata": {
    "tags": []
   },
   "outputs": [],
   "source": [
    "std_df = pd.DataFrame(std_scaled, columns=new_data)"
   ]
  },
  {
   "cell_type": "code",
   "execution_count": 124,
   "id": "f5570f38-954e-4bb5-9485-dcb501fbe233",
   "metadata": {
    "tags": []
   },
   "outputs": [],
   "source": [
    "df = pd.concat([df, std_df], axis=1)"
   ]
  },
  {
   "cell_type": "code",
   "execution_count": 125,
   "id": "60e824d3-e257-45d8-9a7f-ee03905a26a4",
   "metadata": {
    "tags": []
   },
   "outputs": [
    {
     "data": {
      "text/html": [
       "<div>\n",
       "<style scoped>\n",
       "    .dataframe tbody tr th:only-of-type {\n",
       "        vertical-align: middle;\n",
       "    }\n",
       "\n",
       "    .dataframe tbody tr th {\n",
       "        vertical-align: top;\n",
       "    }\n",
       "\n",
       "    .dataframe thead th {\n",
       "        text-align: right;\n",
       "    }\n",
       "</style>\n",
       "<table border=\"1\" class=\"dataframe\">\n",
       "  <thead>\n",
       "    <tr style=\"text-align: right;\">\n",
       "      <th></th>\n",
       "      <th>id</th>\n",
       "      <th>url</th>\n",
       "      <th>region</th>\n",
       "      <th>region_url</th>\n",
       "      <th>price</th>\n",
       "      <th>year</th>\n",
       "      <th>manufacturer</th>\n",
       "      <th>model</th>\n",
       "      <th>fuel</th>\n",
       "      <th>odometer</th>\n",
       "      <th>...</th>\n",
       "      <th>lat_std</th>\n",
       "      <th>long_std</th>\n",
       "      <th>year_std</th>\n",
       "      <th>desc_len_std</th>\n",
       "      <th>model_in_desc_std</th>\n",
       "      <th>model_len_std</th>\n",
       "      <th>model_word_count_std</th>\n",
       "      <th>month_std</th>\n",
       "      <th>dayofweek_std</th>\n",
       "      <th>diff_years_std</th>\n",
       "    </tr>\n",
       "  </thead>\n",
       "  <tbody>\n",
       "    <tr>\n",
       "      <th>0</th>\n",
       "      <td>7308295377</td>\n",
       "      <td>https://chattanooga.craigslist.org/ctd/d/chatt...</td>\n",
       "      <td>chattanooga</td>\n",
       "      <td>https://chattanooga.craigslist.org</td>\n",
       "      <td>54990</td>\n",
       "      <td>2020</td>\n",
       "      <td>ram</td>\n",
       "      <td>2500 crew cab big horn</td>\n",
       "      <td>diesel</td>\n",
       "      <td>27442</td>\n",
       "      <td>...</td>\n",
       "      <td>-0.676596</td>\n",
       "      <td>0.504705</td>\n",
       "      <td>1.281007</td>\n",
       "      <td>0.606640</td>\n",
       "      <td>-0.164475</td>\n",
       "      <td>1.159786</td>\n",
       "      <td>1.909905</td>\n",
       "      <td>-0.612485</td>\n",
       "      <td>1.115383</td>\n",
       "      <td>-1.281007</td>\n",
       "    </tr>\n",
       "    <tr>\n",
       "      <th>1</th>\n",
       "      <td>7316380095</td>\n",
       "      <td>https://newjersey.craigslist.org/ctd/d/carlsta...</td>\n",
       "      <td>north jersey</td>\n",
       "      <td>https://newjersey.craigslist.org</td>\n",
       "      <td>16942</td>\n",
       "      <td>2016</td>\n",
       "      <td>ford</td>\n",
       "      <td>explorer 4wd 4dr xlt</td>\n",
       "      <td>other</td>\n",
       "      <td>60023</td>\n",
       "      <td>...</td>\n",
       "      <td>0.436409</td>\n",
       "      <td>1.137059</td>\n",
       "      <td>0.666099</td>\n",
       "      <td>-0.659192</td>\n",
       "      <td>-0.164475</td>\n",
       "      <td>0.929345</td>\n",
       "      <td>1.235385</td>\n",
       "      <td>1.632694</td>\n",
       "      <td>-1.374089</td>\n",
       "      <td>-0.666099</td>\n",
       "    </tr>\n",
       "    <tr>\n",
       "      <th>2</th>\n",
       "      <td>7313733749</td>\n",
       "      <td>https://reno.craigslist.org/ctd/d/atlanta-2017...</td>\n",
       "      <td>reno / tahoe</td>\n",
       "      <td>https://reno.craigslist.org</td>\n",
       "      <td>35590</td>\n",
       "      <td>2017</td>\n",
       "      <td>volkswagen</td>\n",
       "      <td>golf r hatchback</td>\n",
       "      <td>gas</td>\n",
       "      <td>14048</td>\n",
       "      <td>...</td>\n",
       "      <td>-0.924005</td>\n",
       "      <td>0.552080</td>\n",
       "      <td>0.819826</td>\n",
       "      <td>0.536036</td>\n",
       "      <td>-0.164475</td>\n",
       "      <td>0.468463</td>\n",
       "      <td>0.560864</td>\n",
       "      <td>-0.612485</td>\n",
       "      <td>-0.378300</td>\n",
       "      <td>-0.819826</td>\n",
       "    </tr>\n",
       "    <tr>\n",
       "      <th>3</th>\n",
       "      <td>7308210929</td>\n",
       "      <td>https://fayetteville.craigslist.org/ctd/d/rale...</td>\n",
       "      <td>fayetteville</td>\n",
       "      <td>https://fayetteville.craigslist.org</td>\n",
       "      <td>14500</td>\n",
       "      <td>2013</td>\n",
       "      <td>toyota</td>\n",
       "      <td>rav4</td>\n",
       "      <td>gas</td>\n",
       "      <td>117291</td>\n",
       "      <td>...</td>\n",
       "      <td>-0.549886</td>\n",
       "      <td>0.877441</td>\n",
       "      <td>0.204918</td>\n",
       "      <td>0.159600</td>\n",
       "      <td>-0.164475</td>\n",
       "      <td>-0.914182</td>\n",
       "      <td>-0.788177</td>\n",
       "      <td>-0.612485</td>\n",
       "      <td>1.115383</td>\n",
       "      <td>-0.204918</td>\n",
       "    </tr>\n",
       "    <tr>\n",
       "      <th>4</th>\n",
       "      <td>7316474668</td>\n",
       "      <td>https://newyork.craigslist.org/lgi/cto/d/baldw...</td>\n",
       "      <td>new york city</td>\n",
       "      <td>https://newyork.craigslist.org</td>\n",
       "      <td>21800</td>\n",
       "      <td>2021</td>\n",
       "      <td>nissan</td>\n",
       "      <td>altima</td>\n",
       "      <td>gas</td>\n",
       "      <td>8000</td>\n",
       "      <td>...</td>\n",
       "      <td>0.404148</td>\n",
       "      <td>1.162621</td>\n",
       "      <td>1.434734</td>\n",
       "      <td>-0.814088</td>\n",
       "      <td>-0.164475</td>\n",
       "      <td>-0.683741</td>\n",
       "      <td>-0.788177</td>\n",
       "      <td>1.632694</td>\n",
       "      <td>-1.374089</td>\n",
       "      <td>-1.434734</td>\n",
       "    </tr>\n",
       "  </tbody>\n",
       "</table>\n",
       "<p>5 rows × 1488 columns</p>\n",
       "</div>"
      ],
      "text/plain": [
       "           id                                                url  \\\n",
       "0  7308295377  https://chattanooga.craigslist.org/ctd/d/chatt...   \n",
       "1  7316380095  https://newjersey.craigslist.org/ctd/d/carlsta...   \n",
       "2  7313733749  https://reno.craigslist.org/ctd/d/atlanta-2017...   \n",
       "3  7308210929  https://fayetteville.craigslist.org/ctd/d/rale...   \n",
       "4  7316474668  https://newyork.craigslist.org/lgi/cto/d/baldw...   \n",
       "\n",
       "          region                           region_url  price  year  \\\n",
       "0    chattanooga   https://chattanooga.craigslist.org  54990  2020   \n",
       "1   north jersey     https://newjersey.craigslist.org  16942  2016   \n",
       "2   reno / tahoe          https://reno.craigslist.org  35590  2017   \n",
       "3   fayetteville  https://fayetteville.craigslist.org  14500  2013   \n",
       "4  new york city       https://newyork.craigslist.org  21800  2021   \n",
       "\n",
       "  manufacturer                   model    fuel  odometer  ...   lat_std  \\\n",
       "0          ram  2500 crew cab big horn  diesel     27442  ... -0.676596   \n",
       "1         ford    explorer 4wd 4dr xlt   other     60023  ...  0.436409   \n",
       "2   volkswagen        golf r hatchback     gas     14048  ... -0.924005   \n",
       "3       toyota                    rav4     gas    117291  ... -0.549886   \n",
       "4       nissan                  altima     gas      8000  ...  0.404148   \n",
       "\n",
       "   long_std  year_std desc_len_std model_in_desc_std  model_len_std  \\\n",
       "0  0.504705  1.281007     0.606640         -0.164475       1.159786   \n",
       "1  1.137059  0.666099    -0.659192         -0.164475       0.929345   \n",
       "2  0.552080  0.819826     0.536036         -0.164475       0.468463   \n",
       "3  0.877441  0.204918     0.159600         -0.164475      -0.914182   \n",
       "4  1.162621  1.434734    -0.814088         -0.164475      -0.683741   \n",
       "\n",
       "   model_word_count_std month_std dayofweek_std diff_years_std  \n",
       "0              1.909905 -0.612485      1.115383      -1.281007  \n",
       "1              1.235385  1.632694     -1.374089      -0.666099  \n",
       "2              0.560864 -0.612485     -0.378300      -0.819826  \n",
       "3             -0.788177 -0.612485      1.115383      -0.204918  \n",
       "4             -0.788177  1.632694     -1.374089      -1.434734  \n",
       "\n",
       "[5 rows x 1488 columns]"
      ]
     },
     "execution_count": 125,
     "metadata": {},
     "output_type": "execute_result"
    }
   ],
   "source": [
    "df.head()"
   ]
  },
  {
   "cell_type": "markdown",
   "id": "1e939c29-a78f-46e2-9f9b-96af7e26f7a5",
   "metadata": {
    "tags": []
   },
   "source": [
    "## Подготовка датафрейма для этапа моделирования"
   ]
  },
  {
   "cell_type": "code",
   "execution_count": 126,
   "id": "9d6d32ba-1a28-4db3-a918-f2b29f67404a",
   "metadata": {
    "tags": []
   },
   "outputs": [],
   "source": [
    "columns_for_drop = ['year', 'url', 'region', 'region_url', 'manufacturer',\n",
    "                    'model', 'fuel', 'odometer', 'title_status', 'transmission',\n",
    "                    'image_url', 'description', 'state', 'lat', 'long', 'posting_date',\n",
    "                    'desc_len', 'model_in_desc', 'age_category', 'model_len', 'model_word_count',\n",
    "                    'short_model', 'date', 'month', 'dayofweek', 'diff_years']"
   ]
  },
  {
   "cell_type": "code",
   "execution_count": 127,
   "id": "e6881c6e-935a-4db9-ad4b-6beca9c95776",
   "metadata": {
    "tags": []
   },
   "outputs": [],
   "source": [
    "df_prepared=df.drop(columns=columns_for_drop)"
   ]
  },
  {
   "cell_type": "code",
   "execution_count": 128,
   "id": "dbf16d83-75bc-4bba-8b79-e4c083c6fc03",
   "metadata": {
    "tags": []
   },
   "outputs": [
    {
     "data": {
      "text/plain": [
       "Index(['id', 'price', 'price_category', 'is_audi', 'is_ford', 'is_chevrolet',\n",
       "       'is_toyota', 'is_jeep', 'is_honda', 'is_nissan',\n",
       "       ...\n",
       "       'lat_std', 'long_std', 'year_std', 'desc_len_std', 'model_in_desc_std',\n",
       "       'model_len_std', 'model_word_count_std', 'month_std', 'dayofweek_std',\n",
       "       'diff_years_std'],\n",
       "      dtype='object', length=1462)"
      ]
     },
     "execution_count": 128,
     "metadata": {},
     "output_type": "execute_result"
    }
   ],
   "source": [
    "df_prepared.columns"
   ]
  },
  {
   "cell_type": "code",
   "execution_count": 129,
   "id": "e19d92a3-98f3-4ee7-9f31-c58aeb7708b8",
   "metadata": {
    "tags": []
   },
   "outputs": [
    {
     "data": {
      "text/plain": [
       "(10000, 1462)"
      ]
     },
     "execution_count": 129,
     "metadata": {},
     "output_type": "execute_result"
    }
   ],
   "source": [
    "df_prepared.shape"
   ]
  },
  {
   "cell_type": "code",
   "execution_count": 130,
   "id": "c727a93f-a7a5-4bb8-8e3c-1c72b06b0983",
   "metadata": {
    "tags": []
   },
   "outputs": [],
   "source": [
    "df_prepared.to_csv('data/df_out__prepared.csv', index=False)"
   ]
  },
  {
   "cell_type": "markdown",
   "id": "a0074cdc-0c7f-4a1a-b029-bfdf453355b2",
   "metadata": {
    "tags": []
   },
   "source": [
    "# Modelling"
   ]
  },
  {
   "cell_type": "code",
   "execution_count": 131,
   "id": "55bda552-06ec-4753-b02d-2b64a8f09b33",
   "metadata": {},
   "outputs": [],
   "source": [
    "df = pd.read_csv('data/df_out__prepared.csv')"
   ]
  },
  {
   "cell_type": "code",
   "execution_count": 132,
   "id": "5437f3f4-8498-4fff-9ede-5a9e1ae68c0e",
   "metadata": {},
   "outputs": [],
   "source": [
    "df_prepared = df.copy()\n",
    "df_prepared = df_prepared.drop(['price', 'id'], axis=1)"
   ]
  },
  {
   "cell_type": "code",
   "execution_count": 133,
   "id": "5f22569e-8591-4ce0-9d96-5140cc66049f",
   "metadata": {},
   "outputs": [],
   "source": [
    "x = df_prepared.drop(['price_category'], axis=1)\n",
    "y = df_prepared.price_category\n",
    "\n",
    "x_train, x_test, y_train, y_test = train_test_split(x, y, test_size=0.3, random_state=42)"
   ]
  },
  {
   "cell_type": "markdown",
   "id": "712fddc1-6385-406d-81b4-8ab3fbd2dc97",
   "metadata": {},
   "source": [
    "## Случайный лес"
   ]
  },
  {
   "cell_type": "code",
   "execution_count": 134,
   "id": "fa8ed9bc-c57a-426d-a477-2f41ede5ceb2",
   "metadata": {
    "tags": []
   },
   "outputs": [
    {
     "data": {
      "text/html": [
       "<style>#sk-container-id-2 {color: black;}#sk-container-id-2 pre{padding: 0;}#sk-container-id-2 div.sk-toggleable {background-color: white;}#sk-container-id-2 label.sk-toggleable__label {cursor: pointer;display: block;width: 100%;margin-bottom: 0;padding: 0.3em;box-sizing: border-box;text-align: center;}#sk-container-id-2 label.sk-toggleable__label-arrow:before {content: \"▸\";float: left;margin-right: 0.25em;color: #696969;}#sk-container-id-2 label.sk-toggleable__label-arrow:hover:before {color: black;}#sk-container-id-2 div.sk-estimator:hover label.sk-toggleable__label-arrow:before {color: black;}#sk-container-id-2 div.sk-toggleable__content {max-height: 0;max-width: 0;overflow: hidden;text-align: left;background-color: #f0f8ff;}#sk-container-id-2 div.sk-toggleable__content pre {margin: 0.2em;color: black;border-radius: 0.25em;background-color: #f0f8ff;}#sk-container-id-2 input.sk-toggleable__control:checked~div.sk-toggleable__content {max-height: 200px;max-width: 100%;overflow: auto;}#sk-container-id-2 input.sk-toggleable__control:checked~label.sk-toggleable__label-arrow:before {content: \"▾\";}#sk-container-id-2 div.sk-estimator input.sk-toggleable__control:checked~label.sk-toggleable__label {background-color: #d4ebff;}#sk-container-id-2 div.sk-label input.sk-toggleable__control:checked~label.sk-toggleable__label {background-color: #d4ebff;}#sk-container-id-2 input.sk-hidden--visually {border: 0;clip: rect(1px 1px 1px 1px);clip: rect(1px, 1px, 1px, 1px);height: 1px;margin: -1px;overflow: hidden;padding: 0;position: absolute;width: 1px;}#sk-container-id-2 div.sk-estimator {font-family: monospace;background-color: #f0f8ff;border: 1px dotted black;border-radius: 0.25em;box-sizing: border-box;margin-bottom: 0.5em;}#sk-container-id-2 div.sk-estimator:hover {background-color: #d4ebff;}#sk-container-id-2 div.sk-parallel-item::after {content: \"\";width: 100%;border-bottom: 1px solid gray;flex-grow: 1;}#sk-container-id-2 div.sk-label:hover label.sk-toggleable__label {background-color: #d4ebff;}#sk-container-id-2 div.sk-serial::before {content: \"\";position: absolute;border-left: 1px solid gray;box-sizing: border-box;top: 0;bottom: 0;left: 50%;z-index: 0;}#sk-container-id-2 div.sk-serial {display: flex;flex-direction: column;align-items: center;background-color: white;padding-right: 0.2em;padding-left: 0.2em;position: relative;}#sk-container-id-2 div.sk-item {position: relative;z-index: 1;}#sk-container-id-2 div.sk-parallel {display: flex;align-items: stretch;justify-content: center;background-color: white;position: relative;}#sk-container-id-2 div.sk-item::before, #sk-container-id-2 div.sk-parallel-item::before {content: \"\";position: absolute;border-left: 1px solid gray;box-sizing: border-box;top: 0;bottom: 0;left: 50%;z-index: -1;}#sk-container-id-2 div.sk-parallel-item {display: flex;flex-direction: column;z-index: 1;position: relative;background-color: white;}#sk-container-id-2 div.sk-parallel-item:first-child::after {align-self: flex-end;width: 50%;}#sk-container-id-2 div.sk-parallel-item:last-child::after {align-self: flex-start;width: 50%;}#sk-container-id-2 div.sk-parallel-item:only-child::after {width: 0;}#sk-container-id-2 div.sk-dashed-wrapped {border: 1px dashed gray;margin: 0 0.4em 0.5em 0.4em;box-sizing: border-box;padding-bottom: 0.4em;background-color: white;}#sk-container-id-2 div.sk-label label {font-family: monospace;font-weight: bold;display: inline-block;line-height: 1.2em;}#sk-container-id-2 div.sk-label-container {text-align: center;}#sk-container-id-2 div.sk-container {/* jupyter's `normalize.less` sets `[hidden] { display: none; }` but bootstrap.min.css set `[hidden] { display: none !important; }` so we also need the `!important` here to be able to override the default hidden behavior on the sphinx rendered scikit-learn.org. See: https://github.com/scikit-learn/scikit-learn/issues/21755 */display: inline-block !important;position: relative;}#sk-container-id-2 div.sk-text-repr-fallback {display: none;}</style><div id=\"sk-container-id-2\" class=\"sk-top-container\"><div class=\"sk-text-repr-fallback\"><pre>RandomForestClassifier()</pre><b>In a Jupyter environment, please rerun this cell to show the HTML representation or trust the notebook. <br />On GitHub, the HTML representation is unable to render, please try loading this page with nbviewer.org.</b></div><div class=\"sk-container\" hidden><div class=\"sk-item\"><div class=\"sk-estimator sk-toggleable\"><input class=\"sk-toggleable__control sk-hidden--visually\" id=\"sk-estimator-id-2\" type=\"checkbox\" checked><label for=\"sk-estimator-id-2\" class=\"sk-toggleable__label sk-toggleable__label-arrow\">RandomForestClassifier</label><div class=\"sk-toggleable__content\"><pre>RandomForestClassifier()</pre></div></div></div></div></div>"
      ],
      "text/plain": [
       "RandomForestClassifier()"
      ]
     },
     "execution_count": 134,
     "metadata": {},
     "output_type": "execute_result"
    }
   ],
   "source": [
    "rf_clf = RandomForestClassifier()\n",
    "rf_clf.fit(x_train, y_train)"
   ]
  },
  {
   "cell_type": "code",
   "execution_count": 135,
   "id": "4ef35d48-6352-45c8-8cfc-05e96e0ec703",
   "metadata": {
    "tags": []
   },
   "outputs": [],
   "source": [
    "predicted_train_rf = rf_clf.predict(x_train)\n",
    "predicted_test_rf = rf_clf.predict(x_test)"
   ]
  },
  {
   "cell_type": "code",
   "execution_count": 136,
   "id": "7c3f980c-c035-4beb-ba63-264d7c6d5223",
   "metadata": {
    "tags": []
   },
   "outputs": [
    {
     "name": "stdout",
     "output_type": "stream",
     "text": [
      "1.0\n",
      "0.7803333333333333\n"
     ]
    }
   ],
   "source": [
    "print(accuracy_score(y_train, predicted_train_rf))\n",
    "print(accuracy_score(y_test, predicted_test_rf))"
   ]
  },
  {
   "cell_type": "code",
   "execution_count": null,
   "id": "589079ba-90c0-48d4-b2ae-ac28c49ca4c1",
   "metadata": {},
   "outputs": [],
   "source": []
  },
  {
   "cell_type": "markdown",
   "id": "d3549b7c-0343-4721-bcfd-b2dd903dcdcb",
   "metadata": {
    "tags": []
   },
   "source": [
    "## Логистическая регрессия"
   ]
  },
  {
   "cell_type": "code",
   "execution_count": 137,
   "id": "131816a3-a86b-4a32-9ea3-95407efbfe40",
   "metadata": {
    "tags": []
   },
   "outputs": [],
   "source": [
    "logreg = LogisticRegression(max_iter=1000, C=3)"
   ]
  },
  {
   "cell_type": "code",
   "execution_count": 138,
   "id": "49dc793c-f8b7-4c2e-bc54-caaefb4ec696",
   "metadata": {
    "tags": []
   },
   "outputs": [
    {
     "data": {
      "text/html": [
       "<style>#sk-container-id-3 {color: black;}#sk-container-id-3 pre{padding: 0;}#sk-container-id-3 div.sk-toggleable {background-color: white;}#sk-container-id-3 label.sk-toggleable__label {cursor: pointer;display: block;width: 100%;margin-bottom: 0;padding: 0.3em;box-sizing: border-box;text-align: center;}#sk-container-id-3 label.sk-toggleable__label-arrow:before {content: \"▸\";float: left;margin-right: 0.25em;color: #696969;}#sk-container-id-3 label.sk-toggleable__label-arrow:hover:before {color: black;}#sk-container-id-3 div.sk-estimator:hover label.sk-toggleable__label-arrow:before {color: black;}#sk-container-id-3 div.sk-toggleable__content {max-height: 0;max-width: 0;overflow: hidden;text-align: left;background-color: #f0f8ff;}#sk-container-id-3 div.sk-toggleable__content pre {margin: 0.2em;color: black;border-radius: 0.25em;background-color: #f0f8ff;}#sk-container-id-3 input.sk-toggleable__control:checked~div.sk-toggleable__content {max-height: 200px;max-width: 100%;overflow: auto;}#sk-container-id-3 input.sk-toggleable__control:checked~label.sk-toggleable__label-arrow:before {content: \"▾\";}#sk-container-id-3 div.sk-estimator input.sk-toggleable__control:checked~label.sk-toggleable__label {background-color: #d4ebff;}#sk-container-id-3 div.sk-label input.sk-toggleable__control:checked~label.sk-toggleable__label {background-color: #d4ebff;}#sk-container-id-3 input.sk-hidden--visually {border: 0;clip: rect(1px 1px 1px 1px);clip: rect(1px, 1px, 1px, 1px);height: 1px;margin: -1px;overflow: hidden;padding: 0;position: absolute;width: 1px;}#sk-container-id-3 div.sk-estimator {font-family: monospace;background-color: #f0f8ff;border: 1px dotted black;border-radius: 0.25em;box-sizing: border-box;margin-bottom: 0.5em;}#sk-container-id-3 div.sk-estimator:hover {background-color: #d4ebff;}#sk-container-id-3 div.sk-parallel-item::after {content: \"\";width: 100%;border-bottom: 1px solid gray;flex-grow: 1;}#sk-container-id-3 div.sk-label:hover label.sk-toggleable__label {background-color: #d4ebff;}#sk-container-id-3 div.sk-serial::before {content: \"\";position: absolute;border-left: 1px solid gray;box-sizing: border-box;top: 0;bottom: 0;left: 50%;z-index: 0;}#sk-container-id-3 div.sk-serial {display: flex;flex-direction: column;align-items: center;background-color: white;padding-right: 0.2em;padding-left: 0.2em;position: relative;}#sk-container-id-3 div.sk-item {position: relative;z-index: 1;}#sk-container-id-3 div.sk-parallel {display: flex;align-items: stretch;justify-content: center;background-color: white;position: relative;}#sk-container-id-3 div.sk-item::before, #sk-container-id-3 div.sk-parallel-item::before {content: \"\";position: absolute;border-left: 1px solid gray;box-sizing: border-box;top: 0;bottom: 0;left: 50%;z-index: -1;}#sk-container-id-3 div.sk-parallel-item {display: flex;flex-direction: column;z-index: 1;position: relative;background-color: white;}#sk-container-id-3 div.sk-parallel-item:first-child::after {align-self: flex-end;width: 50%;}#sk-container-id-3 div.sk-parallel-item:last-child::after {align-self: flex-start;width: 50%;}#sk-container-id-3 div.sk-parallel-item:only-child::after {width: 0;}#sk-container-id-3 div.sk-dashed-wrapped {border: 1px dashed gray;margin: 0 0.4em 0.5em 0.4em;box-sizing: border-box;padding-bottom: 0.4em;background-color: white;}#sk-container-id-3 div.sk-label label {font-family: monospace;font-weight: bold;display: inline-block;line-height: 1.2em;}#sk-container-id-3 div.sk-label-container {text-align: center;}#sk-container-id-3 div.sk-container {/* jupyter's `normalize.less` sets `[hidden] { display: none; }` but bootstrap.min.css set `[hidden] { display: none !important; }` so we also need the `!important` here to be able to override the default hidden behavior on the sphinx rendered scikit-learn.org. See: https://github.com/scikit-learn/scikit-learn/issues/21755 */display: inline-block !important;position: relative;}#sk-container-id-3 div.sk-text-repr-fallback {display: none;}</style><div id=\"sk-container-id-3\" class=\"sk-top-container\"><div class=\"sk-text-repr-fallback\"><pre>LogisticRegression(C=3, max_iter=1000)</pre><b>In a Jupyter environment, please rerun this cell to show the HTML representation or trust the notebook. <br />On GitHub, the HTML representation is unable to render, please try loading this page with nbviewer.org.</b></div><div class=\"sk-container\" hidden><div class=\"sk-item\"><div class=\"sk-estimator sk-toggleable\"><input class=\"sk-toggleable__control sk-hidden--visually\" id=\"sk-estimator-id-3\" type=\"checkbox\" checked><label for=\"sk-estimator-id-3\" class=\"sk-toggleable__label sk-toggleable__label-arrow\">LogisticRegression</label><div class=\"sk-toggleable__content\"><pre>LogisticRegression(C=3, max_iter=1000)</pre></div></div></div></div></div>"
      ],
      "text/plain": [
       "LogisticRegression(C=3, max_iter=1000)"
      ]
     },
     "execution_count": 138,
     "metadata": {},
     "output_type": "execute_result"
    }
   ],
   "source": [
    "logreg.fit(x_train, y_train)"
   ]
  },
  {
   "cell_type": "code",
   "execution_count": 139,
   "id": "437159cc-6778-41c2-9576-50e231f0496b",
   "metadata": {
    "tags": []
   },
   "outputs": [],
   "source": [
    "logreg_train = logreg.predict(x_train)\n",
    "logreg_test = logreg.predict(x_test)"
   ]
  },
  {
   "cell_type": "code",
   "execution_count": 140,
   "id": "fd8f93bf-75c7-40ea-b68d-93237a656440",
   "metadata": {
    "tags": []
   },
   "outputs": [
    {
     "name": "stdout",
     "output_type": "stream",
     "text": [
      "0.8762857142857143\n",
      "0.7796666666666666\n"
     ]
    }
   ],
   "source": [
    "print(accuracy_score(y_train, logreg_train))\n",
    "print(accuracy_score(y_test, logreg_test))"
   ]
  },
  {
   "cell_type": "code",
   "execution_count": null,
   "id": "835f1b94-bf8f-47ac-9ff1-77ba8c8c3abb",
   "metadata": {},
   "outputs": [],
   "source": []
  },
  {
   "cell_type": "markdown",
   "id": "dda8b3e6-4c11-435a-950f-48ca762fdc03",
   "metadata": {},
   "source": [
    "## Многослойный персептрон"
   ]
  },
  {
   "cell_type": "code",
   "execution_count": 141,
   "id": "dc5f9818-c467-4828-abe8-39632de5c71e",
   "metadata": {
    "tags": []
   },
   "outputs": [
    {
     "data": {
      "text/html": [
       "<style>#sk-container-id-4 {color: black;}#sk-container-id-4 pre{padding: 0;}#sk-container-id-4 div.sk-toggleable {background-color: white;}#sk-container-id-4 label.sk-toggleable__label {cursor: pointer;display: block;width: 100%;margin-bottom: 0;padding: 0.3em;box-sizing: border-box;text-align: center;}#sk-container-id-4 label.sk-toggleable__label-arrow:before {content: \"▸\";float: left;margin-right: 0.25em;color: #696969;}#sk-container-id-4 label.sk-toggleable__label-arrow:hover:before {color: black;}#sk-container-id-4 div.sk-estimator:hover label.sk-toggleable__label-arrow:before {color: black;}#sk-container-id-4 div.sk-toggleable__content {max-height: 0;max-width: 0;overflow: hidden;text-align: left;background-color: #f0f8ff;}#sk-container-id-4 div.sk-toggleable__content pre {margin: 0.2em;color: black;border-radius: 0.25em;background-color: #f0f8ff;}#sk-container-id-4 input.sk-toggleable__control:checked~div.sk-toggleable__content {max-height: 200px;max-width: 100%;overflow: auto;}#sk-container-id-4 input.sk-toggleable__control:checked~label.sk-toggleable__label-arrow:before {content: \"▾\";}#sk-container-id-4 div.sk-estimator input.sk-toggleable__control:checked~label.sk-toggleable__label {background-color: #d4ebff;}#sk-container-id-4 div.sk-label input.sk-toggleable__control:checked~label.sk-toggleable__label {background-color: #d4ebff;}#sk-container-id-4 input.sk-hidden--visually {border: 0;clip: rect(1px 1px 1px 1px);clip: rect(1px, 1px, 1px, 1px);height: 1px;margin: -1px;overflow: hidden;padding: 0;position: absolute;width: 1px;}#sk-container-id-4 div.sk-estimator {font-family: monospace;background-color: #f0f8ff;border: 1px dotted black;border-radius: 0.25em;box-sizing: border-box;margin-bottom: 0.5em;}#sk-container-id-4 div.sk-estimator:hover {background-color: #d4ebff;}#sk-container-id-4 div.sk-parallel-item::after {content: \"\";width: 100%;border-bottom: 1px solid gray;flex-grow: 1;}#sk-container-id-4 div.sk-label:hover label.sk-toggleable__label {background-color: #d4ebff;}#sk-container-id-4 div.sk-serial::before {content: \"\";position: absolute;border-left: 1px solid gray;box-sizing: border-box;top: 0;bottom: 0;left: 50%;z-index: 0;}#sk-container-id-4 div.sk-serial {display: flex;flex-direction: column;align-items: center;background-color: white;padding-right: 0.2em;padding-left: 0.2em;position: relative;}#sk-container-id-4 div.sk-item {position: relative;z-index: 1;}#sk-container-id-4 div.sk-parallel {display: flex;align-items: stretch;justify-content: center;background-color: white;position: relative;}#sk-container-id-4 div.sk-item::before, #sk-container-id-4 div.sk-parallel-item::before {content: \"\";position: absolute;border-left: 1px solid gray;box-sizing: border-box;top: 0;bottom: 0;left: 50%;z-index: -1;}#sk-container-id-4 div.sk-parallel-item {display: flex;flex-direction: column;z-index: 1;position: relative;background-color: white;}#sk-container-id-4 div.sk-parallel-item:first-child::after {align-self: flex-end;width: 50%;}#sk-container-id-4 div.sk-parallel-item:last-child::after {align-self: flex-start;width: 50%;}#sk-container-id-4 div.sk-parallel-item:only-child::after {width: 0;}#sk-container-id-4 div.sk-dashed-wrapped {border: 1px dashed gray;margin: 0 0.4em 0.5em 0.4em;box-sizing: border-box;padding-bottom: 0.4em;background-color: white;}#sk-container-id-4 div.sk-label label {font-family: monospace;font-weight: bold;display: inline-block;line-height: 1.2em;}#sk-container-id-4 div.sk-label-container {text-align: center;}#sk-container-id-4 div.sk-container {/* jupyter's `normalize.less` sets `[hidden] { display: none; }` but bootstrap.min.css set `[hidden] { display: none !important; }` so we also need the `!important` here to be able to override the default hidden behavior on the sphinx rendered scikit-learn.org. See: https://github.com/scikit-learn/scikit-learn/issues/21755 */display: inline-block !important;position: relative;}#sk-container-id-4 div.sk-text-repr-fallback {display: none;}</style><div id=\"sk-container-id-4\" class=\"sk-top-container\"><div class=\"sk-text-repr-fallback\"><pre>MLPClassifier(activation=&#x27;tanh&#x27;, hidden_layer_sizes=(100, 20), max_iter=500,\n",
       "              random_state=42)</pre><b>In a Jupyter environment, please rerun this cell to show the HTML representation or trust the notebook. <br />On GitHub, the HTML representation is unable to render, please try loading this page with nbviewer.org.</b></div><div class=\"sk-container\" hidden><div class=\"sk-item\"><div class=\"sk-estimator sk-toggleable\"><input class=\"sk-toggleable__control sk-hidden--visually\" id=\"sk-estimator-id-4\" type=\"checkbox\" checked><label for=\"sk-estimator-id-4\" class=\"sk-toggleable__label sk-toggleable__label-arrow\">MLPClassifier</label><div class=\"sk-toggleable__content\"><pre>MLPClassifier(activation=&#x27;tanh&#x27;, hidden_layer_sizes=(100, 20), max_iter=500,\n",
       "              random_state=42)</pre></div></div></div></div></div>"
      ],
      "text/plain": [
       "MLPClassifier(activation='tanh', hidden_layer_sizes=(100, 20), max_iter=500,\n",
       "              random_state=42)"
      ]
     },
     "execution_count": 141,
     "metadata": {},
     "output_type": "execute_result"
    }
   ],
   "source": [
    "mlp = MLPClassifier(random_state=42, max_iter=500, hidden_layer_sizes=(100,20), activation = 'tanh')\n",
    "mlp.fit(x_train, y_train)"
   ]
  },
  {
   "cell_type": "code",
   "execution_count": 142,
   "id": "a341383d-7fd2-4705-a606-7b0164322a0f",
   "metadata": {
    "tags": []
   },
   "outputs": [],
   "source": [
    "mlp_train = mlp.predict(x_train)\n",
    "mlp_test = mlp.predict(x_test)"
   ]
  },
  {
   "cell_type": "code",
   "execution_count": 143,
   "id": "b2b59579-6cd3-48bd-9221-2c437d383450",
   "metadata": {
    "tags": []
   },
   "outputs": [
    {
     "name": "stdout",
     "output_type": "stream",
     "text": [
      "1.0\n",
      "0.7883333333333333\n"
     ]
    }
   ],
   "source": [
    "print(accuracy_score(y_train, mlp_train))\n",
    "print(accuracy_score(y_test, mlp_test))"
   ]
  },
  {
   "cell_type": "markdown",
   "id": "38cc1eba-d1cc-4b7a-8116-a35a6c803419",
   "metadata": {
    "tags": []
   },
   "source": [
    "# Results"
   ]
  },
  {
   "cell_type": "markdown",
   "id": "21f04dbf-8b76-4184-8f4f-67e09bbba6ab",
   "metadata": {},
   "source": [
    "По результатам моделирования наилучший результат показала модель многослойного персептрона."
   ]
  },
  {
   "cell_type": "code",
   "execution_count": 144,
   "id": "34cd7a0b-1c69-4e70-a9b2-dae03e4d1de0",
   "metadata": {
    "tags": []
   },
   "outputs": [
    {
     "data": {
      "text/html": [
       "<style>#sk-container-id-5 {color: black;}#sk-container-id-5 pre{padding: 0;}#sk-container-id-5 div.sk-toggleable {background-color: white;}#sk-container-id-5 label.sk-toggleable__label {cursor: pointer;display: block;width: 100%;margin-bottom: 0;padding: 0.3em;box-sizing: border-box;text-align: center;}#sk-container-id-5 label.sk-toggleable__label-arrow:before {content: \"▸\";float: left;margin-right: 0.25em;color: #696969;}#sk-container-id-5 label.sk-toggleable__label-arrow:hover:before {color: black;}#sk-container-id-5 div.sk-estimator:hover label.sk-toggleable__label-arrow:before {color: black;}#sk-container-id-5 div.sk-toggleable__content {max-height: 0;max-width: 0;overflow: hidden;text-align: left;background-color: #f0f8ff;}#sk-container-id-5 div.sk-toggleable__content pre {margin: 0.2em;color: black;border-radius: 0.25em;background-color: #f0f8ff;}#sk-container-id-5 input.sk-toggleable__control:checked~div.sk-toggleable__content {max-height: 200px;max-width: 100%;overflow: auto;}#sk-container-id-5 input.sk-toggleable__control:checked~label.sk-toggleable__label-arrow:before {content: \"▾\";}#sk-container-id-5 div.sk-estimator input.sk-toggleable__control:checked~label.sk-toggleable__label {background-color: #d4ebff;}#sk-container-id-5 div.sk-label input.sk-toggleable__control:checked~label.sk-toggleable__label {background-color: #d4ebff;}#sk-container-id-5 input.sk-hidden--visually {border: 0;clip: rect(1px 1px 1px 1px);clip: rect(1px, 1px, 1px, 1px);height: 1px;margin: -1px;overflow: hidden;padding: 0;position: absolute;width: 1px;}#sk-container-id-5 div.sk-estimator {font-family: monospace;background-color: #f0f8ff;border: 1px dotted black;border-radius: 0.25em;box-sizing: border-box;margin-bottom: 0.5em;}#sk-container-id-5 div.sk-estimator:hover {background-color: #d4ebff;}#sk-container-id-5 div.sk-parallel-item::after {content: \"\";width: 100%;border-bottom: 1px solid gray;flex-grow: 1;}#sk-container-id-5 div.sk-label:hover label.sk-toggleable__label {background-color: #d4ebff;}#sk-container-id-5 div.sk-serial::before {content: \"\";position: absolute;border-left: 1px solid gray;box-sizing: border-box;top: 0;bottom: 0;left: 50%;z-index: 0;}#sk-container-id-5 div.sk-serial {display: flex;flex-direction: column;align-items: center;background-color: white;padding-right: 0.2em;padding-left: 0.2em;position: relative;}#sk-container-id-5 div.sk-item {position: relative;z-index: 1;}#sk-container-id-5 div.sk-parallel {display: flex;align-items: stretch;justify-content: center;background-color: white;position: relative;}#sk-container-id-5 div.sk-item::before, #sk-container-id-5 div.sk-parallel-item::before {content: \"\";position: absolute;border-left: 1px solid gray;box-sizing: border-box;top: 0;bottom: 0;left: 50%;z-index: -1;}#sk-container-id-5 div.sk-parallel-item {display: flex;flex-direction: column;z-index: 1;position: relative;background-color: white;}#sk-container-id-5 div.sk-parallel-item:first-child::after {align-self: flex-end;width: 50%;}#sk-container-id-5 div.sk-parallel-item:last-child::after {align-self: flex-start;width: 50%;}#sk-container-id-5 div.sk-parallel-item:only-child::after {width: 0;}#sk-container-id-5 div.sk-dashed-wrapped {border: 1px dashed gray;margin: 0 0.4em 0.5em 0.4em;box-sizing: border-box;padding-bottom: 0.4em;background-color: white;}#sk-container-id-5 div.sk-label label {font-family: monospace;font-weight: bold;display: inline-block;line-height: 1.2em;}#sk-container-id-5 div.sk-label-container {text-align: center;}#sk-container-id-5 div.sk-container {/* jupyter's `normalize.less` sets `[hidden] { display: none; }` but bootstrap.min.css set `[hidden] { display: none !important; }` so we also need the `!important` here to be able to override the default hidden behavior on the sphinx rendered scikit-learn.org. See: https://github.com/scikit-learn/scikit-learn/issues/21755 */display: inline-block !important;position: relative;}#sk-container-id-5 div.sk-text-repr-fallback {display: none;}</style><div id=\"sk-container-id-5\" class=\"sk-top-container\"><div class=\"sk-text-repr-fallback\"><pre>MLPClassifier(activation=&#x27;tanh&#x27;, hidden_layer_sizes=(100, 20), max_iter=500,\n",
       "              random_state=42)</pre><b>In a Jupyter environment, please rerun this cell to show the HTML representation or trust the notebook. <br />On GitHub, the HTML representation is unable to render, please try loading this page with nbviewer.org.</b></div><div class=\"sk-container\" hidden><div class=\"sk-item\"><div class=\"sk-estimator sk-toggleable\"><input class=\"sk-toggleable__control sk-hidden--visually\" id=\"sk-estimator-id-5\" type=\"checkbox\" checked><label for=\"sk-estimator-id-5\" class=\"sk-toggleable__label sk-toggleable__label-arrow\">MLPClassifier</label><div class=\"sk-toggleable__content\"><pre>MLPClassifier(activation=&#x27;tanh&#x27;, hidden_layer_sizes=(100, 20), max_iter=500,\n",
       "              random_state=42)</pre></div></div></div></div></div>"
      ],
      "text/plain": [
       "MLPClassifier(activation='tanh', hidden_layer_sizes=(100, 20), max_iter=500,\n",
       "              random_state=42)"
      ]
     },
     "execution_count": 144,
     "metadata": {},
     "output_type": "execute_result"
    }
   ],
   "source": [
    "mlp.fit(x, y)"
   ]
  },
  {
   "cell_type": "code",
   "execution_count": 145,
   "id": "645c68c3-1679-494c-8ef3-d1b3d8ef4499",
   "metadata": {
    "tags": []
   },
   "outputs": [],
   "source": [
    "filename = 'model.pickle'\n",
    "\n",
    "with open(filename, 'wb') as file:\n",
    "    pickle.dump(mlp, file)"
   ]
  },
  {
   "cell_type": "code",
   "execution_count": 146,
   "id": "e91c7385-e233-43ac-b5fe-96b5b8924944",
   "metadata": {
    "tags": []
   },
   "outputs": [],
   "source": [
    "with open(filename, 'rb') as f:\n",
    "    model_from_pickle = pickle.load(f)"
   ]
  },
  {
   "cell_type": "code",
   "execution_count": 147,
   "id": "0d293d4c-d686-437f-9681-7386d1dbe29e",
   "metadata": {
    "tags": []
   },
   "outputs": [
    {
     "data": {
      "text/html": [
       "<style>#sk-container-id-6 {color: black;}#sk-container-id-6 pre{padding: 0;}#sk-container-id-6 div.sk-toggleable {background-color: white;}#sk-container-id-6 label.sk-toggleable__label {cursor: pointer;display: block;width: 100%;margin-bottom: 0;padding: 0.3em;box-sizing: border-box;text-align: center;}#sk-container-id-6 label.sk-toggleable__label-arrow:before {content: \"▸\";float: left;margin-right: 0.25em;color: #696969;}#sk-container-id-6 label.sk-toggleable__label-arrow:hover:before {color: black;}#sk-container-id-6 div.sk-estimator:hover label.sk-toggleable__label-arrow:before {color: black;}#sk-container-id-6 div.sk-toggleable__content {max-height: 0;max-width: 0;overflow: hidden;text-align: left;background-color: #f0f8ff;}#sk-container-id-6 div.sk-toggleable__content pre {margin: 0.2em;color: black;border-radius: 0.25em;background-color: #f0f8ff;}#sk-container-id-6 input.sk-toggleable__control:checked~div.sk-toggleable__content {max-height: 200px;max-width: 100%;overflow: auto;}#sk-container-id-6 input.sk-toggleable__control:checked~label.sk-toggleable__label-arrow:before {content: \"▾\";}#sk-container-id-6 div.sk-estimator input.sk-toggleable__control:checked~label.sk-toggleable__label {background-color: #d4ebff;}#sk-container-id-6 div.sk-label input.sk-toggleable__control:checked~label.sk-toggleable__label {background-color: #d4ebff;}#sk-container-id-6 input.sk-hidden--visually {border: 0;clip: rect(1px 1px 1px 1px);clip: rect(1px, 1px, 1px, 1px);height: 1px;margin: -1px;overflow: hidden;padding: 0;position: absolute;width: 1px;}#sk-container-id-6 div.sk-estimator {font-family: monospace;background-color: #f0f8ff;border: 1px dotted black;border-radius: 0.25em;box-sizing: border-box;margin-bottom: 0.5em;}#sk-container-id-6 div.sk-estimator:hover {background-color: #d4ebff;}#sk-container-id-6 div.sk-parallel-item::after {content: \"\";width: 100%;border-bottom: 1px solid gray;flex-grow: 1;}#sk-container-id-6 div.sk-label:hover label.sk-toggleable__label {background-color: #d4ebff;}#sk-container-id-6 div.sk-serial::before {content: \"\";position: absolute;border-left: 1px solid gray;box-sizing: border-box;top: 0;bottom: 0;left: 50%;z-index: 0;}#sk-container-id-6 div.sk-serial {display: flex;flex-direction: column;align-items: center;background-color: white;padding-right: 0.2em;padding-left: 0.2em;position: relative;}#sk-container-id-6 div.sk-item {position: relative;z-index: 1;}#sk-container-id-6 div.sk-parallel {display: flex;align-items: stretch;justify-content: center;background-color: white;position: relative;}#sk-container-id-6 div.sk-item::before, #sk-container-id-6 div.sk-parallel-item::before {content: \"\";position: absolute;border-left: 1px solid gray;box-sizing: border-box;top: 0;bottom: 0;left: 50%;z-index: -1;}#sk-container-id-6 div.sk-parallel-item {display: flex;flex-direction: column;z-index: 1;position: relative;background-color: white;}#sk-container-id-6 div.sk-parallel-item:first-child::after {align-self: flex-end;width: 50%;}#sk-container-id-6 div.sk-parallel-item:last-child::after {align-self: flex-start;width: 50%;}#sk-container-id-6 div.sk-parallel-item:only-child::after {width: 0;}#sk-container-id-6 div.sk-dashed-wrapped {border: 1px dashed gray;margin: 0 0.4em 0.5em 0.4em;box-sizing: border-box;padding-bottom: 0.4em;background-color: white;}#sk-container-id-6 div.sk-label label {font-family: monospace;font-weight: bold;display: inline-block;line-height: 1.2em;}#sk-container-id-6 div.sk-label-container {text-align: center;}#sk-container-id-6 div.sk-container {/* jupyter's `normalize.less` sets `[hidden] { display: none; }` but bootstrap.min.css set `[hidden] { display: none !important; }` so we also need the `!important` here to be able to override the default hidden behavior on the sphinx rendered scikit-learn.org. See: https://github.com/scikit-learn/scikit-learn/issues/21755 */display: inline-block !important;position: relative;}#sk-container-id-6 div.sk-text-repr-fallback {display: none;}</style><div id=\"sk-container-id-6\" class=\"sk-top-container\"><div class=\"sk-text-repr-fallback\"><pre>MLPClassifier(activation=&#x27;tanh&#x27;, hidden_layer_sizes=(100, 20), max_iter=500,\n",
       "              random_state=42)</pre><b>In a Jupyter environment, please rerun this cell to show the HTML representation or trust the notebook. <br />On GitHub, the HTML representation is unable to render, please try loading this page with nbviewer.org.</b></div><div class=\"sk-container\" hidden><div class=\"sk-item\"><div class=\"sk-estimator sk-toggleable\"><input class=\"sk-toggleable__control sk-hidden--visually\" id=\"sk-estimator-id-6\" type=\"checkbox\" checked><label for=\"sk-estimator-id-6\" class=\"sk-toggleable__label sk-toggleable__label-arrow\">MLPClassifier</label><div class=\"sk-toggleable__content\"><pre>MLPClassifier(activation=&#x27;tanh&#x27;, hidden_layer_sizes=(100, 20), max_iter=500,\n",
       "              random_state=42)</pre></div></div></div></div></div>"
      ],
      "text/plain": [
       "MLPClassifier(activation='tanh', hidden_layer_sizes=(100, 20), max_iter=500,\n",
       "              random_state=42)"
      ]
     },
     "execution_count": 147,
     "metadata": {},
     "output_type": "execute_result"
    }
   ],
   "source": [
    "model_from_pickle"
   ]
  },
  {
   "cell_type": "code",
   "execution_count": 148,
   "id": "f2a3d9d3-5046-44c4-a899-11e16aa203d3",
   "metadata": {
    "tags": []
   },
   "outputs": [],
   "source": [
    "row = df.sample(1)\n",
    "row_x = row[x.columns]\n",
    "row_y = row['price_category']"
   ]
  },
  {
   "cell_type": "code",
   "execution_count": 149,
   "id": "d541c44a-9dc6-4801-8a39-21cec6e920cd",
   "metadata": {
    "tags": []
   },
   "outputs": [
    {
     "data": {
      "text/plain": [
       "array(['medium'], dtype='<U6')"
      ]
     },
     "execution_count": 149,
     "metadata": {},
     "output_type": "execute_result"
    }
   ],
   "source": [
    "model_from_pickle.predict(row_x)"
   ]
  },
  {
   "cell_type": "code",
   "execution_count": 150,
   "id": "f153af78-94b9-4e92-956c-03b5b57a335b",
   "metadata": {
    "tags": []
   },
   "outputs": [
    {
     "data": {
      "text/plain": [
       "9814    medium\n",
       "Name: price_category, dtype: object"
      ]
     },
     "execution_count": 150,
     "metadata": {},
     "output_type": "execute_result"
    }
   ],
   "source": [
    "row_y"
   ]
  },
  {
   "cell_type": "code",
   "execution_count": null,
   "id": "58a69f2c-6431-433a-93d1-29677defc8c2",
   "metadata": {},
   "outputs": [],
   "source": []
  }
 ],
 "metadata": {
  "kernelspec": {
   "display_name": "Python 3 (ipykernel)",
   "language": "python",
   "name": "python3"
  },
  "language_info": {
   "codemirror_mode": {
    "name": "ipython",
    "version": 3
   },
   "file_extension": ".py",
   "mimetype": "text/x-python",
   "name": "python",
   "nbconvert_exporter": "python",
   "pygments_lexer": "ipython3",
   "version": "3.11.5"
  }
 },
 "nbformat": 4,
 "nbformat_minor": 5
}
