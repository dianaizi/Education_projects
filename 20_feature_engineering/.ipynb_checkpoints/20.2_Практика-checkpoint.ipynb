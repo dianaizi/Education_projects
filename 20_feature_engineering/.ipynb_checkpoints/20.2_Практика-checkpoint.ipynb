{
 "cells": [
  {
   "cell_type": "markdown",
   "id": "20d02d60",
   "metadata": {
    "id": "20d02d60"
   },
   "source": [
    "# Генерация дополнительных строковых фичей. Практика"
   ]
  },
  {
   "cell_type": "markdown",
   "id": "df9d0fa3",
   "metadata": {
    "id": "df9d0fa3"
   },
   "source": [
    "## Цели практической работы\n",
    "1. Потренироваться генерировать дополнительные признаки с помощью lambda-функций.\n",
    "2. Потренироваться генерировать дополнительные строковые признаки.\n",
    "3. Подготовить датасет к этапу моделирования. "
   ]
  },
  {
   "cell_type": "markdown",
   "id": "c4a1bdf2",
   "metadata": {
    "id": "c4a1bdf2"
   },
   "source": [
    "## Что входит в практическую работу\n",
    "1. Загрузить датасет и ознакомиться с ним.\n",
    "2. Сгенерировать дополнительные признаки для этапа моделирования, используя lambda-функции и функции над строками."
   ]
  },
  {
   "cell_type": "markdown",
   "id": "3092d4ea",
   "metadata": {
    "id": "3092d4ea"
   },
   "source": [
    "## Задача\n",
    "\n",
    "Мы продолжим исследовать и готовить данные для этапа моделирования.\n",
    "\n",
    "Вам предстоит работать с небольшой выборкой из коллекции подержанных автомобилей, выставленных на продажу в Соединённых Штатах, представленной в файле `data/vehicles_dataset_upd.csv`. На этих данных вы построите первую модель классификации, определяющую категорию цены подержанного автомобиля в зависимости от характеристик транспортного средства.\n",
    "\n",
    "В этой практической работе вы начнете генерировать дополнительные признаки.\n",
    "\n",
    "\n",
    "## Описание датасета:\n",
    "- `id`: идентификатор записи;\n",
    "- `url`: URL-записи о продаже;\n",
    "- `region`: регион;\n",
    "- `region_url`: URL региона;\n",
    "- `price`: стоимость;\n",
    "- `year`: год выпуска;\n",
    "- `manufacturer`: производитель;\n",
    "- `model`: модель;\n",
    "- `condition`: состояние;\n",
    "- `cylinders`: количество цилиндров;\n",
    "- `fuel`: тип топлива;\n",
    "- `odometer`: количество пройденных миль;\n",
    "- `title_status`: статус;\n",
    "- `transmission`: коробка передач;\n",
    "- `VIN`: идентификационный номер;\n",
    "- `drive`: тип привода;\n",
    "- `size`: размер;\n",
    "- `type`: кузов;\n",
    "- `paint_color`: цвет;\n",
    "- `image_url`: URL изображения;\n",
    "- `description`: указанное описание;\n",
    "- `county`: страна;\n",
    "- `state`: штат;\n",
    "- `lat`: широта;\n",
    "- `long`: долгота;\n",
    "- `posting_date`: дата размещения объявления о продаже;\n",
    "- `price_category`: категория цены.\n"
   ]
  },
  {
   "cell_type": "code",
   "execution_count": 1,
   "id": "859c4d2b",
   "metadata": {
    "ExecuteTime": {
     "end_time": "2022-02-23T19:39:15.915860Z",
     "start_time": "2022-02-23T19:39:15.902436Z"
    },
    "id": "859c4d2b"
   },
   "outputs": [],
   "source": [
    "# Импортируйте необходимые библиотеки\n",
    "import pandas as pd\n",
    "import matplotlib.pyplot as plt"
   ]
  },
  {
   "cell_type": "markdown",
   "id": "f8266e27",
   "metadata": {
    "ExecuteTime": {
     "end_time": "2022-01-28T23:12:51.463454Z",
     "start_time": "2022-01-28T23:12:51.458075Z"
    },
    "id": "f8266e27"
   },
   "source": [
    "### Задача 1. Изменение шкалы признака\n",
    "\n",
    "1. Загрузите датасет из `data/vehicles_dataset_upd4.csv`, выведите первые пять записей и список колонок.\n"
   ]
  },
  {
   "cell_type": "code",
   "execution_count": 3,
   "id": "d536ad11",
   "metadata": {
    "ExecuteTime": {
     "end_time": "2022-02-23T19:39:16.357302Z",
     "start_time": "2022-02-23T19:39:16.354246Z"
    },
    "id": "d536ad11"
   },
   "outputs": [
    {
     "data": {
      "text/html": [
       "<div>\n",
       "<style scoped>\n",
       "    .dataframe tbody tr th:only-of-type {\n",
       "        vertical-align: middle;\n",
       "    }\n",
       "\n",
       "    .dataframe tbody tr th {\n",
       "        vertical-align: top;\n",
       "    }\n",
       "\n",
       "    .dataframe thead th {\n",
       "        text-align: right;\n",
       "    }\n",
       "</style>\n",
       "<table border=\"1\" class=\"dataframe\">\n",
       "  <thead>\n",
       "    <tr style=\"text-align: right;\">\n",
       "      <th></th>\n",
       "      <th>id</th>\n",
       "      <th>url</th>\n",
       "      <th>region</th>\n",
       "      <th>region_url</th>\n",
       "      <th>price</th>\n",
       "      <th>year</th>\n",
       "      <th>manufacturer</th>\n",
       "      <th>model</th>\n",
       "      <th>fuel</th>\n",
       "      <th>odometer</th>\n",
       "      <th>...</th>\n",
       "      <th>posting_date</th>\n",
       "      <th>price_category</th>\n",
       "      <th>date</th>\n",
       "      <th>odometer_km</th>\n",
       "      <th>odometer/price</th>\n",
       "      <th>region_new</th>\n",
       "      <th>region_corrected</th>\n",
       "      <th>manufacturer_model</th>\n",
       "      <th>desc_len</th>\n",
       "      <th>model_in_desc</th>\n",
       "    </tr>\n",
       "  </thead>\n",
       "  <tbody>\n",
       "    <tr>\n",
       "      <th>0</th>\n",
       "      <td>7308295377</td>\n",
       "      <td>https://chattanooga.craigslist.org/ctd/d/chatt...</td>\n",
       "      <td>chattanooga</td>\n",
       "      <td>https://chattanooga.craigslist.org</td>\n",
       "      <td>54990</td>\n",
       "      <td>2020</td>\n",
       "      <td>ram</td>\n",
       "      <td>2500 crew cab big horn</td>\n",
       "      <td>diesel</td>\n",
       "      <td>27442</td>\n",
       "      <td>...</td>\n",
       "      <td>2021-04-17T12:30:50-0400</td>\n",
       "      <td>high</td>\n",
       "      <td>2021-04-17 16:30:50+00:00</td>\n",
       "      <td>44163.618048</td>\n",
       "      <td>0.499036</td>\n",
       "      <td>chattanooga</td>\n",
       "      <td>chattanooga</td>\n",
       "      <td>ram: 2500 crew cab big horn</td>\n",
       "      <td>4482</td>\n",
       "      <td>0</td>\n",
       "    </tr>\n",
       "    <tr>\n",
       "      <th>1</th>\n",
       "      <td>7316380095</td>\n",
       "      <td>https://newjersey.craigslist.org/ctd/d/carlsta...</td>\n",
       "      <td>north jersey</td>\n",
       "      <td>https://newjersey.craigslist.org</td>\n",
       "      <td>16942</td>\n",
       "      <td>2016</td>\n",
       "      <td>ford</td>\n",
       "      <td>explorer 4wd 4dr xlt</td>\n",
       "      <td>other</td>\n",
       "      <td>60023</td>\n",
       "      <td>...</td>\n",
       "      <td>2021-05-03T15:40:21-0400</td>\n",
       "      <td>medium</td>\n",
       "      <td>2021-05-03 19:40:21+00:00</td>\n",
       "      <td>96597.654912</td>\n",
       "      <td>3.542852</td>\n",
       "      <td>newjersey</td>\n",
       "      <td>northjersey</td>\n",
       "      <td>ford: explorer 4wd 4dr xlt</td>\n",
       "      <td>968</td>\n",
       "      <td>0</td>\n",
       "    </tr>\n",
       "    <tr>\n",
       "      <th>2</th>\n",
       "      <td>7313733749</td>\n",
       "      <td>https://reno.craigslist.org/ctd/d/atlanta-2017...</td>\n",
       "      <td>reno / tahoe</td>\n",
       "      <td>https://reno.craigslist.org</td>\n",
       "      <td>35590</td>\n",
       "      <td>2017</td>\n",
       "      <td>volkswagen</td>\n",
       "      <td>golf r hatchback</td>\n",
       "      <td>gas</td>\n",
       "      <td>14048</td>\n",
       "      <td>...</td>\n",
       "      <td>2021-04-28T03:52:20-0700</td>\n",
       "      <td>high</td>\n",
       "      <td>2021-04-28 10:52:20+00:00</td>\n",
       "      <td>22608.064512</td>\n",
       "      <td>0.394718</td>\n",
       "      <td>reno</td>\n",
       "      <td>reno</td>\n",
       "      <td>volkswagen: golf r hatchback</td>\n",
       "      <td>4286</td>\n",
       "      <td>0</td>\n",
       "    </tr>\n",
       "    <tr>\n",
       "      <th>3</th>\n",
       "      <td>7308210929</td>\n",
       "      <td>https://fayetteville.craigslist.org/ctd/d/rale...</td>\n",
       "      <td>fayetteville</td>\n",
       "      <td>https://fayetteville.craigslist.org</td>\n",
       "      <td>14500</td>\n",
       "      <td>2013</td>\n",
       "      <td>toyota</td>\n",
       "      <td>rav4</td>\n",
       "      <td>gas</td>\n",
       "      <td>117291</td>\n",
       "      <td>...</td>\n",
       "      <td>2021-04-17T10:08:57-0400</td>\n",
       "      <td>medium</td>\n",
       "      <td>2021-04-17 14:08:57+00:00</td>\n",
       "      <td>188761.567104</td>\n",
       "      <td>8.089034</td>\n",
       "      <td>fayetteville</td>\n",
       "      <td>fayetteville</td>\n",
       "      <td>toyota: rav4</td>\n",
       "      <td>3241</td>\n",
       "      <td>0</td>\n",
       "    </tr>\n",
       "    <tr>\n",
       "      <th>4</th>\n",
       "      <td>7303797340</td>\n",
       "      <td>https://knoxville.craigslist.org/ctd/d/knoxvil...</td>\n",
       "      <td>knoxville</td>\n",
       "      <td>https://knoxville.craigslist.org</td>\n",
       "      <td>14590</td>\n",
       "      <td>2012</td>\n",
       "      <td>bmw</td>\n",
       "      <td>1 series 128i coupe 2d</td>\n",
       "      <td>other</td>\n",
       "      <td>80465</td>\n",
       "      <td>...</td>\n",
       "      <td>2021-04-08T15:10:56-0400</td>\n",
       "      <td>medium</td>\n",
       "      <td>2021-04-08 19:10:56+00:00</td>\n",
       "      <td>129495.864960</td>\n",
       "      <td>5.515079</td>\n",
       "      <td>knoxville</td>\n",
       "      <td>knoxville</td>\n",
       "      <td>bmw: 1 series 128i coupe 2d</td>\n",
       "      <td>4851</td>\n",
       "      <td>0</td>\n",
       "    </tr>\n",
       "  </tbody>\n",
       "</table>\n",
       "<p>5 rows × 27 columns</p>\n",
       "</div>"
      ],
      "text/plain": [
       "           id                                                url  \\\n",
       "0  7308295377  https://chattanooga.craigslist.org/ctd/d/chatt...   \n",
       "1  7316380095  https://newjersey.craigslist.org/ctd/d/carlsta...   \n",
       "2  7313733749  https://reno.craigslist.org/ctd/d/atlanta-2017...   \n",
       "3  7308210929  https://fayetteville.craigslist.org/ctd/d/rale...   \n",
       "4  7303797340  https://knoxville.craigslist.org/ctd/d/knoxvil...   \n",
       "\n",
       "         region                           region_url  price  year  \\\n",
       "0   chattanooga   https://chattanooga.craigslist.org  54990  2020   \n",
       "1  north jersey     https://newjersey.craigslist.org  16942  2016   \n",
       "2  reno / tahoe          https://reno.craigslist.org  35590  2017   \n",
       "3  fayetteville  https://fayetteville.craigslist.org  14500  2013   \n",
       "4     knoxville     https://knoxville.craigslist.org  14590  2012   \n",
       "\n",
       "  manufacturer                   model    fuel  odometer  ...  \\\n",
       "0          ram  2500 crew cab big horn  diesel     27442  ...   \n",
       "1         ford    explorer 4wd 4dr xlt   other     60023  ...   \n",
       "2   volkswagen        golf r hatchback     gas     14048  ...   \n",
       "3       toyota                    rav4     gas    117291  ...   \n",
       "4          bmw  1 series 128i coupe 2d   other     80465  ...   \n",
       "\n",
       "               posting_date price_category                       date  \\\n",
       "0  2021-04-17T12:30:50-0400           high  2021-04-17 16:30:50+00:00   \n",
       "1  2021-05-03T15:40:21-0400         medium  2021-05-03 19:40:21+00:00   \n",
       "2  2021-04-28T03:52:20-0700           high  2021-04-28 10:52:20+00:00   \n",
       "3  2021-04-17T10:08:57-0400         medium  2021-04-17 14:08:57+00:00   \n",
       "4  2021-04-08T15:10:56-0400         medium  2021-04-08 19:10:56+00:00   \n",
       "\n",
       "     odometer_km odometer/price    region_new  region_corrected  \\\n",
       "0   44163.618048       0.499036   chattanooga       chattanooga   \n",
       "1   96597.654912       3.542852     newjersey       northjersey   \n",
       "2   22608.064512       0.394718          reno              reno   \n",
       "3  188761.567104       8.089034  fayetteville      fayetteville   \n",
       "4  129495.864960       5.515079     knoxville         knoxville   \n",
       "\n",
       "             manufacturer_model desc_len model_in_desc  \n",
       "0   ram: 2500 crew cab big horn     4482             0  \n",
       "1    ford: explorer 4wd 4dr xlt      968             0  \n",
       "2  volkswagen: golf r hatchback     4286             0  \n",
       "3                  toyota: rav4     3241             0  \n",
       "4   bmw: 1 series 128i coupe 2d     4851             0  \n",
       "\n",
       "[5 rows x 27 columns]"
      ]
     },
     "execution_count": 3,
     "metadata": {},
     "output_type": "execute_result"
    }
   ],
   "source": [
    "# Ваш код здесь\n",
    "df = pd.read_csv('data/vehicles_dataset_upd4.csv')\n",
    "df.head(5)"
   ]
  },
  {
   "cell_type": "code",
   "execution_count": 15,
   "id": "3065fc73",
   "metadata": {},
   "outputs": [
    {
     "data": {
      "text/plain": [
       "Index(['id', 'url', 'region', 'region_url', 'price', 'year', 'manufacturer',\n",
       "       'model', 'fuel', 'odometer', 'title_status', 'transmission',\n",
       "       'image_url', 'description', 'state', 'lat', 'long', 'posting_date',\n",
       "       'price_category', 'date', 'odometer_km', 'odometer/price', 'region_new',\n",
       "       'region_corrected', 'manufacturer_model', 'desc_len', 'model_in_desc',\n",
       "       'price_k$'],\n",
       "      dtype='object')"
      ]
     },
     "execution_count": 15,
     "metadata": {},
     "output_type": "execute_result"
    }
   ],
   "source": [
    "df.columns"
   ]
  },
  {
   "cell_type": "markdown",
   "id": "b53740bc",
   "metadata": {
    "id": "b53740bc"
   },
   "source": [
    "2. С помощью lambda-функции или без неё создайте признак `price_k$`, обозначающий стоимость автомобиля в тысячах долларов. Округлите и выведите получившиеся значения."
   ]
  },
  {
   "cell_type": "code",
   "execution_count": 8,
   "id": "d0259357",
   "metadata": {
    "id": "d0259357"
   },
   "outputs": [
    {
     "data": {
      "text/plain": [
       "0       55\n",
       "1       17\n",
       "2       36\n",
       "3       14\n",
       "4       15\n",
       "        ..\n",
       "9614     4\n",
       "9615    14\n",
       "9616     9\n",
       "9617    32\n",
       "9618    32\n",
       "Name: price_k$, Length: 9619, dtype: int64"
      ]
     },
     "execution_count": 8,
     "metadata": {},
     "output_type": "execute_result"
    }
   ],
   "source": [
    "# Ваш код здесь\n",
    "df['price_k$'] = df.apply(lambda x: round(x.price / 1000), axis=1)\n",
    "df['price_k$']"
   ]
  },
  {
   "cell_type": "markdown",
   "id": "c0e0f6de",
   "metadata": {
    "id": "c0e0f6de"
   },
   "source": [
    "3. Посчитайте коэффициент корреляции Пирсона для стоимости автомобиля в долларах и в округлённых тысячах долларов и подумайте, почему получилось такое значение."
   ]
  },
  {
   "cell_type": "code",
   "execution_count": 10,
   "id": "a1349322",
   "metadata": {
    "id": "a1349322"
   },
   "outputs": [
    {
     "data": {
      "text/plain": [
       "0.9997987024374054"
      ]
     },
     "execution_count": 10,
     "metadata": {},
     "output_type": "execute_result"
    }
   ],
   "source": [
    "# Ваш код здесь\n",
    "df['price'].corr(df['price_k$'])"
   ]
  },
  {
   "cell_type": "markdown",
   "id": "29bad2c6",
   "metadata": {
    "id": "29bad2c6"
   },
   "source": [
    "### Задача 2. Построение категориального признака на основе количественного\n",
    "\n",
    "1. Выведите описательные статистики для переменной `year`."
   ]
  },
  {
   "cell_type": "code",
   "execution_count": 11,
   "id": "ba31752e",
   "metadata": {
    "ExecuteTime": {
     "end_time": "2022-02-23T19:39:17.014992Z",
     "start_time": "2022-02-23T19:39:17.011993Z"
    },
    "id": "ba31752e"
   },
   "outputs": [
    {
     "data": {
      "text/plain": [
       "count    9619.000000\n",
       "mean     2011.555879\n",
       "std         6.385814\n",
       "min      1995.000000\n",
       "25%      2008.000000\n",
       "50%      2013.000000\n",
       "75%      2017.000000\n",
       "max      2020.000000\n",
       "Name: year, dtype: float64"
      ]
     },
     "execution_count": 11,
     "metadata": {},
     "output_type": "execute_result"
    }
   ],
   "source": [
    "# Ваш код здесь\n",
    "df.year.describe()"
   ]
  },
  {
   "cell_type": "markdown",
   "id": "0d28f243",
   "metadata": {
    "id": "0d28f243"
   },
   "source": [
    "2. Создайте с помощью lambda-функции новый признак `age_category`, обозначающий возрастную категорию автомобиля, выведите его.\n",
    "\n",
    "Будет три категории:\n",
    "- `old` — автомобиль старше 2013 года выпуска;\n",
    "- `average`— автомобиль, выпущенный между 2006 и 2013 годом;\n",
    "- `new` — автомобиль до 2006 года выпуска."
   ]
  },
  {
   "cell_type": "code",
   "execution_count": 25,
   "id": "dc86a576",
   "metadata": {
    "ExecuteTime": {
     "end_time": "2022-02-23T19:39:17.644766Z",
     "start_time": "2022-02-23T19:39:17.639793Z"
    },
    "id": "dc86a576"
   },
   "outputs": [
    {
     "data": {
      "text/plain": [
       "0           new\n",
       "1           new\n",
       "2           new\n",
       "3       average\n",
       "4       average\n",
       "         ...   \n",
       "9614        old\n",
       "9615    average\n",
       "9616    average\n",
       "9617        new\n",
       "9618        new\n",
       "Name: age_category, Length: 9619, dtype: object"
      ]
     },
     "execution_count": 25,
     "metadata": {},
     "output_type": "execute_result"
    }
   ],
   "source": [
    "# Ваш код здесь\n",
    "df['age_category'] = df.apply(lambda x: 'new' if x.year > 2013 else ('old' if x.year < 2006 else 'average'), axis=1)\n",
    "df['age_category']\n"
   ]
  },
  {
   "cell_type": "markdown",
   "id": "3ebcd7f2",
   "metadata": {
    "id": "3ebcd7f2"
   },
   "source": [
    "3. Выведите значения года выпуска автомобиля и получившуюся возрастную категорию автомобиля, чтобы убедиться в правильности распределения категорий."
   ]
  },
  {
   "cell_type": "code",
   "execution_count": 28,
   "id": "2995ed0f",
   "metadata": {
    "ExecuteTime": {
     "end_time": "2022-02-23T19:39:18.358901Z",
     "start_time": "2022-02-23T19:39:18.355242Z"
    },
    "id": "2995ed0f"
   },
   "outputs": [
    {
     "data": {
      "text/html": [
       "<div>\n",
       "<style scoped>\n",
       "    .dataframe tbody tr th:only-of-type {\n",
       "        vertical-align: middle;\n",
       "    }\n",
       "\n",
       "    .dataframe tbody tr th {\n",
       "        vertical-align: top;\n",
       "    }\n",
       "\n",
       "    .dataframe thead th {\n",
       "        text-align: right;\n",
       "    }\n",
       "</style>\n",
       "<table border=\"1\" class=\"dataframe\">\n",
       "  <thead>\n",
       "    <tr style=\"text-align: right;\">\n",
       "      <th></th>\n",
       "      <th>age_category</th>\n",
       "      <th>year</th>\n",
       "    </tr>\n",
       "  </thead>\n",
       "  <tbody>\n",
       "    <tr>\n",
       "      <th>0</th>\n",
       "      <td>new</td>\n",
       "      <td>2020</td>\n",
       "    </tr>\n",
       "    <tr>\n",
       "      <th>1</th>\n",
       "      <td>new</td>\n",
       "      <td>2016</td>\n",
       "    </tr>\n",
       "    <tr>\n",
       "      <th>2</th>\n",
       "      <td>new</td>\n",
       "      <td>2017</td>\n",
       "    </tr>\n",
       "    <tr>\n",
       "      <th>3</th>\n",
       "      <td>average</td>\n",
       "      <td>2013</td>\n",
       "    </tr>\n",
       "    <tr>\n",
       "      <th>4</th>\n",
       "      <td>average</td>\n",
       "      <td>2012</td>\n",
       "    </tr>\n",
       "    <tr>\n",
       "      <th>...</th>\n",
       "      <td>...</td>\n",
       "      <td>...</td>\n",
       "    </tr>\n",
       "    <tr>\n",
       "      <th>9614</th>\n",
       "      <td>old</td>\n",
       "      <td>2002</td>\n",
       "    </tr>\n",
       "    <tr>\n",
       "      <th>9615</th>\n",
       "      <td>average</td>\n",
       "      <td>2008</td>\n",
       "    </tr>\n",
       "    <tr>\n",
       "      <th>9616</th>\n",
       "      <td>average</td>\n",
       "      <td>2011</td>\n",
       "    </tr>\n",
       "    <tr>\n",
       "      <th>9617</th>\n",
       "      <td>new</td>\n",
       "      <td>2015</td>\n",
       "    </tr>\n",
       "    <tr>\n",
       "      <th>9618</th>\n",
       "      <td>new</td>\n",
       "      <td>2017</td>\n",
       "    </tr>\n",
       "  </tbody>\n",
       "</table>\n",
       "<p>9619 rows × 2 columns</p>\n",
       "</div>"
      ],
      "text/plain": [
       "     age_category  year\n",
       "0             new  2020\n",
       "1             new  2016\n",
       "2             new  2017\n",
       "3         average  2013\n",
       "4         average  2012\n",
       "...           ...   ...\n",
       "9614          old  2002\n",
       "9615      average  2008\n",
       "9616      average  2011\n",
       "9617          new  2015\n",
       "9618          new  2017\n",
       "\n",
       "[9619 rows x 2 columns]"
      ]
     },
     "execution_count": 28,
     "metadata": {},
     "output_type": "execute_result"
    }
   ],
   "source": [
    "# Ваш код здесь\n",
    "df[['age_category', 'year']]"
   ]
  },
  {
   "cell_type": "markdown",
   "id": "4cfd9e8b",
   "metadata": {
    "id": "4cfd9e8b"
   },
   "source": [
    "1. На одном полотне постройте графики распределения года производства автомобиля для каждой из возрастной категории автомобиля. Настройти общий размер фигуры — 12x8, цвета в зависимости от возрастной категории: зелёный, оранжевый и красный для новых, средних и старых автомобилей соответственно. Не забудьте подписать название графика и оси, а также вывести легенду для возрастной категории. \n"
   ]
  },
  {
   "cell_type": "code",
   "execution_count": 32,
   "id": "8c6e193b",
   "metadata": {
    "ExecuteTime": {
     "end_time": "2022-02-23T19:39:18.850028Z",
     "start_time": "2022-02-23T19:39:18.847367Z"
    },
    "id": "8c6e193b"
   },
   "outputs": [
    {
     "data": {
      "image/png": "[encoded data removed]",
      "text/plain": [
       "<Figure size 1200x800 with 1 Axes>"
      ]
     },
     "metadata": {},
     "output_type": "display_data"
    }
   ],
   "source": [
    "# Ваш код здесь\n",
    "colors = {'new': 'green', 'average': 'orange', 'old': 'red'}\n",
    "\n",
    "fig, ax = plt.subplots(figsize=(12, 8))\n",
    "for age_category in colors:\n",
    "    color = colors[age_category]\n",
    "    data = df[df['age_category'] == age_category]\n",
    "\n",
    "    ax.hist(data['year'], color=color)\n",
    "    \n",
    "plt.ylabel('Количество')\n",
    "plt.xlabel('Год выпуска автомобиля')\n",
    "plt.title('Возрастная категория автомобиля в зависимости от года выпуска автомобиля')\n",
    "plt.legend(colors, title=\"Возрастная категория\");"
   ]
  },
  {
   "cell_type": "markdown",
   "id": "37a63805",
   "metadata": {
    "id": "37a63805"
   },
   "source": [
    "### Задача 3. Построение признаков из строк \n",
    "\n",
    "1. Создайте новый признак `model_len`, обозначающий количество символов (длину строки) в модели автомобиля, выведите его."
   ]
  },
  {
   "cell_type": "code",
   "execution_count": 33,
   "id": "3aea1988",
   "metadata": {
    "ExecuteTime": {
     "end_time": "2022-03-12T21:01:00.353719Z",
     "start_time": "2022-03-12T21:01:00.337170Z"
    },
    "id": "3aea1988"
   },
   "outputs": [
    {
     "data": {
      "text/plain": [
       "0       22\n",
       "1       20\n",
       "2       16\n",
       "3        4\n",
       "4       22\n",
       "        ..\n",
       "9614     4\n",
       "9615     8\n",
       "9616    25\n",
       "9617     7\n",
       "9618    22\n",
       "Name: model_len, Length: 9619, dtype: int64"
      ]
     },
     "execution_count": 33,
     "metadata": {},
     "output_type": "execute_result"
    }
   ],
   "source": [
    "# Ваш код здесь\n",
    "df['model_len'] = df.apply(lambda x: len(x.model) , axis=1)\n",
    "df['model_len']"
   ]
  },
  {
   "cell_type": "markdown",
   "id": "8578666f",
   "metadata": {
    "id": "8578666f"
   },
   "source": [
    "2. С помощью `value_counts` посмотрите на самое популярное количество символов в модели автомобиля."
   ]
  },
  {
   "cell_type": "code",
   "execution_count": 35,
   "id": "4807a598",
   "metadata": {
    "ExecuteTime": {
     "end_time": "2022-03-12T21:02:49.861659Z",
     "start_time": "2022-03-12T21:02:49.858390Z"
    },
    "id": "4807a598"
   },
   "outputs": [
    {
     "data": {
      "text/plain": [
       "model_len\n",
       "6      1004\n",
       "5       900\n",
       "7       724\n",
       "8       681\n",
       "4       647\n",
       "       ... \n",
       "187       1\n",
       "168       1\n",
       "58        1\n",
       "76        1\n",
       "186       1\n",
       "Name: count, Length: 65, dtype: int64"
      ]
     },
     "execution_count": 35,
     "metadata": {},
     "output_type": "execute_result"
    }
   ],
   "source": [
    "# Ваш код здесь\n",
    "df['model_len'].value_counts()"
   ]
  },
  {
   "cell_type": "markdown",
   "id": "c9f22612",
   "metadata": {
    "ExecuteTime": {
     "end_time": "2022-03-12T21:06:31.996490Z",
     "start_time": "2022-03-12T21:06:31.988317Z"
    },
    "id": "c9f22612"
   },
   "source": [
    "\n",
    "3. Создайте новый признак `model_word_count`, обозначающий количество слов в модели автомобиля, выведите его."
   ]
  },
  {
   "cell_type": "code",
   "execution_count": 36,
   "id": "e31995cf",
   "metadata": {
    "id": "e31995cf"
   },
   "outputs": [
    {
     "data": {
      "text/plain": [
       "0       5\n",
       "1       4\n",
       "2       3\n",
       "3       1\n",
       "4       5\n",
       "       ..\n",
       "9614    1\n",
       "9615    1\n",
       "9616    5\n",
       "9617    1\n",
       "9618    5\n",
       "Name: model_word_count, Length: 9619, dtype: int64"
      ]
     },
     "execution_count": 36,
     "metadata": {},
     "output_type": "execute_result"
    }
   ],
   "source": [
    "# Ваш код здесь\n",
    "df['model_word_count'] = df.apply(lambda x: len(x.model.split(' ')) , axis=1)\n",
    "df['model_word_count']"
   ]
  },
  {
   "cell_type": "markdown",
   "id": "599fdfc1",
   "metadata": {
    "id": "599fdfc1"
   },
   "source": [
    "4. С помощью `value_counts` посмотрите на самое популярное количество слов в модели автомобиля."
   ]
  },
  {
   "cell_type": "code",
   "execution_count": 37,
   "id": "a5a733f3",
   "metadata": {
    "id": "a5a733f3"
   },
   "outputs": [
    {
     "data": {
      "text/plain": [
       "model_word_count\n",
       "1     4289\n",
       "2     2184\n",
       "3     1355\n",
       "4     1182\n",
       "5      498\n",
       "6       68\n",
       "10       8\n",
       "8        7\n",
       "11       5\n",
       "9        5\n",
       "7        4\n",
       "13       3\n",
       "15       3\n",
       "27       1\n",
       "21       1\n",
       "14       1\n",
       "17       1\n",
       "24       1\n",
       "12       1\n",
       "29       1\n",
       "22       1\n",
       "Name: count, dtype: int64"
      ]
     },
     "execution_count": 37,
     "metadata": {},
     "output_type": "execute_result"
    }
   ],
   "source": [
    "# Ваш код здесь\n",
    "df['model_word_count'].value_counts()"
   ]
  },
  {
   "cell_type": "markdown",
   "id": "f504bed3",
   "metadata": {
    "id": "f504bed3"
   },
   "source": [
    "### Задача 4. Создание нескольких признаков из категориальной переменной\n",
    "\n",
    "1. Для каждого выбранного производителя автомобиля создайте отдельный признак, содержащий 1, если данный автомобиль произведён именно этим производителем, и 0, если нет. Назовите признаки согласно шаблону: для `audi` это будет `is_audi` и так далее."
   ]
  },
  {
   "cell_type": "code",
   "execution_count": 38,
   "id": "4f786e60",
   "metadata": {
    "id": "4f786e60"
   },
   "outputs": [],
   "source": [
    "# Допишите код\n",
    "\n",
    "manufacturer_names = ['audi', 'ford', 'chevrolet', 'toyota', 'jeep', 'honda', 'nissan']\n",
    "\n",
    "for manufacturer in manufacturer_names:\n",
    "    col_name = 'is_' + manufacturer\n",
    "    \n",
    "    df[col_name] = df.apply(lambda x: 1 if x.manufacturer == manufacturer else 0, axis=1)\n",
    "    # Ваш код здесь\n",
    "    "
   ]
  },
  {
   "cell_type": "markdown",
   "id": "cf5757b8",
   "metadata": {
    "id": "cf5757b8"
   },
   "source": [
    "2. Выведите 7 последних колонок, чтобы убедиться в правильности вывода."
   ]
  },
  {
   "cell_type": "code",
   "execution_count": 40,
   "id": "e5b77636",
   "metadata": {
    "id": "e5b77636"
   },
   "outputs": [
    {
     "data": {
      "text/html": [
       "<div>\n",
       "<style scoped>\n",
       "    .dataframe tbody tr th:only-of-type {\n",
       "        vertical-align: middle;\n",
       "    }\n",
       "\n",
       "    .dataframe tbody tr th {\n",
       "        vertical-align: top;\n",
       "    }\n",
       "\n",
       "    .dataframe thead th {\n",
       "        text-align: right;\n",
       "    }\n",
       "</style>\n",
       "<table border=\"1\" class=\"dataframe\">\n",
       "  <thead>\n",
       "    <tr style=\"text-align: right;\">\n",
       "      <th></th>\n",
       "      <th>is_audi</th>\n",
       "      <th>is_ford</th>\n",
       "      <th>is_chevrolet</th>\n",
       "      <th>is_toyota</th>\n",
       "      <th>is_jeep</th>\n",
       "      <th>is_honda</th>\n",
       "      <th>is_nissan</th>\n",
       "    </tr>\n",
       "  </thead>\n",
       "  <tbody>\n",
       "    <tr>\n",
       "      <th>0</th>\n",
       "      <td>0</td>\n",
       "      <td>0</td>\n",
       "      <td>0</td>\n",
       "      <td>0</td>\n",
       "      <td>0</td>\n",
       "      <td>0</td>\n",
       "      <td>0</td>\n",
       "    </tr>\n",
       "    <tr>\n",
       "      <th>1</th>\n",
       "      <td>0</td>\n",
       "      <td>1</td>\n",
       "      <td>0</td>\n",
       "      <td>0</td>\n",
       "      <td>0</td>\n",
       "      <td>0</td>\n",
       "      <td>0</td>\n",
       "    </tr>\n",
       "    <tr>\n",
       "      <th>2</th>\n",
       "      <td>0</td>\n",
       "      <td>0</td>\n",
       "      <td>0</td>\n",
       "      <td>0</td>\n",
       "      <td>0</td>\n",
       "      <td>0</td>\n",
       "      <td>0</td>\n",
       "    </tr>\n",
       "    <tr>\n",
       "      <th>3</th>\n",
       "      <td>0</td>\n",
       "      <td>0</td>\n",
       "      <td>0</td>\n",
       "      <td>1</td>\n",
       "      <td>0</td>\n",
       "      <td>0</td>\n",
       "      <td>0</td>\n",
       "    </tr>\n",
       "    <tr>\n",
       "      <th>4</th>\n",
       "      <td>0</td>\n",
       "      <td>0</td>\n",
       "      <td>0</td>\n",
       "      <td>0</td>\n",
       "      <td>0</td>\n",
       "      <td>0</td>\n",
       "      <td>0</td>\n",
       "    </tr>\n",
       "    <tr>\n",
       "      <th>...</th>\n",
       "      <td>...</td>\n",
       "      <td>...</td>\n",
       "      <td>...</td>\n",
       "      <td>...</td>\n",
       "      <td>...</td>\n",
       "      <td>...</td>\n",
       "      <td>...</td>\n",
       "    </tr>\n",
       "    <tr>\n",
       "      <th>9614</th>\n",
       "      <td>0</td>\n",
       "      <td>0</td>\n",
       "      <td>0</td>\n",
       "      <td>1</td>\n",
       "      <td>0</td>\n",
       "      <td>0</td>\n",
       "      <td>0</td>\n",
       "    </tr>\n",
       "    <tr>\n",
       "      <th>9615</th>\n",
       "      <td>0</td>\n",
       "      <td>0</td>\n",
       "      <td>0</td>\n",
       "      <td>0</td>\n",
       "      <td>1</td>\n",
       "      <td>0</td>\n",
       "      <td>0</td>\n",
       "    </tr>\n",
       "    <tr>\n",
       "      <th>9616</th>\n",
       "      <td>1</td>\n",
       "      <td>0</td>\n",
       "      <td>0</td>\n",
       "      <td>0</td>\n",
       "      <td>0</td>\n",
       "      <td>0</td>\n",
       "      <td>0</td>\n",
       "    </tr>\n",
       "    <tr>\n",
       "      <th>9617</th>\n",
       "      <td>0</td>\n",
       "      <td>0</td>\n",
       "      <td>0</td>\n",
       "      <td>0</td>\n",
       "      <td>0</td>\n",
       "      <td>0</td>\n",
       "      <td>0</td>\n",
       "    </tr>\n",
       "    <tr>\n",
       "      <th>9618</th>\n",
       "      <td>0</td>\n",
       "      <td>0</td>\n",
       "      <td>0</td>\n",
       "      <td>0</td>\n",
       "      <td>0</td>\n",
       "      <td>0</td>\n",
       "      <td>0</td>\n",
       "    </tr>\n",
       "  </tbody>\n",
       "</table>\n",
       "<p>9619 rows × 7 columns</p>\n",
       "</div>"
      ],
      "text/plain": [
       "      is_audi  is_ford  is_chevrolet  is_toyota  is_jeep  is_honda  is_nissan\n",
       "0           0        0             0          0        0         0          0\n",
       "1           0        1             0          0        0         0          0\n",
       "2           0        0             0          0        0         0          0\n",
       "3           0        0             0          1        0         0          0\n",
       "4           0        0             0          0        0         0          0\n",
       "...       ...      ...           ...        ...      ...       ...        ...\n",
       "9614        0        0             0          1        0         0          0\n",
       "9615        0        0             0          0        1         0          0\n",
       "9616        1        0             0          0        0         0          0\n",
       "9617        0        0             0          0        0         0          0\n",
       "9618        0        0             0          0        0         0          0\n",
       "\n",
       "[9619 rows x 7 columns]"
      ]
     },
     "execution_count": 40,
     "metadata": {},
     "output_type": "execute_result"
    }
   ],
   "source": [
    "# Ваш код здесь\n",
    "df.iloc[:, -7:]"
   ]
  },
  {
   "cell_type": "markdown",
   "id": "e462d0e0",
   "metadata": {
    "id": "e462d0e0"
   },
   "source": [
    "3. Выведите только те автомобили, которые произведены audi. Сделайте это на основе нового признака `is_audi`."
   ]
  },
  {
   "cell_type": "code",
   "execution_count": 41,
   "id": "d911c046",
   "metadata": {
    "id": "d911c046"
   },
   "outputs": [
    {
     "data": {
      "text/html": [
       "<div>\n",
       "<style scoped>\n",
       "    .dataframe tbody tr th:only-of-type {\n",
       "        vertical-align: middle;\n",
       "    }\n",
       "\n",
       "    .dataframe tbody tr th {\n",
       "        vertical-align: top;\n",
       "    }\n",
       "\n",
       "    .dataframe thead th {\n",
       "        text-align: right;\n",
       "    }\n",
       "</style>\n",
       "<table border=\"1\" class=\"dataframe\">\n",
       "  <thead>\n",
       "    <tr style=\"text-align: right;\">\n",
       "      <th></th>\n",
       "      <th>id</th>\n",
       "      <th>url</th>\n",
       "      <th>region</th>\n",
       "      <th>region_url</th>\n",
       "      <th>price</th>\n",
       "      <th>year</th>\n",
       "      <th>manufacturer</th>\n",
       "      <th>model</th>\n",
       "      <th>fuel</th>\n",
       "      <th>odometer</th>\n",
       "      <th>...</th>\n",
       "      <th>age_category</th>\n",
       "      <th>model_len</th>\n",
       "      <th>model_word_count</th>\n",
       "      <th>is_audi</th>\n",
       "      <th>is_ford</th>\n",
       "      <th>is_chevrolet</th>\n",
       "      <th>is_toyota</th>\n",
       "      <th>is_jeep</th>\n",
       "      <th>is_honda</th>\n",
       "      <th>is_nissan</th>\n",
       "    </tr>\n",
       "  </thead>\n",
       "  <tbody>\n",
       "    <tr>\n",
       "      <th>58</th>\n",
       "      <td>7308399412</td>\n",
       "      <td>https://slo.craigslist.org/ctd/d/grover-beach-...</td>\n",
       "      <td>san luis obispo</td>\n",
       "      <td>https://slo.craigslist.org</td>\n",
       "      <td>9995</td>\n",
       "      <td>2010</td>\n",
       "      <td>audi</td>\n",
       "      <td>q5</td>\n",
       "      <td>gas</td>\n",
       "      <td>165714</td>\n",
       "      <td>...</td>\n",
       "      <td>average</td>\n",
       "      <td>2</td>\n",
       "      <td>1</td>\n",
       "      <td>1</td>\n",
       "      <td>0</td>\n",
       "      <td>0</td>\n",
       "      <td>0</td>\n",
       "      <td>0</td>\n",
       "      <td>0</td>\n",
       "      <td>0</td>\n",
       "    </tr>\n",
       "    <tr>\n",
       "      <th>104</th>\n",
       "      <td>7311352618</td>\n",
       "      <td>https://baltimore.craigslist.org/ctd/d/cockeys...</td>\n",
       "      <td>baltimore</td>\n",
       "      <td>https://baltimore.craigslist.org</td>\n",
       "      <td>33499</td>\n",
       "      <td>2018</td>\n",
       "      <td>audi</td>\n",
       "      <td>q7</td>\n",
       "      <td>gas</td>\n",
       "      <td>46529</td>\n",
       "      <td>...</td>\n",
       "      <td>new</td>\n",
       "      <td>2</td>\n",
       "      <td>1</td>\n",
       "      <td>1</td>\n",
       "      <td>0</td>\n",
       "      <td>0</td>\n",
       "      <td>0</td>\n",
       "      <td>0</td>\n",
       "      <td>0</td>\n",
       "      <td>0</td>\n",
       "    </tr>\n",
       "    <tr>\n",
       "      <th>125</th>\n",
       "      <td>7306308183</td>\n",
       "      <td>https://montgomery.craigslist.org/ctd/d/montgo...</td>\n",
       "      <td>montgomery</td>\n",
       "      <td>https://montgomery.craigslist.org</td>\n",
       "      <td>29590</td>\n",
       "      <td>2018</td>\n",
       "      <td>audi</td>\n",
       "      <td>q5 premium sport utility 4d</td>\n",
       "      <td>gas</td>\n",
       "      <td>34476</td>\n",
       "      <td>...</td>\n",
       "      <td>new</td>\n",
       "      <td>27</td>\n",
       "      <td>5</td>\n",
       "      <td>1</td>\n",
       "      <td>0</td>\n",
       "      <td>0</td>\n",
       "      <td>0</td>\n",
       "      <td>0</td>\n",
       "      <td>0</td>\n",
       "      <td>0</td>\n",
       "    </tr>\n",
       "    <tr>\n",
       "      <th>195</th>\n",
       "      <td>7315205542</td>\n",
       "      <td>https://denver.craigslist.org/ctd/d/littleton-...</td>\n",
       "      <td>denver</td>\n",
       "      <td>https://denver.craigslist.org</td>\n",
       "      <td>15598</td>\n",
       "      <td>2013</td>\n",
       "      <td>audi</td>\n",
       "      <td>a6</td>\n",
       "      <td>gas</td>\n",
       "      <td>81640</td>\n",
       "      <td>...</td>\n",
       "      <td>average</td>\n",
       "      <td>2</td>\n",
       "      <td>1</td>\n",
       "      <td>1</td>\n",
       "      <td>0</td>\n",
       "      <td>0</td>\n",
       "      <td>0</td>\n",
       "      <td>0</td>\n",
       "      <td>0</td>\n",
       "      <td>0</td>\n",
       "    </tr>\n",
       "    <tr>\n",
       "      <th>251</th>\n",
       "      <td>7302069239</td>\n",
       "      <td>https://indianapolis.craigslist.org/ctd/d/indi...</td>\n",
       "      <td>indianapolis</td>\n",
       "      <td>https://indianapolis.craigslist.org</td>\n",
       "      <td>38990</td>\n",
       "      <td>2018</td>\n",
       "      <td>audi</td>\n",
       "      <td>s5 premium plus sedan 4d</td>\n",
       "      <td>gas</td>\n",
       "      <td>40118</td>\n",
       "      <td>...</td>\n",
       "      <td>new</td>\n",
       "      <td>24</td>\n",
       "      <td>5</td>\n",
       "      <td>1</td>\n",
       "      <td>0</td>\n",
       "      <td>0</td>\n",
       "      <td>0</td>\n",
       "      <td>0</td>\n",
       "      <td>0</td>\n",
       "      <td>0</td>\n",
       "    </tr>\n",
       "    <tr>\n",
       "      <th>...</th>\n",
       "      <td>...</td>\n",
       "      <td>...</td>\n",
       "      <td>...</td>\n",
       "      <td>...</td>\n",
       "      <td>...</td>\n",
       "      <td>...</td>\n",
       "      <td>...</td>\n",
       "      <td>...</td>\n",
       "      <td>...</td>\n",
       "      <td>...</td>\n",
       "      <td>...</td>\n",
       "      <td>...</td>\n",
       "      <td>...</td>\n",
       "      <td>...</td>\n",
       "      <td>...</td>\n",
       "      <td>...</td>\n",
       "      <td>...</td>\n",
       "      <td>...</td>\n",
       "      <td>...</td>\n",
       "      <td>...</td>\n",
       "      <td>...</td>\n",
       "    </tr>\n",
       "    <tr>\n",
       "      <th>9508</th>\n",
       "      <td>7313590324</td>\n",
       "      <td>https://reno.craigslist.org/cto/d/incline-vill...</td>\n",
       "      <td>reno / tahoe</td>\n",
       "      <td>https://reno.craigslist.org</td>\n",
       "      <td>28000</td>\n",
       "      <td>2014</td>\n",
       "      <td>audi</td>\n",
       "      <td>s6</td>\n",
       "      <td>gas</td>\n",
       "      <td>69000</td>\n",
       "      <td>...</td>\n",
       "      <td>new</td>\n",
       "      <td>2</td>\n",
       "      <td>1</td>\n",
       "      <td>1</td>\n",
       "      <td>0</td>\n",
       "      <td>0</td>\n",
       "      <td>0</td>\n",
       "      <td>0</td>\n",
       "      <td>0</td>\n",
       "      <td>0</td>\n",
       "    </tr>\n",
       "    <tr>\n",
       "      <th>9551</th>\n",
       "      <td>7316331812</td>\n",
       "      <td>https://indianapolis.craigslist.org/ctd/d/indi...</td>\n",
       "      <td>indianapolis</td>\n",
       "      <td>https://indianapolis.craigslist.org</td>\n",
       "      <td>10995</td>\n",
       "      <td>2011</td>\n",
       "      <td>audi</td>\n",
       "      <td>q7 premium plus</td>\n",
       "      <td>gas</td>\n",
       "      <td>140014</td>\n",
       "      <td>...</td>\n",
       "      <td>average</td>\n",
       "      <td>15</td>\n",
       "      <td>3</td>\n",
       "      <td>1</td>\n",
       "      <td>0</td>\n",
       "      <td>0</td>\n",
       "      <td>0</td>\n",
       "      <td>0</td>\n",
       "      <td>0</td>\n",
       "      <td>0</td>\n",
       "    </tr>\n",
       "    <tr>\n",
       "      <th>9559</th>\n",
       "      <td>7314775851</td>\n",
       "      <td>https://indianapolis.craigslist.org/cto/d/indi...</td>\n",
       "      <td>indianapolis</td>\n",
       "      <td>https://indianapolis.craigslist.org</td>\n",
       "      <td>13500</td>\n",
       "      <td>2012</td>\n",
       "      <td>audi</td>\n",
       "      <td>q5</td>\n",
       "      <td>gas</td>\n",
       "      <td>78000</td>\n",
       "      <td>...</td>\n",
       "      <td>average</td>\n",
       "      <td>2</td>\n",
       "      <td>1</td>\n",
       "      <td>1</td>\n",
       "      <td>0</td>\n",
       "      <td>0</td>\n",
       "      <td>0</td>\n",
       "      <td>0</td>\n",
       "      <td>0</td>\n",
       "      <td>0</td>\n",
       "    </tr>\n",
       "    <tr>\n",
       "      <th>9570</th>\n",
       "      <td>7316569161</td>\n",
       "      <td>https://chicago.craigslist.org/chc/cto/d/chica...</td>\n",
       "      <td>chicago</td>\n",
       "      <td>https://chicago.craigslist.org</td>\n",
       "      <td>8500</td>\n",
       "      <td>2009</td>\n",
       "      <td>audi</td>\n",
       "      <td>q7 3.6 premium quattro</td>\n",
       "      <td>gas</td>\n",
       "      <td>152000</td>\n",
       "      <td>...</td>\n",
       "      <td>average</td>\n",
       "      <td>22</td>\n",
       "      <td>4</td>\n",
       "      <td>1</td>\n",
       "      <td>0</td>\n",
       "      <td>0</td>\n",
       "      <td>0</td>\n",
       "      <td>0</td>\n",
       "      <td>0</td>\n",
       "      <td>0</td>\n",
       "    </tr>\n",
       "    <tr>\n",
       "      <th>9616</th>\n",
       "      <td>7310993818</td>\n",
       "      <td>https://salem.craigslist.org/ctd/d/salem-2011-...</td>\n",
       "      <td>salem</td>\n",
       "      <td>https://salem.craigslist.org</td>\n",
       "      <td>8995</td>\n",
       "      <td>2011</td>\n",
       "      <td>audi</td>\n",
       "      <td>a3 2.0t premium plus pzev</td>\n",
       "      <td>gas</td>\n",
       "      <td>150184</td>\n",
       "      <td>...</td>\n",
       "      <td>average</td>\n",
       "      <td>25</td>\n",
       "      <td>5</td>\n",
       "      <td>1</td>\n",
       "      <td>0</td>\n",
       "      <td>0</td>\n",
       "      <td>0</td>\n",
       "      <td>0</td>\n",
       "      <td>0</td>\n",
       "      <td>0</td>\n",
       "    </tr>\n",
       "  </tbody>\n",
       "</table>\n",
       "<p>193 rows × 38 columns</p>\n",
       "</div>"
      ],
      "text/plain": [
       "              id                                                url  \\\n",
       "58    7308399412  https://slo.craigslist.org/ctd/d/grover-beach-...   \n",
       "104   7311352618  https://baltimore.craigslist.org/ctd/d/cockeys...   \n",
       "125   7306308183  https://montgomery.craigslist.org/ctd/d/montgo...   \n",
       "195   7315205542  https://denver.craigslist.org/ctd/d/littleton-...   \n",
       "251   7302069239  https://indianapolis.craigslist.org/ctd/d/indi...   \n",
       "...          ...                                                ...   \n",
       "9508  7313590324  https://reno.craigslist.org/cto/d/incline-vill...   \n",
       "9551  7316331812  https://indianapolis.craigslist.org/ctd/d/indi...   \n",
       "9559  7314775851  https://indianapolis.craigslist.org/cto/d/indi...   \n",
       "9570  7316569161  https://chicago.craigslist.org/chc/cto/d/chica...   \n",
       "9616  7310993818  https://salem.craigslist.org/ctd/d/salem-2011-...   \n",
       "\n",
       "               region                           region_url  price  year  \\\n",
       "58    san luis obispo           https://slo.craigslist.org   9995  2010   \n",
       "104         baltimore     https://baltimore.craigslist.org  33499  2018   \n",
       "125        montgomery    https://montgomery.craigslist.org  29590  2018   \n",
       "195            denver        https://denver.craigslist.org  15598  2013   \n",
       "251      indianapolis  https://indianapolis.craigslist.org  38990  2018   \n",
       "...               ...                                  ...    ...   ...   \n",
       "9508     reno / tahoe          https://reno.craigslist.org  28000  2014   \n",
       "9551     indianapolis  https://indianapolis.craigslist.org  10995  2011   \n",
       "9559     indianapolis  https://indianapolis.craigslist.org  13500  2012   \n",
       "9570          chicago       https://chicago.craigslist.org   8500  2009   \n",
       "9616            salem         https://salem.craigslist.org   8995  2011   \n",
       "\n",
       "     manufacturer                        model fuel  odometer  ...  \\\n",
       "58           audi                           q5  gas    165714  ...   \n",
       "104          audi                           q7  gas     46529  ...   \n",
       "125          audi  q5 premium sport utility 4d  gas     34476  ...   \n",
       "195          audi                           a6  gas     81640  ...   \n",
       "251          audi     s5 premium plus sedan 4d  gas     40118  ...   \n",
       "...           ...                          ...  ...       ...  ...   \n",
       "9508         audi                           s6  gas     69000  ...   \n",
       "9551         audi              q7 premium plus  gas    140014  ...   \n",
       "9559         audi                           q5  gas     78000  ...   \n",
       "9570         audi       q7 3.6 premium quattro  gas    152000  ...   \n",
       "9616         audi    a3 2.0t premium plus pzev  gas    150184  ...   \n",
       "\n",
       "     age_category model_len model_word_count is_audi is_ford  is_chevrolet  \\\n",
       "58        average         2                1       1       0             0   \n",
       "104           new         2                1       1       0             0   \n",
       "125           new        27                5       1       0             0   \n",
       "195       average         2                1       1       0             0   \n",
       "251           new        24                5       1       0             0   \n",
       "...           ...       ...              ...     ...     ...           ...   \n",
       "9508          new         2                1       1       0             0   \n",
       "9551      average        15                3       1       0             0   \n",
       "9559      average         2                1       1       0             0   \n",
       "9570      average        22                4       1       0             0   \n",
       "9616      average        25                5       1       0             0   \n",
       "\n",
       "      is_toyota is_jeep is_honda is_nissan  \n",
       "58            0       0        0         0  \n",
       "104           0       0        0         0  \n",
       "125           0       0        0         0  \n",
       "195           0       0        0         0  \n",
       "251           0       0        0         0  \n",
       "...         ...     ...      ...       ...  \n",
       "9508          0       0        0         0  \n",
       "9551          0       0        0         0  \n",
       "9559          0       0        0         0  \n",
       "9570          0       0        0         0  \n",
       "9616          0       0        0         0  \n",
       "\n",
       "[193 rows x 38 columns]"
      ]
     },
     "execution_count": 41,
     "metadata": {},
     "output_type": "execute_result"
    }
   ],
   "source": [
    "# Ваш код здесь\n",
    "\n",
    "df[df.is_audi == 1]"
   ]
  },
  {
   "cell_type": "markdown",
   "id": "9cd77178",
   "metadata": {
    "id": "9cd77178"
   },
   "source": [
    "|"
   ]
  },
  {
   "cell_type": "markdown",
   "id": "983ed2f8",
   "metadata": {
    "id": "983ed2f8"
   },
   "source": [
    "|"
   ]
  },
  {
   "cell_type": "markdown",
   "id": "bbe9f84b",
   "metadata": {
    "id": "bbe9f84b"
   },
   "source": [
    "|"
   ]
  },
  {
   "cell_type": "markdown",
   "id": "8ca0cf79",
   "metadata": {
    "id": "8ca0cf79"
   },
   "source": [
    "|"
   ]
  },
  {
   "cell_type": "markdown",
   "id": "616f14cf",
   "metadata": {
    "id": "616f14cf"
   },
   "source": [
    "|"
   ]
  },
  {
   "cell_type": "markdown",
   "id": "220e0b95",
   "metadata": {
    "id": "220e0b95"
   },
   "source": [
    "|"
   ]
  },
  {
   "cell_type": "markdown",
   "id": "4d6b8897",
   "metadata": {
    "id": "4d6b8897"
   },
   "source": [
    "|"
   ]
  },
  {
   "cell_type": "markdown",
   "id": "ee5a77af",
   "metadata": {
    "id": "ee5a77af"
   },
   "source": [
    "|"
   ]
  },
  {
   "cell_type": "markdown",
   "id": "cd0edd01",
   "metadata": {
    "id": "cd0edd01"
   },
   "source": [
    "|"
   ]
  },
  {
   "cell_type": "markdown",
   "id": "38cd2f5a",
   "metadata": {
    "id": "38cd2f5a"
   },
   "source": [
    "|"
   ]
  },
  {
   "cell_type": "markdown",
   "id": "47601a70",
   "metadata": {
    "id": "47601a70"
   },
   "source": [
    "|"
   ]
  },
  {
   "cell_type": "markdown",
   "id": "d2a11c1b",
   "metadata": {
    "id": "d2a11c1b"
   },
   "source": [
    "|"
   ]
  },
  {
   "cell_type": "markdown",
   "id": "d913e43d",
   "metadata": {
    "id": "d913e43d"
   },
   "source": [
    "|"
   ]
  },
  {
   "cell_type": "markdown",
   "id": "76715b2d",
   "metadata": {
    "id": "76715b2d"
   },
   "source": [
    "|"
   ]
  },
  {
   "cell_type": "markdown",
   "id": "c4f59b32",
   "metadata": {
    "ExecuteTime": {
     "end_time": "2022-02-23T19:40:19.015651Z",
     "start_time": "2022-02-23T19:40:19.010638Z"
    },
    "id": "c4f59b32"
   },
   "source": [
    "|"
   ]
  },
  {
   "cell_type": "markdown",
   "id": "e511a30f",
   "metadata": {
    "id": "e511a30f"
   },
   "source": [
    "|"
   ]
  },
  {
   "cell_type": "markdown",
   "id": "be2a5486",
   "metadata": {
    "id": "be2a5486"
   },
   "source": [
    "|"
   ]
  },
  {
   "cell_type": "markdown",
   "id": "7f0e6594",
   "metadata": {
    "id": "7f0e6594"
   },
   "source": [
    "|"
   ]
  },
  {
   "cell_type": "markdown",
   "id": "307b0cf0",
   "metadata": {
    "id": "307b0cf0"
   },
   "source": [
    "|"
   ]
  },
  {
   "cell_type": "markdown",
   "id": "ecfa7142",
   "metadata": {
    "id": "ecfa7142"
   },
   "source": [
    "|"
   ]
  },
  {
   "cell_type": "markdown",
   "id": "18d01811",
   "metadata": {
    "id": "18d01811"
   },
   "source": [
    "|"
   ]
  },
  {
   "cell_type": "markdown",
   "id": "cd5d28b9",
   "metadata": {
    "id": "cd5d28b9"
   },
   "source": [
    "|"
   ]
  },
  {
   "cell_type": "markdown",
   "id": "9b3469f4",
   "metadata": {
    "id": "9b3469f4"
   },
   "source": [
    "**Ответы для самостоятельной проверки**"
   ]
  },
  {
   "cell_type": "markdown",
   "id": "c65cff5f",
   "metadata": {
    "id": "c65cff5f"
   },
   "source": [
    "### Задача 1."
   ]
  },
  {
   "cell_type": "code",
   "execution_count": 21,
   "id": "f9eae17f",
   "metadata": {
    "ExecuteTime": {
     "end_time": "2022-03-15T22:35:51.996642Z",
     "start_time": "2022-03-15T22:35:51.971712Z"
    },
    "id": "f9eae17f"
   },
   "outputs": [],
   "source": [
    "import pandas as pd\n",
    "import matplotlib.pyplot as plt"
   ]
  },
  {
   "cell_type": "code",
   "execution_count": 22,
   "id": "19e8ad3e",
   "metadata": {
    "ExecuteTime": {
     "end_time": "2022-03-15T22:35:53.739660Z",
     "start_time": "2022-03-15T22:35:52.508372Z"
    },
    "id": "19e8ad3e",
    "outputId": "c95dc742-7616-4cbc-c54d-45cedafb1133"
   },
   "outputs": [
    {
     "data": {
      "text/html": [
       "<div>\n",
       "<style scoped>\n",
       "    .dataframe tbody tr th:only-of-type {\n",
       "        vertical-align: middle;\n",
       "    }\n",
       "\n",
       "    .dataframe tbody tr th {\n",
       "        vertical-align: top;\n",
       "    }\n",
       "\n",
       "    .dataframe thead th {\n",
       "        text-align: right;\n",
       "    }\n",
       "</style>\n",
       "<table border=\"1\" class=\"dataframe\">\n",
       "  <thead>\n",
       "    <tr style=\"text-align: right;\">\n",
       "      <th></th>\n",
       "      <th>id</th>\n",
       "      <th>url</th>\n",
       "      <th>region</th>\n",
       "      <th>region_url</th>\n",
       "      <th>price</th>\n",
       "      <th>year</th>\n",
       "      <th>manufacturer</th>\n",
       "      <th>model</th>\n",
       "      <th>fuel</th>\n",
       "      <th>odometer</th>\n",
       "      <th>...</th>\n",
       "      <th>posting_date</th>\n",
       "      <th>price_category</th>\n",
       "      <th>date</th>\n",
       "      <th>odometer_km</th>\n",
       "      <th>odometer/price</th>\n",
       "      <th>region_new</th>\n",
       "      <th>region_corrected</th>\n",
       "      <th>manufacturer_model</th>\n",
       "      <th>desc_len</th>\n",
       "      <th>model_in_desc</th>\n",
       "    </tr>\n",
       "  </thead>\n",
       "  <tbody>\n",
       "    <tr>\n",
       "      <th>0</th>\n",
       "      <td>7308295377</td>\n",
       "      <td>https://chattanooga.craigslist.org/ctd/d/chatt...</td>\n",
       "      <td>chattanooga</td>\n",
       "      <td>https://chattanooga.craigslist.org</td>\n",
       "      <td>54990</td>\n",
       "      <td>2020</td>\n",
       "      <td>ram</td>\n",
       "      <td>2500 crew cab big horn</td>\n",
       "      <td>diesel</td>\n",
       "      <td>27442</td>\n",
       "      <td>...</td>\n",
       "      <td>2021-04-17T12:30:50-0400</td>\n",
       "      <td>high</td>\n",
       "      <td>2021-04-17 16:30:50+00:00</td>\n",
       "      <td>44163.618048</td>\n",
       "      <td>0.499036</td>\n",
       "      <td>chattanooga</td>\n",
       "      <td>chattanooga</td>\n",
       "      <td>ram: 2500 crew cab big horn</td>\n",
       "      <td>4482</td>\n",
       "      <td>0</td>\n",
       "    </tr>\n",
       "    <tr>\n",
       "      <th>1</th>\n",
       "      <td>7316380095</td>\n",
       "      <td>https://newjersey.craigslist.org/ctd/d/carlsta...</td>\n",
       "      <td>north jersey</td>\n",
       "      <td>https://newjersey.craigslist.org</td>\n",
       "      <td>16942</td>\n",
       "      <td>2016</td>\n",
       "      <td>ford</td>\n",
       "      <td>explorer 4wd 4dr xlt</td>\n",
       "      <td>other</td>\n",
       "      <td>60023</td>\n",
       "      <td>...</td>\n",
       "      <td>2021-05-03T15:40:21-0400</td>\n",
       "      <td>medium</td>\n",
       "      <td>2021-05-03 19:40:21+00:00</td>\n",
       "      <td>96597.654912</td>\n",
       "      <td>3.542852</td>\n",
       "      <td>newjersey</td>\n",
       "      <td>northjersey</td>\n",
       "      <td>ford: explorer 4wd 4dr xlt</td>\n",
       "      <td>968</td>\n",
       "      <td>0</td>\n",
       "    </tr>\n",
       "    <tr>\n",
       "      <th>2</th>\n",
       "      <td>7313733749</td>\n",
       "      <td>https://reno.craigslist.org/ctd/d/atlanta-2017...</td>\n",
       "      <td>reno / tahoe</td>\n",
       "      <td>https://reno.craigslist.org</td>\n",
       "      <td>35590</td>\n",
       "      <td>2017</td>\n",
       "      <td>volkswagen</td>\n",
       "      <td>golf r hatchback</td>\n",
       "      <td>gas</td>\n",
       "      <td>14048</td>\n",
       "      <td>...</td>\n",
       "      <td>2021-04-28T03:52:20-0700</td>\n",
       "      <td>high</td>\n",
       "      <td>2021-04-28 10:52:20+00:00</td>\n",
       "      <td>22608.064512</td>\n",
       "      <td>0.394718</td>\n",
       "      <td>reno</td>\n",
       "      <td>reno</td>\n",
       "      <td>volkswagen: golf r hatchback</td>\n",
       "      <td>4286</td>\n",
       "      <td>0</td>\n",
       "    </tr>\n",
       "    <tr>\n",
       "      <th>3</th>\n",
       "      <td>7308210929</td>\n",
       "      <td>https://fayetteville.craigslist.org/ctd/d/rale...</td>\n",
       "      <td>fayetteville</td>\n",
       "      <td>https://fayetteville.craigslist.org</td>\n",
       "      <td>14500</td>\n",
       "      <td>2013</td>\n",
       "      <td>toyota</td>\n",
       "      <td>rav4</td>\n",
       "      <td>gas</td>\n",
       "      <td>117291</td>\n",
       "      <td>...</td>\n",
       "      <td>2021-04-17T10:08:57-0400</td>\n",
       "      <td>medium</td>\n",
       "      <td>2021-04-17 14:08:57+00:00</td>\n",
       "      <td>188761.567104</td>\n",
       "      <td>8.089034</td>\n",
       "      <td>fayetteville</td>\n",
       "      <td>fayetteville</td>\n",
       "      <td>toyota: rav4</td>\n",
       "      <td>3241</td>\n",
       "      <td>0</td>\n",
       "    </tr>\n",
       "    <tr>\n",
       "      <th>4</th>\n",
       "      <td>7303797340</td>\n",
       "      <td>https://knoxville.craigslist.org/ctd/d/knoxvil...</td>\n",
       "      <td>knoxville</td>\n",
       "      <td>https://knoxville.craigslist.org</td>\n",
       "      <td>14590</td>\n",
       "      <td>2012</td>\n",
       "      <td>bmw</td>\n",
       "      <td>1 series 128i coupe 2d</td>\n",
       "      <td>other</td>\n",
       "      <td>80465</td>\n",
       "      <td>...</td>\n",
       "      <td>2021-04-08T15:10:56-0400</td>\n",
       "      <td>medium</td>\n",
       "      <td>2021-04-08 19:10:56+00:00</td>\n",
       "      <td>129495.864960</td>\n",
       "      <td>5.515079</td>\n",
       "      <td>knoxville</td>\n",
       "      <td>knoxville</td>\n",
       "      <td>bmw: 1 series 128i coupe 2d</td>\n",
       "      <td>4851</td>\n",
       "      <td>0</td>\n",
       "    </tr>\n",
       "  </tbody>\n",
       "</table>\n",
       "<p>5 rows × 27 columns</p>\n",
       "</div>"
      ],
      "text/plain": [
       "           id                                                url  \\\n",
       "0  7308295377  https://chattanooga.craigslist.org/ctd/d/chatt...   \n",
       "1  7316380095  https://newjersey.craigslist.org/ctd/d/carlsta...   \n",
       "2  7313733749  https://reno.craigslist.org/ctd/d/atlanta-2017...   \n",
       "3  7308210929  https://fayetteville.craigslist.org/ctd/d/rale...   \n",
       "4  7303797340  https://knoxville.craigslist.org/ctd/d/knoxvil...   \n",
       "\n",
       "         region                           region_url  price  year  \\\n",
       "0   chattanooga   https://chattanooga.craigslist.org  54990  2020   \n",
       "1  north jersey     https://newjersey.craigslist.org  16942  2016   \n",
       "2  reno / tahoe          https://reno.craigslist.org  35590  2017   \n",
       "3  fayetteville  https://fayetteville.craigslist.org  14500  2013   \n",
       "4     knoxville     https://knoxville.craigslist.org  14590  2012   \n",
       "\n",
       "  manufacturer                   model    fuel  odometer  ...  \\\n",
       "0          ram  2500 crew cab big horn  diesel     27442  ...   \n",
       "1         ford    explorer 4wd 4dr xlt   other     60023  ...   \n",
       "2   volkswagen        golf r hatchback     gas     14048  ...   \n",
       "3       toyota                    rav4     gas    117291  ...   \n",
       "4          bmw  1 series 128i coupe 2d   other     80465  ...   \n",
       "\n",
       "               posting_date price_category                       date  \\\n",
       "0  2021-04-17T12:30:50-0400           high  2021-04-17 16:30:50+00:00   \n",
       "1  2021-05-03T15:40:21-0400         medium  2021-05-03 19:40:21+00:00   \n",
       "2  2021-04-28T03:52:20-0700           high  2021-04-28 10:52:20+00:00   \n",
       "3  2021-04-17T10:08:57-0400         medium  2021-04-17 14:08:57+00:00   \n",
       "4  2021-04-08T15:10:56-0400         medium  2021-04-08 19:10:56+00:00   \n",
       "\n",
       "     odometer_km odometer/price    region_new  region_corrected  \\\n",
       "0   44163.618048       0.499036   chattanooga       chattanooga   \n",
       "1   96597.654912       3.542852     newjersey       northjersey   \n",
       "2   22608.064512       0.394718          reno              reno   \n",
       "3  188761.567104       8.089034  fayetteville      fayetteville   \n",
       "4  129495.864960       5.515079     knoxville         knoxville   \n",
       "\n",
       "             manufacturer_model desc_len model_in_desc  \n",
       "0   ram: 2500 crew cab big horn     4482             0  \n",
       "1    ford: explorer 4wd 4dr xlt      968             0  \n",
       "2  volkswagen: golf r hatchback     4286             0  \n",
       "3                  toyota: rav4     3241             0  \n",
       "4   bmw: 1 series 128i coupe 2d     4851             0  \n",
       "\n",
       "[5 rows x 27 columns]"
      ]
     },
     "execution_count": 22,
     "metadata": {},
     "output_type": "execute_result"
    }
   ],
   "source": [
    "# 1\n",
    "\n",
    "df = pd.read_csv('data/vehicles_dataset_upd4.csv')\n",
    "df.head()"
   ]
  },
  {
   "cell_type": "code",
   "execution_count": 23,
   "id": "80830d86",
   "metadata": {
    "ExecuteTime": {
     "end_time": "2022-03-15T22:35:53.756332Z",
     "start_time": "2022-03-15T22:35:53.744194Z"
    },
    "id": "80830d86",
    "outputId": "f7e4722c-1fe9-486c-f0d3-62d12c750227"
   },
   "outputs": [
    {
     "data": {
      "text/plain": [
       "Index(['id', 'url', 'region', 'region_url', 'price', 'year', 'manufacturer',\n",
       "       'model', 'fuel', 'odometer', 'title_status', 'transmission',\n",
       "       'image_url', 'description', 'state', 'lat', 'long', 'posting_date',\n",
       "       'price_category', 'date', 'odometer_km', 'odometer/price', 'region_new',\n",
       "       'region_corrected', 'manufacturer_model', 'desc_len', 'model_in_desc'],\n",
       "      dtype='object')"
      ]
     },
     "execution_count": 23,
     "metadata": {},
     "output_type": "execute_result"
    }
   ],
   "source": [
    "# 1\n",
    "\n",
    "df.columns"
   ]
  },
  {
   "cell_type": "code",
   "execution_count": 24,
   "id": "5a70c4cb",
   "metadata": {
    "ExecuteTime": {
     "end_time": "2022-03-15T22:35:54.435770Z",
     "start_time": "2022-03-15T22:35:54.414268Z"
    },
    "id": "5a70c4cb",
    "outputId": "26318e52-b99e-432d-e374-e1f92cd0dd84"
   },
   "outputs": [
    {
     "data": {
      "text/plain": [
       "0       55.0\n",
       "1       17.0\n",
       "2       36.0\n",
       "3       14.0\n",
       "4       15.0\n",
       "        ... \n",
       "9614     4.0\n",
       "9615    14.0\n",
       "9616     9.0\n",
       "9617    32.0\n",
       "9618    32.0\n",
       "Name: price_k$, Length: 9619, dtype: float64"
      ]
     },
     "execution_count": 24,
     "metadata": {},
     "output_type": "execute_result"
    }
   ],
   "source": [
    "# 2 v1\n",
    "\n",
    "df['price_k$'] = round(df.price / 1000)\n",
    "df['price_k$']"
   ]
  },
  {
   "cell_type": "code",
   "execution_count": 5,
   "id": "e7d1c5ec",
   "metadata": {
    "ExecuteTime": {
     "end_time": "2022-03-15T22:35:55.203925Z",
     "start_time": "2022-03-15T22:35:54.944723Z"
    },
    "id": "e7d1c5ec",
    "outputId": "0427fb34-de73-4d1b-d7d7-e926664941b1"
   },
   "outputs": [
    {
     "data": {
      "text/plain": [
       "0       55\n",
       "1       17\n",
       "2       36\n",
       "3       14\n",
       "4       15\n",
       "        ..\n",
       "9614     4\n",
       "9615    14\n",
       "9616     9\n",
       "9617    32\n",
       "9618    32\n",
       "Name: price_k$, Length: 9619, dtype: int64"
      ]
     },
     "execution_count": 5,
     "metadata": {},
     "output_type": "execute_result"
    }
   ],
   "source": [
    "# 2 v2\n",
    "\n",
    "df['price_k$'] = df.apply(lambda x: round(x.price / 1000) , axis=1)\n",
    "df['price_k$']"
   ]
  },
  {
   "cell_type": "code",
   "execution_count": 26,
   "id": "3713cc36",
   "metadata": {
    "ExecuteTime": {
     "end_time": "2022-03-15T22:35:55.611869Z",
     "start_time": "2022-03-15T22:35:55.534917Z"
    },
    "id": "3713cc36",
    "outputId": "082cc995-7def-4b9d-c534-b32c37fdca29"
   },
   "outputs": [
    {
     "data": {
      "text/plain": [
       "0.9997987024374049"
      ]
     },
     "execution_count": 26,
     "metadata": {},
     "output_type": "execute_result"
    }
   ],
   "source": [
    "# 3\n",
    "\n",
    "df['price'].corr(df['price_k$'])"
   ]
  },
  {
   "cell_type": "markdown",
   "id": "ca642feb",
   "metadata": {
    "id": "ca642feb"
   },
   "source": [
    "### Задача 2."
   ]
  },
  {
   "cell_type": "code",
   "execution_count": 27,
   "id": "a14d89b5",
   "metadata": {
    "ExecuteTime": {
     "end_time": "2022-03-15T22:35:56.660840Z",
     "start_time": "2022-03-15T22:35:56.646031Z"
    },
    "id": "a14d89b5",
    "outputId": "c80ae391-0b4f-4bd7-95c7-2296a649f242"
   },
   "outputs": [
    {
     "data": {
      "text/plain": [
       "count    9619.000000\n",
       "mean     2011.555879\n",
       "std         6.385814\n",
       "min      1995.000000\n",
       "25%      2008.000000\n",
       "50%      2013.000000\n",
       "75%      2017.000000\n",
       "max      2020.000000\n",
       "Name: year, dtype: float64"
      ]
     },
     "execution_count": 27,
     "metadata": {},
     "output_type": "execute_result"
    }
   ],
   "source": [
    "# 1\n",
    "\n",
    "df['year'].describe()"
   ]
  },
  {
   "cell_type": "code",
   "execution_count": 28,
   "id": "0b9da451",
   "metadata": {
    "ExecuteTime": {
     "end_time": "2022-03-15T22:35:57.444073Z",
     "start_time": "2022-03-15T22:35:56.995806Z"
    },
    "id": "0b9da451",
    "outputId": "c2008841-7589-45c5-e8a3-20f4d14cad8f"
   },
   "outputs": [
    {
     "data": {
      "text/plain": [
       "0           new\n",
       "1           new\n",
       "2           new\n",
       "3       average\n",
       "4       average\n",
       "         ...   \n",
       "9614        old\n",
       "9615    average\n",
       "9616    average\n",
       "9617        new\n",
       "9618        new\n",
       "Name: age_category, Length: 9619, dtype: object"
      ]
     },
     "execution_count": 28,
     "metadata": {},
     "output_type": "execute_result"
    }
   ],
   "source": [
    "# 2\n",
    "\n",
    "df['age_category'] =  df.apply(lambda x: \"new\" if x.year > 2013 else (\"old\" if x.year < 2006 else \"average\"), axis=1)\n",
    "df['age_category']"
   ]
  },
  {
   "cell_type": "code",
   "execution_count": 29,
   "id": "3788abe8",
   "metadata": {
    "ExecuteTime": {
     "end_time": "2022-03-15T22:35:57.492009Z",
     "start_time": "2022-03-15T22:35:57.452701Z"
    },
    "id": "3788abe8",
    "outputId": "1a8c8182-e05c-43b1-9944-d0be45fd6b73"
   },
   "outputs": [
    {
     "data": {
      "text/html": [
       "<div>\n",
       "<style scoped>\n",
       "    .dataframe tbody tr th:only-of-type {\n",
       "        vertical-align: middle;\n",
       "    }\n",
       "\n",
       "    .dataframe tbody tr th {\n",
       "        vertical-align: top;\n",
       "    }\n",
       "\n",
       "    .dataframe thead th {\n",
       "        text-align: right;\n",
       "    }\n",
       "</style>\n",
       "<table border=\"1\" class=\"dataframe\">\n",
       "  <thead>\n",
       "    <tr style=\"text-align: right;\">\n",
       "      <th></th>\n",
       "      <th>year</th>\n",
       "      <th>age_category</th>\n",
       "    </tr>\n",
       "  </thead>\n",
       "  <tbody>\n",
       "    <tr>\n",
       "      <th>0</th>\n",
       "      <td>2020</td>\n",
       "      <td>new</td>\n",
       "    </tr>\n",
       "    <tr>\n",
       "      <th>1</th>\n",
       "      <td>2016</td>\n",
       "      <td>new</td>\n",
       "    </tr>\n",
       "    <tr>\n",
       "      <th>2</th>\n",
       "      <td>2017</td>\n",
       "      <td>new</td>\n",
       "    </tr>\n",
       "    <tr>\n",
       "      <th>3</th>\n",
       "      <td>2013</td>\n",
       "      <td>average</td>\n",
       "    </tr>\n",
       "    <tr>\n",
       "      <th>4</th>\n",
       "      <td>2012</td>\n",
       "      <td>average</td>\n",
       "    </tr>\n",
       "    <tr>\n",
       "      <th>...</th>\n",
       "      <td>...</td>\n",
       "      <td>...</td>\n",
       "    </tr>\n",
       "    <tr>\n",
       "      <th>9614</th>\n",
       "      <td>2002</td>\n",
       "      <td>old</td>\n",
       "    </tr>\n",
       "    <tr>\n",
       "      <th>9615</th>\n",
       "      <td>2008</td>\n",
       "      <td>average</td>\n",
       "    </tr>\n",
       "    <tr>\n",
       "      <th>9616</th>\n",
       "      <td>2011</td>\n",
       "      <td>average</td>\n",
       "    </tr>\n",
       "    <tr>\n",
       "      <th>9617</th>\n",
       "      <td>2015</td>\n",
       "      <td>new</td>\n",
       "    </tr>\n",
       "    <tr>\n",
       "      <th>9618</th>\n",
       "      <td>2017</td>\n",
       "      <td>new</td>\n",
       "    </tr>\n",
       "  </tbody>\n",
       "</table>\n",
       "<p>9619 rows × 2 columns</p>\n",
       "</div>"
      ],
      "text/plain": [
       "      year age_category\n",
       "0     2020          new\n",
       "1     2016          new\n",
       "2     2017          new\n",
       "3     2013      average\n",
       "4     2012      average\n",
       "...    ...          ...\n",
       "9614  2002          old\n",
       "9615  2008      average\n",
       "9616  2011      average\n",
       "9617  2015          new\n",
       "9618  2017          new\n",
       "\n",
       "[9619 rows x 2 columns]"
      ]
     },
     "execution_count": 29,
     "metadata": {},
     "output_type": "execute_result"
    }
   ],
   "source": [
    "# 3\n",
    "\n",
    "df[['year', 'age_category']]"
   ]
  },
  {
   "cell_type": "code",
   "execution_count": 30,
   "id": "fc2fef2e",
   "metadata": {
    "ExecuteTime": {
     "end_time": "2022-03-15T22:35:58.227812Z",
     "start_time": "2022-03-15T22:35:57.661478Z"
    },
    "id": "fc2fef2e",
    "outputId": "584e67b2-8fe9-43f9-b445-1b5dfb1d40c9"
   },
   "outputs": [
    {
     "data": {
      "image/png": "[encoded data removed]",
      "text/plain": [
       "<Figure size 864x576 with 1 Axes>"
      ]
     },
     "metadata": {
      "needs_background": "light"
     },
     "output_type": "display_data"
    }
   ],
   "source": [
    "# 4\n",
    "\n",
    "colors = {'average': 'orange', 'old': 'red', 'new': 'green'}\n",
    "\n",
    "fig, ax = plt.subplots(figsize=(12, 8))\n",
    "for age_category in colors:\n",
    "    color = colors[age_category]\n",
    "    data = df[df['age_category'] == age_category]\n",
    "\n",
    "    ax.hist(data['year'], color=color)\n",
    "    \n",
    "plt.ylabel('Количество')\n",
    "plt.xlabel('Год выпуска автомобиля')\n",
    "plt.title('Возрастная категория автомобиля в зависимости от года выпуска автомобиля')\n",
    "plt.legend(colors, title=\"Возрастная категория\");"
   ]
  },
  {
   "cell_type": "markdown",
   "id": "44df195e",
   "metadata": {
    "id": "44df195e"
   },
   "source": [
    "### Задача 3."
   ]
  },
  {
   "cell_type": "code",
   "execution_count": 31,
   "id": "2255381f",
   "metadata": {
    "ExecuteTime": {
     "end_time": "2022-03-15T22:35:58.603031Z",
     "start_time": "2022-03-15T22:35:58.364467Z"
    },
    "id": "2255381f",
    "outputId": "64016095-dae6-4625-9224-f47c0fb82c8f"
   },
   "outputs": [
    {
     "data": {
      "text/plain": [
       "0       22\n",
       "1       20\n",
       "2       16\n",
       "3        4\n",
       "4       22\n",
       "        ..\n",
       "9614     4\n",
       "9615     8\n",
       "9616    25\n",
       "9617     7\n",
       "9618    22\n",
       "Name: model_len, Length: 9619, dtype: int64"
      ]
     },
     "execution_count": 31,
     "metadata": {},
     "output_type": "execute_result"
    }
   ],
   "source": [
    "# 1\n",
    "\n",
    "df['model_len'] = df.apply(lambda x: len(x.model) , axis=1)\n",
    "df['model_len']"
   ]
  },
  {
   "cell_type": "code",
   "execution_count": 32,
   "id": "ff2cb897",
   "metadata": {
    "ExecuteTime": {
     "end_time": "2022-03-15T22:35:58.769756Z",
     "start_time": "2022-03-15T22:35:58.759260Z"
    },
    "id": "ff2cb897",
    "outputId": "7d4df98f-31db-4121-cef4-8cd39e783098"
   },
   "outputs": [
    {
     "data": {
      "text/plain": [
       "6     1004\n",
       "5      900\n",
       "7      724\n",
       "8      681\n",
       "4      647\n",
       "      ... \n",
       "35       1\n",
       "91       1\n",
       "52       1\n",
       "76       1\n",
       "87       1\n",
       "Name: model_len, Length: 65, dtype: int64"
      ]
     },
     "execution_count": 32,
     "metadata": {},
     "output_type": "execute_result"
    }
   ],
   "source": [
    "# 2\n",
    "\n",
    "df['model_len'].value_counts()"
   ]
  },
  {
   "cell_type": "code",
   "execution_count": 33,
   "id": "1b295c2a",
   "metadata": {
    "ExecuteTime": {
     "end_time": "2022-03-15T22:35:59.401125Z",
     "start_time": "2022-03-15T22:35:59.139405Z"
    },
    "id": "1b295c2a",
    "outputId": "20febc5e-c8b0-42e3-b11f-dbab4e56a438"
   },
   "outputs": [
    {
     "data": {
      "text/plain": [
       "0       5\n",
       "1       4\n",
       "2       3\n",
       "3       1\n",
       "4       5\n",
       "       ..\n",
       "9614    1\n",
       "9615    1\n",
       "9616    5\n",
       "9617    1\n",
       "9618    5\n",
       "Name: model_word_count, Length: 9619, dtype: int64"
      ]
     },
     "execution_count": 33,
     "metadata": {},
     "output_type": "execute_result"
    }
   ],
   "source": [
    "# 3\n",
    "\n",
    "df['model_word_count'] = df.apply(lambda x: len(x.model.split(' ')), axis=1)\n",
    "df['model_word_count']"
   ]
  },
  {
   "cell_type": "code",
   "execution_count": 34,
   "id": "6116053d",
   "metadata": {
    "ExecuteTime": {
     "end_time": "2022-03-15T22:35:59.674792Z",
     "start_time": "2022-03-15T22:35:59.659357Z"
    },
    "id": "6116053d",
    "outputId": "76b7e6ca-6104-413a-8cc9-dc157ca5fad7"
   },
   "outputs": [
    {
     "data": {
      "text/plain": [
       "1     4289\n",
       "2     2184\n",
       "3     1355\n",
       "4     1182\n",
       "5      498\n",
       "6       68\n",
       "10       8\n",
       "8        7\n",
       "11       5\n",
       "9        5\n",
       "7        4\n",
       "13       3\n",
       "15       3\n",
       "27       1\n",
       "24       1\n",
       "12       1\n",
       "17       1\n",
       "21       1\n",
       "29       1\n",
       "14       1\n",
       "22       1\n",
       "Name: model_word_count, dtype: int64"
      ]
     },
     "execution_count": 34,
     "metadata": {},
     "output_type": "execute_result"
    }
   ],
   "source": [
    "# 4\n",
    "\n",
    "df['model_word_count'].value_counts()"
   ]
  },
  {
   "cell_type": "markdown",
   "id": "ac3ac4a1",
   "metadata": {
    "ExecuteTime": {
     "end_time": "2022-03-12T21:14:45.502208Z",
     "start_time": "2022-03-12T21:14:45.498412Z"
    },
    "id": "ac3ac4a1"
   },
   "source": [
    "### Задача 4."
   ]
  },
  {
   "cell_type": "code",
   "execution_count": 35,
   "id": "4b488f3f",
   "metadata": {
    "ExecuteTime": {
     "end_time": "2022-03-15T22:36:02.373081Z",
     "start_time": "2022-03-15T22:36:00.725142Z"
    },
    "id": "4b488f3f"
   },
   "outputs": [],
   "source": [
    "# 1\n",
    "\n",
    "manufacturer_names = ['audi', 'ford', 'chevrolet', 'toyota', 'jeep', 'honda', 'nissan']\n",
    "\n",
    "for manufacturer in manufacturer_names:\n",
    "    col_name = 'is_' + manufacturer\n",
    "\n",
    "    df[col_name] = df.apply(lambda x: 1 if x.manufacturer == manufacturer else 0, axis=1)"
   ]
  },
  {
   "cell_type": "code",
   "execution_count": 36,
   "id": "45a660cc",
   "metadata": {
    "ExecuteTime": {
     "end_time": "2022-03-15T22:36:02.409881Z",
     "start_time": "2022-03-15T22:36:02.376863Z"
    },
    "id": "45a660cc",
    "outputId": "3ec118d0-8e79-4caf-d906-03f3ef16764a"
   },
   "outputs": [
    {
     "data": {
      "text/html": [
       "<div>\n",
       "<style scoped>\n",
       "    .dataframe tbody tr th:only-of-type {\n",
       "        vertical-align: middle;\n",
       "    }\n",
       "\n",
       "    .dataframe tbody tr th {\n",
       "        vertical-align: top;\n",
       "    }\n",
       "\n",
       "    .dataframe thead th {\n",
       "        text-align: right;\n",
       "    }\n",
       "</style>\n",
       "<table border=\"1\" class=\"dataframe\">\n",
       "  <thead>\n",
       "    <tr style=\"text-align: right;\">\n",
       "      <th></th>\n",
       "      <th>is_audi</th>\n",
       "      <th>is_ford</th>\n",
       "      <th>is_chevrolet</th>\n",
       "      <th>is_toyota</th>\n",
       "      <th>is_jeep</th>\n",
       "      <th>is_honda</th>\n",
       "      <th>is_nissan</th>\n",
       "    </tr>\n",
       "  </thead>\n",
       "  <tbody>\n",
       "    <tr>\n",
       "      <th>0</th>\n",
       "      <td>0</td>\n",
       "      <td>0</td>\n",
       "      <td>0</td>\n",
       "      <td>0</td>\n",
       "      <td>0</td>\n",
       "      <td>0</td>\n",
       "      <td>0</td>\n",
       "    </tr>\n",
       "    <tr>\n",
       "      <th>1</th>\n",
       "      <td>0</td>\n",
       "      <td>1</td>\n",
       "      <td>0</td>\n",
       "      <td>0</td>\n",
       "      <td>0</td>\n",
       "      <td>0</td>\n",
       "      <td>0</td>\n",
       "    </tr>\n",
       "    <tr>\n",
       "      <th>2</th>\n",
       "      <td>0</td>\n",
       "      <td>0</td>\n",
       "      <td>0</td>\n",
       "      <td>0</td>\n",
       "      <td>0</td>\n",
       "      <td>0</td>\n",
       "      <td>0</td>\n",
       "    </tr>\n",
       "    <tr>\n",
       "      <th>3</th>\n",
       "      <td>0</td>\n",
       "      <td>0</td>\n",
       "      <td>0</td>\n",
       "      <td>1</td>\n",
       "      <td>0</td>\n",
       "      <td>0</td>\n",
       "      <td>0</td>\n",
       "    </tr>\n",
       "    <tr>\n",
       "      <th>4</th>\n",
       "      <td>0</td>\n",
       "      <td>0</td>\n",
       "      <td>0</td>\n",
       "      <td>0</td>\n",
       "      <td>0</td>\n",
       "      <td>0</td>\n",
       "      <td>0</td>\n",
       "    </tr>\n",
       "    <tr>\n",
       "      <th>...</th>\n",
       "      <td>...</td>\n",
       "      <td>...</td>\n",
       "      <td>...</td>\n",
       "      <td>...</td>\n",
       "      <td>...</td>\n",
       "      <td>...</td>\n",
       "      <td>...</td>\n",
       "    </tr>\n",
       "    <tr>\n",
       "      <th>9614</th>\n",
       "      <td>0</td>\n",
       "      <td>0</td>\n",
       "      <td>0</td>\n",
       "      <td>1</td>\n",
       "      <td>0</td>\n",
       "      <td>0</td>\n",
       "      <td>0</td>\n",
       "    </tr>\n",
       "    <tr>\n",
       "      <th>9615</th>\n",
       "      <td>0</td>\n",
       "      <td>0</td>\n",
       "      <td>0</td>\n",
       "      <td>0</td>\n",
       "      <td>1</td>\n",
       "      <td>0</td>\n",
       "      <td>0</td>\n",
       "    </tr>\n",
       "    <tr>\n",
       "      <th>9616</th>\n",
       "      <td>1</td>\n",
       "      <td>0</td>\n",
       "      <td>0</td>\n",
       "      <td>0</td>\n",
       "      <td>0</td>\n",
       "      <td>0</td>\n",
       "      <td>0</td>\n",
       "    </tr>\n",
       "    <tr>\n",
       "      <th>9617</th>\n",
       "      <td>0</td>\n",
       "      <td>0</td>\n",
       "      <td>0</td>\n",
       "      <td>0</td>\n",
       "      <td>0</td>\n",
       "      <td>0</td>\n",
       "      <td>0</td>\n",
       "    </tr>\n",
       "    <tr>\n",
       "      <th>9618</th>\n",
       "      <td>0</td>\n",
       "      <td>0</td>\n",
       "      <td>0</td>\n",
       "      <td>0</td>\n",
       "      <td>0</td>\n",
       "      <td>0</td>\n",
       "      <td>0</td>\n",
       "    </tr>\n",
       "  </tbody>\n",
       "</table>\n",
       "<p>9619 rows × 7 columns</p>\n",
       "</div>"
      ],
      "text/plain": [
       "      is_audi  is_ford  is_chevrolet  is_toyota  is_jeep  is_honda  is_nissan\n",
       "0           0        0             0          0        0         0          0\n",
       "1           0        1             0          0        0         0          0\n",
       "2           0        0             0          0        0         0          0\n",
       "3           0        0             0          1        0         0          0\n",
       "4           0        0             0          0        0         0          0\n",
       "...       ...      ...           ...        ...      ...       ...        ...\n",
       "9614        0        0             0          1        0         0          0\n",
       "9615        0        0             0          0        1         0          0\n",
       "9616        1        0             0          0        0         0          0\n",
       "9617        0        0             0          0        0         0          0\n",
       "9618        0        0             0          0        0         0          0\n",
       "\n",
       "[9619 rows x 7 columns]"
      ]
     },
     "execution_count": 36,
     "metadata": {},
     "output_type": "execute_result"
    }
   ],
   "source": [
    "# 2\n",
    "\n",
    "df.iloc[:, -7:]"
   ]
  },
  {
   "cell_type": "code",
   "execution_count": 37,
   "id": "187a3944",
   "metadata": {
    "ExecuteTime": {
     "end_time": "2022-03-15T22:36:02.497329Z",
     "start_time": "2022-03-15T22:36:02.418523Z"
    },
    "id": "187a3944",
    "outputId": "0176710f-59e8-4174-9f4c-7ac8c65c7bc3"
   },
   "outputs": [
    {
     "data": {
      "text/html": [
       "<div>\n",
       "<style scoped>\n",
       "    .dataframe tbody tr th:only-of-type {\n",
       "        vertical-align: middle;\n",
       "    }\n",
       "\n",
       "    .dataframe tbody tr th {\n",
       "        vertical-align: top;\n",
       "    }\n",
       "\n",
       "    .dataframe thead th {\n",
       "        text-align: right;\n",
       "    }\n",
       "</style>\n",
       "<table border=\"1\" class=\"dataframe\">\n",
       "  <thead>\n",
       "    <tr style=\"text-align: right;\">\n",
       "      <th></th>\n",
       "      <th>id</th>\n",
       "      <th>url</th>\n",
       "      <th>region</th>\n",
       "      <th>region_url</th>\n",
       "      <th>price</th>\n",
       "      <th>year</th>\n",
       "      <th>manufacturer</th>\n",
       "      <th>model</th>\n",
       "      <th>fuel</th>\n",
       "      <th>odometer</th>\n",
       "      <th>...</th>\n",
       "      <th>age_category</th>\n",
       "      <th>model_len</th>\n",
       "      <th>model_word_count</th>\n",
       "      <th>is_audi</th>\n",
       "      <th>is_ford</th>\n",
       "      <th>is_chevrolet</th>\n",
       "      <th>is_toyota</th>\n",
       "      <th>is_jeep</th>\n",
       "      <th>is_honda</th>\n",
       "      <th>is_nissan</th>\n",
       "    </tr>\n",
       "  </thead>\n",
       "  <tbody>\n",
       "    <tr>\n",
       "      <th>58</th>\n",
       "      <td>7308399412</td>\n",
       "      <td>https://slo.craigslist.org/ctd/d/grover-beach-...</td>\n",
       "      <td>san luis obispo</td>\n",
       "      <td>https://slo.craigslist.org</td>\n",
       "      <td>9995</td>\n",
       "      <td>2010</td>\n",
       "      <td>audi</td>\n",
       "      <td>q5</td>\n",
       "      <td>gas</td>\n",
       "      <td>165714</td>\n",
       "      <td>...</td>\n",
       "      <td>average</td>\n",
       "      <td>2</td>\n",
       "      <td>1</td>\n",
       "      <td>1</td>\n",
       "      <td>0</td>\n",
       "      <td>0</td>\n",
       "      <td>0</td>\n",
       "      <td>0</td>\n",
       "      <td>0</td>\n",
       "      <td>0</td>\n",
       "    </tr>\n",
       "    <tr>\n",
       "      <th>104</th>\n",
       "      <td>7311352618</td>\n",
       "      <td>https://baltimore.craigslist.org/ctd/d/cockeys...</td>\n",
       "      <td>baltimore</td>\n",
       "      <td>https://baltimore.craigslist.org</td>\n",
       "      <td>33499</td>\n",
       "      <td>2018</td>\n",
       "      <td>audi</td>\n",
       "      <td>q7</td>\n",
       "      <td>gas</td>\n",
       "      <td>46529</td>\n",
       "      <td>...</td>\n",
       "      <td>new</td>\n",
       "      <td>2</td>\n",
       "      <td>1</td>\n",
       "      <td>1</td>\n",
       "      <td>0</td>\n",
       "      <td>0</td>\n",
       "      <td>0</td>\n",
       "      <td>0</td>\n",
       "      <td>0</td>\n",
       "      <td>0</td>\n",
       "    </tr>\n",
       "    <tr>\n",
       "      <th>125</th>\n",
       "      <td>7306308183</td>\n",
       "      <td>https://montgomery.craigslist.org/ctd/d/montgo...</td>\n",
       "      <td>montgomery</td>\n",
       "      <td>https://montgomery.craigslist.org</td>\n",
       "      <td>29590</td>\n",
       "      <td>2018</td>\n",
       "      <td>audi</td>\n",
       "      <td>q5 premium sport utility 4d</td>\n",
       "      <td>gas</td>\n",
       "      <td>34476</td>\n",
       "      <td>...</td>\n",
       "      <td>new</td>\n",
       "      <td>27</td>\n",
       "      <td>5</td>\n",
       "      <td>1</td>\n",
       "      <td>0</td>\n",
       "      <td>0</td>\n",
       "      <td>0</td>\n",
       "      <td>0</td>\n",
       "      <td>0</td>\n",
       "      <td>0</td>\n",
       "    </tr>\n",
       "    <tr>\n",
       "      <th>195</th>\n",
       "      <td>7315205542</td>\n",
       "      <td>https://denver.craigslist.org/ctd/d/littleton-...</td>\n",
       "      <td>denver</td>\n",
       "      <td>https://denver.craigslist.org</td>\n",
       "      <td>15598</td>\n",
       "      <td>2013</td>\n",
       "      <td>audi</td>\n",
       "      <td>a6</td>\n",
       "      <td>gas</td>\n",
       "      <td>81640</td>\n",
       "      <td>...</td>\n",
       "      <td>average</td>\n",
       "      <td>2</td>\n",
       "      <td>1</td>\n",
       "      <td>1</td>\n",
       "      <td>0</td>\n",
       "      <td>0</td>\n",
       "      <td>0</td>\n",
       "      <td>0</td>\n",
       "      <td>0</td>\n",
       "      <td>0</td>\n",
       "    </tr>\n",
       "    <tr>\n",
       "      <th>251</th>\n",
       "      <td>7302069239</td>\n",
       "      <td>https://indianapolis.craigslist.org/ctd/d/indi...</td>\n",
       "      <td>indianapolis</td>\n",
       "      <td>https://indianapolis.craigslist.org</td>\n",
       "      <td>38990</td>\n",
       "      <td>2018</td>\n",
       "      <td>audi</td>\n",
       "      <td>s5 premium plus sedan 4d</td>\n",
       "      <td>gas</td>\n",
       "      <td>40118</td>\n",
       "      <td>...</td>\n",
       "      <td>new</td>\n",
       "      <td>24</td>\n",
       "      <td>5</td>\n",
       "      <td>1</td>\n",
       "      <td>0</td>\n",
       "      <td>0</td>\n",
       "      <td>0</td>\n",
       "      <td>0</td>\n",
       "      <td>0</td>\n",
       "      <td>0</td>\n",
       "    </tr>\n",
       "    <tr>\n",
       "      <th>...</th>\n",
       "      <td>...</td>\n",
       "      <td>...</td>\n",
       "      <td>...</td>\n",
       "      <td>...</td>\n",
       "      <td>...</td>\n",
       "      <td>...</td>\n",
       "      <td>...</td>\n",
       "      <td>...</td>\n",
       "      <td>...</td>\n",
       "      <td>...</td>\n",
       "      <td>...</td>\n",
       "      <td>...</td>\n",
       "      <td>...</td>\n",
       "      <td>...</td>\n",
       "      <td>...</td>\n",
       "      <td>...</td>\n",
       "      <td>...</td>\n",
       "      <td>...</td>\n",
       "      <td>...</td>\n",
       "      <td>...</td>\n",
       "      <td>...</td>\n",
       "    </tr>\n",
       "    <tr>\n",
       "      <th>9508</th>\n",
       "      <td>7313590324</td>\n",
       "      <td>https://reno.craigslist.org/cto/d/incline-vill...</td>\n",
       "      <td>reno / tahoe</td>\n",
       "      <td>https://reno.craigslist.org</td>\n",
       "      <td>28000</td>\n",
       "      <td>2014</td>\n",
       "      <td>audi</td>\n",
       "      <td>s6</td>\n",
       "      <td>gas</td>\n",
       "      <td>69000</td>\n",
       "      <td>...</td>\n",
       "      <td>new</td>\n",
       "      <td>2</td>\n",
       "      <td>1</td>\n",
       "      <td>1</td>\n",
       "      <td>0</td>\n",
       "      <td>0</td>\n",
       "      <td>0</td>\n",
       "      <td>0</td>\n",
       "      <td>0</td>\n",
       "      <td>0</td>\n",
       "    </tr>\n",
       "    <tr>\n",
       "      <th>9551</th>\n",
       "      <td>7316331812</td>\n",
       "      <td>https://indianapolis.craigslist.org/ctd/d/indi...</td>\n",
       "      <td>indianapolis</td>\n",
       "      <td>https://indianapolis.craigslist.org</td>\n",
       "      <td>10995</td>\n",
       "      <td>2011</td>\n",
       "      <td>audi</td>\n",
       "      <td>q7 premium plus</td>\n",
       "      <td>gas</td>\n",
       "      <td>140014</td>\n",
       "      <td>...</td>\n",
       "      <td>average</td>\n",
       "      <td>15</td>\n",
       "      <td>3</td>\n",
       "      <td>1</td>\n",
       "      <td>0</td>\n",
       "      <td>0</td>\n",
       "      <td>0</td>\n",
       "      <td>0</td>\n",
       "      <td>0</td>\n",
       "      <td>0</td>\n",
       "    </tr>\n",
       "    <tr>\n",
       "      <th>9559</th>\n",
       "      <td>7314775851</td>\n",
       "      <td>https://indianapolis.craigslist.org/cto/d/indi...</td>\n",
       "      <td>indianapolis</td>\n",
       "      <td>https://indianapolis.craigslist.org</td>\n",
       "      <td>13500</td>\n",
       "      <td>2012</td>\n",
       "      <td>audi</td>\n",
       "      <td>q5</td>\n",
       "      <td>gas</td>\n",
       "      <td>78000</td>\n",
       "      <td>...</td>\n",
       "      <td>average</td>\n",
       "      <td>2</td>\n",
       "      <td>1</td>\n",
       "      <td>1</td>\n",
       "      <td>0</td>\n",
       "      <td>0</td>\n",
       "      <td>0</td>\n",
       "      <td>0</td>\n",
       "      <td>0</td>\n",
       "      <td>0</td>\n",
       "    </tr>\n",
       "    <tr>\n",
       "      <th>9570</th>\n",
       "      <td>7316569161</td>\n",
       "      <td>https://chicago.craigslist.org/chc/cto/d/chica...</td>\n",
       "      <td>chicago</td>\n",
       "      <td>https://chicago.craigslist.org</td>\n",
       "      <td>8500</td>\n",
       "      <td>2009</td>\n",
       "      <td>audi</td>\n",
       "      <td>q7 3.6 premium quattro</td>\n",
       "      <td>gas</td>\n",
       "      <td>152000</td>\n",
       "      <td>...</td>\n",
       "      <td>average</td>\n",
       "      <td>22</td>\n",
       "      <td>4</td>\n",
       "      <td>1</td>\n",
       "      <td>0</td>\n",
       "      <td>0</td>\n",
       "      <td>0</td>\n",
       "      <td>0</td>\n",
       "      <td>0</td>\n",
       "      <td>0</td>\n",
       "    </tr>\n",
       "    <tr>\n",
       "      <th>9616</th>\n",
       "      <td>7310993818</td>\n",
       "      <td>https://salem.craigslist.org/ctd/d/salem-2011-...</td>\n",
       "      <td>salem</td>\n",
       "      <td>https://salem.craigslist.org</td>\n",
       "      <td>8995</td>\n",
       "      <td>2011</td>\n",
       "      <td>audi</td>\n",
       "      <td>a3 2.0t premium plus pzev</td>\n",
       "      <td>gas</td>\n",
       "      <td>150184</td>\n",
       "      <td>...</td>\n",
       "      <td>average</td>\n",
       "      <td>25</td>\n",
       "      <td>5</td>\n",
       "      <td>1</td>\n",
       "      <td>0</td>\n",
       "      <td>0</td>\n",
       "      <td>0</td>\n",
       "      <td>0</td>\n",
       "      <td>0</td>\n",
       "      <td>0</td>\n",
       "    </tr>\n",
       "  </tbody>\n",
       "</table>\n",
       "<p>193 rows × 38 columns</p>\n",
       "</div>"
      ],
      "text/plain": [
       "              id                                                url  \\\n",
       "58    7308399412  https://slo.craigslist.org/ctd/d/grover-beach-...   \n",
       "104   7311352618  https://baltimore.craigslist.org/ctd/d/cockeys...   \n",
       "125   7306308183  https://montgomery.craigslist.org/ctd/d/montgo...   \n",
       "195   7315205542  https://denver.craigslist.org/ctd/d/littleton-...   \n",
       "251   7302069239  https://indianapolis.craigslist.org/ctd/d/indi...   \n",
       "...          ...                                                ...   \n",
       "9508  7313590324  https://reno.craigslist.org/cto/d/incline-vill...   \n",
       "9551  7316331812  https://indianapolis.craigslist.org/ctd/d/indi...   \n",
       "9559  7314775851  https://indianapolis.craigslist.org/cto/d/indi...   \n",
       "9570  7316569161  https://chicago.craigslist.org/chc/cto/d/chica...   \n",
       "9616  7310993818  https://salem.craigslist.org/ctd/d/salem-2011-...   \n",
       "\n",
       "               region                           region_url  price  year  \\\n",
       "58    san luis obispo           https://slo.craigslist.org   9995  2010   \n",
       "104         baltimore     https://baltimore.craigslist.org  33499  2018   \n",
       "125        montgomery    https://montgomery.craigslist.org  29590  2018   \n",
       "195            denver        https://denver.craigslist.org  15598  2013   \n",
       "251      indianapolis  https://indianapolis.craigslist.org  38990  2018   \n",
       "...               ...                                  ...    ...   ...   \n",
       "9508     reno / tahoe          https://reno.craigslist.org  28000  2014   \n",
       "9551     indianapolis  https://indianapolis.craigslist.org  10995  2011   \n",
       "9559     indianapolis  https://indianapolis.craigslist.org  13500  2012   \n",
       "9570          chicago       https://chicago.craigslist.org   8500  2009   \n",
       "9616            salem         https://salem.craigslist.org   8995  2011   \n",
       "\n",
       "     manufacturer                        model fuel  odometer  ...  \\\n",
       "58           audi                           q5  gas    165714  ...   \n",
       "104          audi                           q7  gas     46529  ...   \n",
       "125          audi  q5 premium sport utility 4d  gas     34476  ...   \n",
       "195          audi                           a6  gas     81640  ...   \n",
       "251          audi     s5 premium plus sedan 4d  gas     40118  ...   \n",
       "...           ...                          ...  ...       ...  ...   \n",
       "9508         audi                           s6  gas     69000  ...   \n",
       "9551         audi              q7 premium plus  gas    140014  ...   \n",
       "9559         audi                           q5  gas     78000  ...   \n",
       "9570         audi       q7 3.6 premium quattro  gas    152000  ...   \n",
       "9616         audi    a3 2.0t premium plus pzev  gas    150184  ...   \n",
       "\n",
       "     age_category model_len model_word_count is_audi is_ford  is_chevrolet  \\\n",
       "58        average         2                1       1       0             0   \n",
       "104           new         2                1       1       0             0   \n",
       "125           new        27                5       1       0             0   \n",
       "195       average         2                1       1       0             0   \n",
       "251           new        24                5       1       0             0   \n",
       "...           ...       ...              ...     ...     ...           ...   \n",
       "9508          new         2                1       1       0             0   \n",
       "9551      average        15                3       1       0             0   \n",
       "9559      average         2                1       1       0             0   \n",
       "9570      average        22                4       1       0             0   \n",
       "9616      average        25                5       1       0             0   \n",
       "\n",
       "      is_toyota is_jeep is_honda is_nissan  \n",
       "58            0       0        0         0  \n",
       "104           0       0        0         0  \n",
       "125           0       0        0         0  \n",
       "195           0       0        0         0  \n",
       "251           0       0        0         0  \n",
       "...         ...     ...      ...       ...  \n",
       "9508          0       0        0         0  \n",
       "9551          0       0        0         0  \n",
       "9559          0       0        0         0  \n",
       "9570          0       0        0         0  \n",
       "9616          0       0        0         0  \n",
       "\n",
       "[193 rows x 38 columns]"
      ]
     },
     "execution_count": 37,
     "metadata": {},
     "output_type": "execute_result"
    }
   ],
   "source": [
    "# 3\n",
    "\n",
    "df[df['is_audi'] == 1]"
   ]
  },
  {
   "cell_type": "code",
   "execution_count": null,
   "id": "4161d417",
   "metadata": {},
   "outputs": [],
   "source": []
  }
 ],
 "metadata": {
  "colab": {
   "collapsed_sections": [],
   "name": "20.2_Практика.ipynb",
   "provenance": []
  },
  "kernelspec": {
   "display_name": "Python 3 (ipykernel)",
   "language": "python",
   "name": "python3"
  },
  "language_info": {
   "codemirror_mode": {
    "name": "ipython",
    "version": 3
   },
   "file_extension": ".py",
   "mimetype": "text/x-python",
   "name": "python",
   "nbconvert_exporter": "python",
   "pygments_lexer": "ipython3",
   "version": "3.11.5"
  },
  "toc": {
   "base_numbering": 1,
   "nav_menu": {},
   "number_sections": true,
   "sideBar": true,
   "skip_h1_title": false,
   "title_cell": "Table of Contents",
   "title_sidebar": "Contents",
   "toc_cell": false,
   "toc_position": {},
   "toc_section_display": true,
   "toc_window_display": false
  }
 },
 "nbformat": 4,
 "nbformat_minor": 5
}
